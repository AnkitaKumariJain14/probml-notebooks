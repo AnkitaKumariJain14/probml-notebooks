{
  "nbformat": 4,
  "nbformat_minor": 0,
  "metadata": {
    "colab": {
      "name": "haiku_intro.ipynb",
      "provenance": [],
      "authorship_tag": "ABX9TyM5CBeBREAn12bg+kHu7buE",
      "include_colab_link": true
    },
    "kernelspec": {
      "name": "python3",
      "display_name": "Python 3"
    },
    "language_info": {
      "name": "python"
    }
  },
  "cells": [
    {
      "cell_type": "markdown",
      "metadata": {
        "id": "view-in-github",
        "colab_type": "text"
      },
      "source": [
        "<a href=\"https://colab.research.google.com/github/probml/probml-notebooks/blob/main/haiku_intro.ipynb\" target=\"_parent\"><img src=\"https://colab.research.google.com/assets/colab-badge.svg\" alt=\"Open In Colab\"/></a>"
      ]
    },
    {
      "cell_type": "markdown",
      "metadata": {
        "id": "IbJqnWzn9L6S"
      },
      "source": [
        "# An introduction to neural networks using haiku\n",
        "\n",
        "https://github.com/deepmind/dm-haiku"
      ]
    },
    {
      "cell_type": "code",
      "metadata": {
        "id": "Yi0DMWY89LKZ"
      },
      "source": [
        "%%capture\n",
        "!pip install git+https://github.com/deepmind/dm-haiku\n",
        "import haiku as hk"
      ],
      "execution_count": null,
      "outputs": []
    },
    {
      "cell_type": "code",
      "metadata": {
        "id": "JpbH4Hhr9N_O"
      },
      "source": [
        ""
      ],
      "execution_count": null,
      "outputs": []
    }
  ]
}