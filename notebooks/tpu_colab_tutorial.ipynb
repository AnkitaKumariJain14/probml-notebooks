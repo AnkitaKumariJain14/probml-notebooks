{
 "cells": [
  {
   "cell_type": "markdown",
   "metadata": {
    "id": "IKu4IVYuxRaj"
   },
   "source": [
    "# TPUs in Colab\n",
    "**Authors**\n",
    "\n",
    "* Gerardo Durán-Martín\n",
    "* Mahmoud Soliman"
   ]
  },
  {
   "cell_type": "markdown",
   "metadata": {
    "id": "rSC4o4M6Wxc5"
   },
   "source": [
    "Before start this tutorial, make sure to configure your session correctly.\n",
    "\n",
    "### 1. First we authenticate GCP to our current session"
   ]
  },
  {
   "cell_type": "code",
   "execution_count": 16,
   "metadata": {
    "id": "gbQ4xcYrOVzl"
   },
   "outputs": [],
   "source": [
    "from google.colab import auth\n",
    "auth.authenticate_user()"
   ]
  },
  {
   "cell_type": "markdown",
   "metadata": {
    "id": "IuKMgyQSXICm"
   },
   "source": [
    "### 2. Next, we install GCloud SDK"
   ]
  },
  {
   "cell_type": "code",
   "execution_count": null,
   "metadata": {
    "id": "LOnrbTH7XO4O"
   },
   "outputs": [],
   "source": [
    "!curl -S https://sdk.cloud.google.com | bash"
   ]
  },
  {
   "cell_type": "markdown",
   "metadata": {
    "id": "9VlUkDu9XVVt"
   },
   "source": [
    "### 3. Finally, we initialise all the variables we will be using throughout this tutorial.\n",
    "\n",
    "We will create a `.sh` file that must be called at every cell that begins with `%%bash` as follows:\n",
    "\n",
    "```bash\n",
    "%%bash\n",
    "source /content/commands.sh\n",
    "# ... rest of the commands\n",
    "```"
   ]
  },
  {
   "cell_type": "code",
   "execution_count": 82,
   "metadata": {
    "colab": {
     "base_uri": "https://localhost:8080/"
    },
    "id": "eG-7t5ZTXfkO",
    "outputId": "c9e949de-ee33-44bd-9ba9-443c8df34c7a"
   },
   "outputs": [
    {
     "name": "stdout",
     "output_type": "stream",
     "text": [
      "Overwriting commands.sh\n"
     ]
    }
   ],
   "source": [
    "%%writefile commands.sh\n",
    "gcloud=\"/root/google-cloud-sdk/bin/gcloud\"\n",
    "gtpu=\"gcloud alpha compute tpus tpu-vm\"\n",
    "instance_name=\"probml-01-gerdm\" # Modify for your instance name \n",
    "tpu_zone=\"us-east1-d\"\n",
    "jax_install=\"pip install 'jax[tpu]>=0.2.16' -f https://storage.googleapis.com/jax-releases/libtpu_releases.html\""
   ]
  },
  {
   "cell_type": "markdown",
   "metadata": {
    "id": "K2upn6cBWozc"
   },
   "source": [
    "# gcloud\n",
    "\n",
    "This first section introduces the gloud command line. We can work in the cloud in one of two ways:\n",
    "\n",
    "1. Using the command line (this tutorial)\n",
    "2. Using the google cloud console ([console.cloud.google.com](https://console.cloud.google.com/))"
   ]
  },
  {
   "cell_type": "markdown",
   "metadata": {
    "id": "xEDGVNT9zdef"
   },
   "source": [
    "## Setup\n",
    "\n",
    "Our first step is to install `gcloud alpha`.\n",
    "\n",
    "- Installing `gcloud alpha`\n",
    "\n",
    "    We begin by installing the `gcloud alpha` command line. This will allow us to work with TPUs at Google cloud. Run the following command"
   ]
  },
  {
   "cell_type": "code",
   "execution_count": 65,
   "metadata": {
    "colab": {
     "base_uri": "https://localhost:8080/"
    },
    "id": "FrXfY-WhRONk",
    "outputId": "bf8e7231-389d-4bf6-9614-8c6cdd67a38b"
   },
   "outputs": [
    {
     "name": "stderr",
     "output_type": "stream",
     "text": [
      "\n",
      "All components are up to date.\n"
     ]
    }
   ],
   "source": [
    "%%bash\n",
    "source /content/commands.sh\n",
    "\n",
    "$gcloud components install alpha"
   ]
  },
  {
   "cell_type": "markdown",
   "metadata": {
    "id": "Zk33hqJtYeRz"
   },
   "source": [
    "Next, we set the project to `probml` "
   ]
  },
  {
   "cell_type": "code",
   "execution_count": null,
   "metadata": {
    "id": "nAhn8jntYmnd"
   },
   "outputs": [],
   "source": [
    "%%bash\n",
    "source /content/commands.sh\n",
    "\n",
    "$gcloud config set project probml"
   ]
  },
  {
   "cell_type": "markdown",
   "metadata": {
    "id": "dlq-_S2KYoKr"
   },
   "source": [
    "- Verify installation\n",
    "\n",
    "Finally, we verify that you've successfully installed `gcloud alpha` by running the following command. Make sure to have version `alpha 2021.06.25` or later."
   ]
  },
  {
   "cell_type": "code",
   "execution_count": 83,
   "metadata": {
    "colab": {
     "base_uri": "https://localhost:8080/"
    },
    "id": "wGpoCBwTY9k5",
    "outputId": "84c09ae1-37a3-4500-f965-6f97d8432d84"
   },
   "outputs": [
    {
     "name": "stdout",
     "output_type": "stream",
     "text": [
      "Google Cloud SDK 351.0.0\n",
      "alpha 2021.07.30\n",
      "bq 2.0.70\n",
      "core 2021.07.30\n",
      "gsutil 4.66\n"
     ]
    }
   ],
   "source": [
    "%%bash\n",
    "source /content/commands.sh\n",
    "\n",
    "$gcloud -v "
   ]
  },
  {
   "cell_type": "markdown",
   "metadata": {
    "id": "KZnbePahZHfw"
   },
   "source": [
    "# TPUS\n",
    "\n",
    "## The basics"
   ]
  },
  {
   "cell_type": "markdown",
   "metadata": {
    "id": "F4vE-BUTaFa7"
   },
   "source": [
    "### Creating an instance\n",
    "\n",
    "Each GSoC member obtains 8 v3-32 cores (or a Slice) when following the instructions outlined below.\n",
    "\n",
    "To create our first TPU instance, we run the following command. Note that `instance_name` should be unique (it was defined at the top of this tutorial)"
   ]
  },
  {
   "cell_type": "code",
   "execution_count": 67,
   "metadata": {
    "colab": {
     "base_uri": "https://localhost:8080/"
    },
    "id": "z_r9Eyti0toh",
    "outputId": "4b2af84d-6778-4e56-ac88-17977939abcc"
   },
   "outputs": [
    {
     "name": "stderr",
     "output_type": "stream",
     "text": [
      "Create request issued for: [probml-01-gerdm]\n",
      "Waiting for operation [projects/probml/locations/us-east1-d/operations/operation-1628065808121-5c8b79c2a006b-a528f872-851a3d0d] to complete...\n",
      ".......................................................................................................................................................................................................................................................................................................................................................................................done.\n",
      "Created tpu [probml-01-gerdm].\n"
     ]
    }
   ],
   "source": [
    "%%bash\n",
    "source /content/commands.sh\n",
    "$gtpu create $instance_name \\\n",
    "    --accelerator-type v3-32 \\\n",
    "    --version v2-alpha \\\n",
    "    --zone $tpu_zone"
   ]
  },
  {
   "cell_type": "markdown",
   "metadata": {
    "id": "-X3e-AwvZgDV"
   },
   "source": [
    "You can verify whether your instance has been created by running the following cell"
   ]
  },
  {
   "cell_type": "code",
   "execution_count": 68,
   "metadata": {
    "colab": {
     "base_uri": "https://localhost:8080/"
    },
    "id": "dg49Jo99OzOM",
    "outputId": "edcd718d-79bd-4d0e-c951-5a874ecac5d1"
   },
   "outputs": [
    {
     "name": "stdout",
     "output_type": "stream",
     "text": [
      "NAME              ZONE        ACCELERATOR_TYPE  NETWORK  RANGE          STATUS  API_VERSION\n",
      "probml-01-gerdm   us-east1-d  v3-32             default  10.142.0.0/20  READY   V2_ALPHA1\n",
      "murphyk-tpu       us-east1-d  v3-32             default  10.142.0.0/20  READY   V2_ALPHA1\n",
      "probml-05-srikar  us-east1-d  v3-32             default  10.142.0.0/20  READY   V2_ALPHA1\n",
      "probml-00-mjsml   us-east1-d  v3-32             default  10.142.0.0/20  READY   V2_ALPHA1\n"
     ]
    }
   ],
   "source": [
    "%%bash\n",
    "source /content/commands.sh\n",
    "$gcloud alpha compute tpus list --zone $tpu_zone"
   ]
  },
  {
   "cell_type": "markdown",
   "metadata": {
    "id": "RYn8VUkOZr33"
   },
   "source": [
    "### Deleting an instance\n",
    "\n",
    "To avoid extra costs, it is important to delete the instance after use (training, testing experimenting, etc.).\n",
    "\n",
    "To delete an instance, we create and run a cell with the following content\n",
    "\n",
    "```bash\n",
    "%%bash\n",
    "source /content/commands.sh\n",
    "\n",
    "$gtpu delete --quiet $instance_name --zone=$tpu_zone\n",
    "```\n",
    "\n",
    "**Make sure to delete your instance once you finish!!**"
   ]
  },
  {
   "cell_type": "markdown",
   "metadata": {
    "id": "Q_HAWg-EaZNI"
   },
   "source": [
    "# Jax"
   ]
  },
  {
   "cell_type": "markdown",
   "metadata": {
    "id": "5RBZsCE6ajyJ"
   },
   "source": [
    "### Installing Jax\n",
    "\n",
    "When connecting to an instance directly via ssh, it is important to note that running any Jax command will wait for the other hosts to be active. To void this, we have to run the desired code simultaneously on all the hosts.\n",
    "\n",
    "> To run JAX code on a TPU Pod slice, you must run the code **on each host in the TPU Pod slice.**\n",
    "\n",
    "In the next cell, we install Jax on each host of our slice."
   ]
  },
  {
   "cell_type": "code",
   "execution_count": null,
   "metadata": {
    "id": "bvEUfHCQUBSG"
   },
   "outputs": [],
   "source": [
    "%%bash\n",
    "source /content/commands.sh\n",
    "$gtpu ssh $instance_name \\\n",
    "    --zone $tpu_zone \\\n",
    "    --command \"$jax_install\" \\\n",
    "    --worker all # or machine instance 1..3"
   ]
  },
  {
   "cell_type": "markdown",
   "metadata": {
    "id": "VVXbpgxEarZd"
   },
   "source": [
    "### Example 1: Hello, TPUs!\n",
    "\n",
    "In this example, we create a `hello_tpu.sh` that asserts whether we can connect to all of the hosts. First, we create the `.sh` file that will be run **in each of the workers**."
   ]
  },
  {
   "cell_type": "code",
   "execution_count": 73,
   "metadata": {
    "colab": {
     "base_uri": "https://localhost:8080/"
    },
    "id": "h0Rm7QhHUGqx",
    "outputId": "aee29b2f-2707-4134-925b-7984909ca62a"
   },
   "outputs": [
    {
     "name": "stdout",
     "output_type": "stream",
     "text": [
      "Writing hello_tpu.sh\n"
     ]
    }
   ],
   "source": [
    "%%writefile hello_tpu.sh\n",
    "#!/bin/bash\n",
    "# file: hello_tpu.sh\n",
    "\n",
    "export gist_url=\"https://gist.github.com/1e8d226e7a744d22d010ca4980456c3a.git\"\n",
    "git clone $gist_url hello_gsoc\n",
    "python3 hello_gsoc/hello_tpu.py"
   ]
  },
  {
   "cell_type": "markdown",
   "metadata": {
    "id": "NWxXh1Gga_qJ"
   },
   "source": [
    "The content of `$gist_url` is the following\n",
    "\n",
    "You do not need to store the following file. Our script `hello_tpu.sh` will download the file to each of the hosts and run it.\n",
    "\n",
    "```python\n",
    "# Taken from https://cloud.google.com/tpu/docs/jax-pods\n",
    "# To be used by the Pyprobml GSoC 2021 team\n",
    "# The following code snippet will be run on all TPU hosts\n",
    "import jax\n",
    "\n",
    "# The total number of TPU cores in the pod\n",
    "device_count = jax.device_count()\n",
    "# The number of TPU cores attached to this host\n",
    "local_device_count = jax.local_device_count()\n",
    "\n",
    "# The psum is performed over all mapped devices across the pod\n",
    "xs = jax.numpy.ones(jax.local_device_count())\n",
    "r = jax.pmap(lambda x: jax.lax.psum(x, 'i'), axis_name='i')(xs)\n",
    "\n",
    "# Print from a single host to avoid duplicated output\n",
    "if jax.process_index() == 0:\n",
    "    print('global device count:', jax.device_count())\n",
    "    print('local device count:', jax.local_device_count())\n",
    "    print('pmap result:', r)%\n",
    "```\n",
    "\n",
    "Next, we run the code across all workers"
   ]
  },
  {
   "cell_type": "code",
   "execution_count": 78,
   "metadata": {
    "colab": {
     "base_uri": "https://localhost:8080/"
    },
    "id": "C0Svilz_U3PE",
    "outputId": "9fb1668e-f9b6-4883-a9b5-a8e3fbe8ca6a"
   },
   "outputs": [
    {
     "name": "stdout",
     "output_type": "stream",
     "text": [
      "global device count: 32\n",
      "local device count: 8\n",
      "pmap result: [32. 32. 32. 32. 32. 32. 32. 32.]\n"
     ]
    },
    {
     "name": "stderr",
     "output_type": "stream",
     "text": [
      "SSH: Attempting to connect to worker 0...\n",
      "SSH: Attempting to connect to worker 1...\n",
      "SSH: Attempting to connect to worker 2...\n",
      "SSH: Attempting to connect to worker 3...\n",
      "Cloning into 'hello_gsoc'...\n",
      "Cloning into 'hello_gsoc'...\n",
      "Cloning into 'hello_gsoc'...\n",
      "Cloning into 'hello_gsoc'...\n"
     ]
    }
   ],
   "source": [
    "%%bash\n",
    "source /content/commands.sh\n",
    "$gtpu ssh $instance_name \\\n",
    "    --zone $tpu_zone \\\n",
    "    --command \"$(<./hello_tpu.sh)\" \\\n",
    "    --worker all"
   ]
  },
  {
   "cell_type": "markdown",
   "metadata": {
    "id": "FDKJQwnLbQzD"
   },
   "source": [
    "### Example 2: 🚧K-nearest neighbours🚧\n",
    "\n",
    "In this example we train the MNIST dataset using the KNN algorithm `pmap`. Our program clones a Github gist into each of the hosts. We use the multi-device availability of our slice to delegate a part of the training to each of the workers.\n",
    "\n",
    "First, we create the script that will be run on each of the workers"
   ]
  },
  {
   "cell_type": "code",
   "execution_count": 79,
   "metadata": {
    "colab": {
     "base_uri": "https://localhost:8080/"
    },
    "id": "gD0_Vbr_VFWg",
    "outputId": "3a948227-b745-4d8a-c782-da0756770996"
   },
   "outputs": [
    {
     "name": "stdout",
     "output_type": "stream",
     "text": [
      "Writing knn_tpu.sh\n"
     ]
    }
   ],
   "source": [
    "%%writefile knn_tpu.sh\n",
    "#!/bin/bash\n",
    "# file: knn_tpu.sh\n",
    "\n",
    "export gist_url=\"https://gist.github.com/716a7bfd4c5c0c0e1949072f7b2e03a6.git\"\n",
    "pip3 install -q tensorflow_datasets\n",
    "git clone $gist_url demo\n",
    "python3 demo/knn_tpu.py"
   ]
  },
  {
   "cell_type": "markdown",
   "metadata": {
    "id": "HbuCmPMLbgzv"
   },
   "source": [
    "Next, we run the script"
   ]
  },
  {
   "cell_type": "code",
   "execution_count": 81,
   "metadata": {
    "colab": {
     "base_uri": "https://localhost:8080/"
    },
    "id": "4xBAeKlpVedt",
    "outputId": "6ff3a3fb-f799-4404-b0f3-7899dec65fc1"
   },
   "outputs": [
    {
     "name": "stdout",
     "output_type": "stream",
     "text": [
      "(8, 10, 20)\n",
      "class_rate=0.9125\n"
     ]
    },
    {
     "name": "stderr",
     "output_type": "stream",
     "text": [
      "SSH: Attempting to connect to worker 0...\n",
      "SSH: Attempting to connect to worker 1...\n",
      "SSH: Attempting to connect to worker 2...\n",
      "SSH: Attempting to connect to worker 3...\n",
      "WARNING: Running pip as root will break packages and permissions. You should install packages reliably by using venv: https://pip.pypa.io/warnings/venv\n",
      "WARNING: You are using pip version 21.1.2; however, version 21.2.2 is available.\n",
      "You should consider upgrading via the '/usr/bin/python3 -m pip install --upgrade pip' command.\n",
      "WARNING: Running pip as root will break packages and permissions. You should install packages reliably by using venv: https://pip.pypa.io/warnings/venv\n",
      "WARNING: Running pip as root will break packages and permissions. You should install packages reliably by using venv: https://pip.pypa.io/warnings/venv\n",
      "WARNING: You are using pip version 21.1.2; however, version 21.2.2 is available.\n",
      "You should consider upgrading via the '/usr/bin/python3 -m pip install --upgrade pip' command.\n",
      "WARNING: You are using pip version 21.1.2; however, version 21.2.2 is available.\n",
      "You should consider upgrading via the '/usr/bin/python3 -m pip install --upgrade pip' command.\n",
      "WARNING: Running pip as root will break packages and permissions. You should install packages reliably by using venv: https://pip.pypa.io/warnings/venv\n",
      "WARNING: You are using pip version 21.1.2; however, version 21.2.2 is available.\n",
      "You should consider upgrading via the '/usr/bin/python3 -m pip install --upgrade pip' command.\n",
      "fatal: destination path 'demo' already exists and is not an empty directory.\n",
      "fatal: destination path 'demo' already exists and is not an empty directory.\n",
      "fatal: destination path 'demo' already exists and is not an empty directory.\n",
      "fatal: destination path 'demo' already exists and is not an empty directory.\n",
      "WARNING:tensorflow:From /usr/local/lib/python3.8/dist-packages/tensorflow_datasets/core/dataset_builder.py:622: get_single_element (from tensorflow.python.data.experimental.ops.get_single_element) is deprecated and will be removed in a future version.\n",
      "Instructions for updating:\n",
      "Use `tf.data.Dataset.get_single_element()`.\n",
      "WARNING:tensorflow:From /usr/local/lib/python3.8/dist-packages/tensorflow_datasets/core/dataset_builder.py:622: get_single_element (from tensorflow.python.data.experimental.ops.get_single_element) is deprecated and will be removed in a future version.\n",
      "Instructions for updating:\n",
      "Use `tf.data.Dataset.get_single_element()`.\n",
      "WARNING:tensorflow:From /usr/local/lib/python3.8/dist-packages/tensorflow_datasets/core/dataset_builder.py:622: get_single_element (from tensorflow.python.data.experimental.ops.get_single_element) is deprecated and will be removed in a future version.\n",
      "Instructions for updating:\n",
      "Use `tf.data.Dataset.get_single_element()`.\n",
      "WARNING:tensorflow:From /usr/local/lib/python3.8/dist-packages/tensorflow_datasets/core/dataset_builder.py:622: get_single_element (from tensorflow.python.data.experimental.ops.get_single_element) is deprecated and will be removed in a future version.\n",
      "Instructions for updating:\n",
      "Use `tf.data.Dataset.get_single_element()`.\n",
      "WARNING:tensorflow:From /usr/local/lib/python3.8/dist-packages/tensorflow_datasets/core/dataset_builder.py:622: get_single_element (from tensorflow.python.data.experimental.ops.get_single_element) is deprecated and will be removed in a future version.\n",
      "Instructions for updating:\n",
      "Use `tf.data.Dataset.get_single_element()`.\n",
      "WARNING:tensorflow:From /usr/local/lib/python3.8/dist-packages/tensorflow_datasets/core/dataset_builder.py:622: get_single_element (from tensorflow.python.data.experimental.ops.get_single_element) is deprecated and will be removed in a future version.\n",
      "Instructions for updating:\n",
      "Use `tf.data.Dataset.get_single_element()`.\n",
      "WARNING:tensorflow:From /usr/local/lib/python3.8/dist-packages/tensorflow_datasets/core/dataset_builder.py:622: get_single_element (from tensorflow.python.data.experimental.ops.get_single_element) is deprecated and will be removed in a future version.\n",
      "Instructions for updating:\n",
      "Use `tf.data.Dataset.get_single_element()`.\n",
      "WARNING:tensorflow:From /usr/local/lib/python3.8/dist-packages/tensorflow_datasets/core/dataset_builder.py:622: get_single_element (from tensorflow.python.data.experimental.ops.get_single_element) is deprecated and will be removed in a future version.\n",
      "Instructions for updating:\n",
      "Use `tf.data.Dataset.get_single_element()`.\n"
     ]
    }
   ],
   "source": [
    "%%bash\n",
    "source /content/commands.sh\n",
    "\n",
    "$gtpu ssh $instance_name \\\n",
    "    --zone $tpu_zone \\\n",
    "    --command \"$(<./knn_tpu.sh)\" \\\n",
    "    --worker all"
   ]
  },
  {
   "cell_type": "markdown",
   "metadata": {
    "id": "4mZQ2T2ocEOV"
   },
   "source": [
    "# 🔪TPUs - The Sharp Bits🔪"
   ]
  },
  {
   "cell_type": "markdown",
   "metadata": {
    "id": "CUTrUrLHbvNX"
   },
   "source": [
    "\n",
    "## Service accounts\n",
    "\n",
    "Before creating a new TPU instance, make sure that the Admin of the project grants the correct IAM user/group roles for your service account\n",
    "\n",
    "- `TPU Admin`\n",
    "- `Service Account User`\n",
    "\n",
    "This prevents you from running into the following error\n",
    "\n",
    "![error](https://imgur.com/sMAV2A5.png)\n",
    "\n",
    "## Running Jax on a Pod\n",
    "\n",
    "When creating an instance, we obtain different *slices*. Running a parallel operation on a single slice will not perform any computation until all of the slices have been run in sync. In Jax, this is done using `jax.pmap` function\n",
    "\n",
    "## `pmap`ing a function\n",
    "\n",
    "> *The mapped axis size must be less than or equal to the number of local XLA devices available, as returned by jax.local_device_count() (unless devices is specified, [...])*\n",
    "\n",
    "## Misc\n",
    "\n",
    "- [Padding can tank your performance](https://github.com/google/jax/tree/main/cloud_tpu_colabs#padding)"
   ]
  },
  {
   "cell_type": "markdown",
   "metadata": {
    "id": "UE0c56Z2cLM4"
   },
   "source": [
    "# References\n",
    "\n",
    "- gcloud\n",
    "    - [gcloud CLI cheatsheet](https://cloud.google.com/sdk/docs/cheatsheet)\n",
    "    - [gcloud update components](https://cloud.google.com/sdk/gcloud/reference/components/update)\n",
    "- TPUs\n",
    "    - [Jax cloud TPU](https://cloud.google.com/tpu/docs/jax-quickstart-tpu-vm)\n",
    "    - [TPU VM User's guide](https://cloud.google.com/tpu/docs/users-guide-tpu-vm)\n",
    "    - [Jax TPUs on Slices](https://cloud.google.com/tpu/docs/jax-pods)\n",
    "- Jax\n",
    "    - [MNIST example with Flax](https://github.com/google/flax/tree/master/examples/mnist)\n",
    "    - [Parallelism in Jax](https://jax.readthedocs.io/en/latest/jax-101/06-parallelism.html)\n",
    "    - [Jax multi-hosts](https://jax.readthedocs.io/en/latest/multi_process.html)\n",
    "    - [ColCollective communication operations](https://colab.research.google.com/github/google/jax/blob/main/cloud_tpu_colabs/JAX_demo.ipynb#scrollTo=f-FBsWeo1AXE&uniqifier=1)"
   ]
  }
 ],
 "metadata": {
  "colab": {
   "collapsed_sections": [],
   "name": "tpu-colab-tutorial.ipynb",
   "provenance": [],
   "toc_visible": true
  },
  "kernelspec": {
   "display_name": "Python 3 (ipykernel)",
   "language": "python",
   "name": "python3"
  },
  "language_info": {
   "codemirror_mode": {
    "name": "ipython",
    "version": 3
   },
   "file_extension": ".py",
   "mimetype": "text/x-python",
   "name": "python",
   "nbconvert_exporter": "python",
   "pygments_lexer": "ipython3",
   "version": "3.9.6"
  }
 },
 "nbformat": 4,
 "nbformat_minor": 1
}
