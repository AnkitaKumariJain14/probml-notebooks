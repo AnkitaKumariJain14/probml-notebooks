{
  "nbformat": 4,
  "nbformat_minor": 0,
  "metadata": {
    "colab": {
      "name": "convert-image-formats.ipynb",
      "provenance": [],
      "include_colab_link": true
    },
    "kernelspec": {
      "display_name": "Python 3",
      "name": "python3"
    }
  },
  "cells": [
    {
      "cell_type": "markdown",
      "metadata": {
        "id": "view-in-github",
        "colab_type": "text"
      },
      "source": [
        "<a href=\"https://colab.research.google.com/github/probml/probml-notebooks/blob/main/notebooks/convert_image_formats.ipynb\" target=\"_parent\"><img src=\"https://colab.research.google.com/assets/colab-badge.svg\" alt=\"Open In Colab\"/></a>"
      ]
    },
    {
      "cell_type": "code",
      "metadata": {
        "colab": {
          "base_uri": "https://localhost:8080/"
        },
        "id": "W7b2aANn6nXv",
        "outputId": "06215177-22ff-46d8-98c9-23c44d611754"
      },
      "source": [
        "!pip install pdf2image"
      ],
      "execution_count": null,
      "outputs": [
        {
          "output_type": "stream",
          "text": [
            "Collecting pdf2image\n",
            "  Downloading pdf2image-1.16.0-py3-none-any.whl (10 kB)\n",
            "Requirement already satisfied: pillow in /usr/local/lib/python3.7/dist-packages (from pdf2image) (7.1.2)\n",
            "Installing collected packages: pdf2image\n",
            "Successfully installed pdf2image-1.16.0\n"
          ],
          "name": "stdout"
        }
      ]
    },
    {
      "cell_type": "code",
      "metadata": {
        "id": "lIYdn1woOS1n"
      },
      "source": [
        "import pdf2image"
      ],
      "execution_count": null,
      "outputs": []
    },
    {
      "cell_type": "code",
      "metadata": {
        "colab": {
          "base_uri": "https://localhost:8080/"
        },
        "id": "aZot-9nDzZSh",
        "outputId": "834911b3-5711-4f34-d5bd-e59499da9720"
      },
      "source": [
        "!sudo apt-get install poppler-utils"
      ],
      "execution_count": null,
      "outputs": [
        {
          "output_type": "stream",
          "text": [
            "Reading package lists... Done\n",
            "Building dependency tree       \n",
            "Reading state information... Done\n",
            "The following NEW packages will be installed:\n",
            "  poppler-utils\n",
            "0 upgraded, 1 newly installed, 0 to remove and 40 not upgraded.\n",
            "Need to get 154 kB of archives.\n",
            "After this operation, 613 kB of additional disk space will be used.\n",
            "Get:1 http://archive.ubuntu.com/ubuntu bionic-updates/main amd64 poppler-utils amd64 0.62.0-2ubuntu2.12 [154 kB]\n",
            "Fetched 154 kB in 0s (346 kB/s)\n",
            "debconf: unable to initialize frontend: Dialog\n",
            "debconf: (No usable dialog-like program is installed, so the dialog based frontend cannot be used. at /usr/share/perl5/Debconf/FrontEnd/Dialog.pm line 76, <> line 1.)\n",
            "debconf: falling back to frontend: Readline\n",
            "debconf: unable to initialize frontend: Readline\n",
            "debconf: (This frontend requires a controlling tty.)\n",
            "debconf: falling back to frontend: Teletype\n",
            "dpkg-preconfigure: unable to re-open stdin: \n",
            "Selecting previously unselected package poppler-utils.\n",
            "(Reading database ... 160837 files and directories currently installed.)\n",
            "Preparing to unpack .../poppler-utils_0.62.0-2ubuntu2.12_amd64.deb ...\n",
            "Unpacking poppler-utils (0.62.0-2ubuntu2.12) ...\n",
            "Setting up poppler-utils (0.62.0-2ubuntu2.12) ...\n",
            "Processing triggers for man-db (2.8.3-2ubuntu0.1) ...\n"
          ],
          "name": "stdout"
        }
      ]
    },
    {
      "cell_type": "code",
      "metadata": {
        "id": "uUfmQqvT3pML",
        "colab": {
          "base_uri": "https://localhost:8080/"
        },
        "outputId": "39b60281-daff-4725-cd66-fc4e5e5a500c"
      },
      "source": [
        "from google.colab import drive\n",
        "drive.mount('/content/drive',force_remount=True)"
      ],
      "execution_count": null,
      "outputs": [
        {
          "output_type": "stream",
          "text": [
            "Mounted at /content/drive\n"
          ],
          "name": "stdout"
        }
      ]
    },
    {
      "cell_type": "code",
      "metadata": {
        "colab": {
          "base_uri": "https://localhost:8080/"
        },
        "id": "RBDQYNSw9bxm",
        "outputId": "36d496d5-8948-474b-fc5f-7f08cddb63fc"
      },
      "source": [
        "from glob import glob\n",
        "files=glob(\"/content/drive/MyDrive/MLAPA/book-image-files/*.pdf\")\n",
        "p=[print(f) for f in files]"
      ],
      "execution_count": null,
      "outputs": [
        {
          "output_type": "stream",
          "text": [
            "/content/drive/MyDrive/MLAPA/book-image-files/2dgridDAGa.pdf\n",
            "/content/drive/MyDrive/MLAPA/book-image-files/3dcubeSum.pdf\n"
          ],
          "name": "stdout"
        }
      ]
    },
    {
      "cell_type": "code",
      "metadata": {
        "id": "tcFSkwAC08us"
      },
      "source": [
        "# pip install pdf2image\n",
        "# pip install --upgrade pillow\n",
        "\n",
        "import os\n",
        "import shutil\n",
        "from pdf2image import convert_from_path\n",
        "from PIL import Image\n",
        "from PIL import ImageCms\n",
        "import argparse\n",
        "from glob import glob\n",
        "from tqdm import tqdm\n",
        "import functools\n",
        "import multiprocessing\n",
        "import concurrent.futures \n",
        "\n",
        "\n",
        "\n",
        "\n",
        "\n",
        "def split_file_name(input_path):\n",
        "    base_name, dir_name = os.path.basename(input_path),os.path.dirname(input_path)\n",
        "    file_name,ext = os.path.splitext(os.path.basename(base_name))\n",
        "    return base_name, dir_name, file_name, ext\n",
        "\n",
        "def convert(input_path,output_path,color_space=\"CMYK\",input_profile_path=None,output_profile_path=None,quality=100,verbose=False,overwrite=False):\n",
        "    \"\"\" converts an image or pdf into a color space of choice\n",
        "        for CMYK the default output format is JPG\n",
        "        Keyword arguments:\n",
        "        input_path -- the input path of the file\n",
        "        output_path -- the output path for the result to be written.\n",
        "        color_space -- the color space to convert to , default value is CMYK\n",
        "        input_profile_path -- the path to the input profile \n",
        "        output_profile_path -- the path to the output profile\n",
        "    \"\"\"\n",
        "    try:\n",
        "        if not overwrite and os.path.exists(output_path):\n",
        "            return True\n",
        "        \n",
        "        if input_path.endswith(\".pdf\") or input_path.endswith(\".PDF\"):\n",
        "            _, dir_name, file_name, _ =split_file_name(output_path)\n",
        "            temp_file_name=\"temp\"+file_name\n",
        "            temp_file_path=os.path.join(dir_name,temp_file_name)\n",
        "            convert_from_path(input_path,output_file=temp_file_path,fmt=\"png\",use_pdftocairo=True,single_file=True)\n",
        "            temp_file_path+=\".png\"\n",
        "            _convert_profiles(temp_file_path,output_path,color_space=color_space,input_profile_path=input_profile_path,output_profile_path=output_profile_path,quality=quality)\n",
        "            os.remove(temp_file_path)\n",
        "            return True\n",
        "        elif input_path.endswith(\".png\") or input_path.endswith(\".PNG\") or \\\n",
        "            input_path.endswith(\".jpg\") or input_path.endswith(\".JPG\") or \\\n",
        "            input_path.endswith(\".jpeg\") or input_path.endswith(\".JPEG\") :\n",
        "            return _convert_profiles(input_path,output_path,color_space=color_space,input_profile_path=input_profile_path,output_profile_path=output_profile_path,quality=quality)\n",
        "        else:\n",
        "            print(f\"{input_path} is not a valid image file, copying it instead to {output_path}.\")\n",
        "            shutil.copy(input_path,output_path)\n",
        "            return False\n",
        "    except Exception as e:\n",
        "        if verbose:\n",
        "            print(f\"Error in file: {input_path}\\n\",e)\n",
        "        return False\n",
        "\n",
        "\n",
        "\n",
        "\n",
        "\n",
        "def _convert_profiles(input_path=None,output_path=None,color_space=\"CMYK\",input_profile_path=None,output_profile_path=None,quality=\"100\"):\n",
        "    try:\n",
        "        with Image.open(input_path) as im:\n",
        "            img_cmyk = ImageCms.profileToProfile(im, input_profile_path, output_profile_path, renderingIntent=0,outputMode=color_space)\n",
        "            quality=int(quality)\n",
        "            img_cmyk.save(output_path, quality=quality)\n",
        "            \n",
        "            return True\n",
        "    except Exception as e:\n",
        "        print(e)\n",
        "        print(f\"cannot convert{input_path}, copying it instead.\")\n",
        "        shutil.copy(input_path,output_path)\n",
        "        return False\n",
        "\n",
        "\n",
        "# from https://pillow.readthedocs.io/en/stable/handbook/tutorial.html?highlight=cmyk#using-the-image-class\n",
        "def check_image_properties(input_path):\n",
        "    try:\n",
        "        with Image.open(input_path) as im:\n",
        "            print(input_path, im.format, f\"{im.size}x{im.mode}\")\n",
        "    except OSError as e:\n",
        "        print(\"error opening the image\\n\",e)\n"
      ],
      "execution_count": null,
      "outputs": []
    },
    {
      "cell_type": "code",
      "metadata": {
        "id": "iLrfkajD4GBx"
      },
      "source": [
        "for f in files:\n",
        "  o=\"\".join(f.split(\".\")[:-1])\n",
        "  convert(f,\n",
        "          o+\".jpg\", \n",
        "          color_space=\"RGB\", \n",
        "          quality=80,\n",
        "          verbose=True,\n",
        "          input_profile_path='/content/drive/MyDrive/MLAPA/sRGB Color Space Profile.icm',\n",
        "          output_profile_path='/content/drive/MyDrive/MLAPA/sRGB Color Space Profile.icm')\n"
      ],
      "execution_count": null,
      "outputs": []
    },
    {
      "cell_type": "code",
      "metadata": {
        "id": "tIQWPYQN5NLX",
        "colab": {
          "base_uri": "https://localhost:8080/"
        },
        "outputId": "6e39dcf5-8724-4b5a-ea09-d71ae64b6a0e"
      },
      "source": [
        "!ls"
      ],
      "execution_count": null,
      "outputs": [
        {
          "output_type": "stream",
          "text": [
            "drive  sample_data\n"
          ],
          "name": "stdout"
        }
      ]
    },
    {
      "cell_type": "code",
      "metadata": {
        "colab": {
          "base_uri": "https://localhost:8080/"
        },
        "id": "wixLvxK5Astl",
        "outputId": "d1e3f6da-7a36-4739-96eb-2640110cb26c"
      },
      "source": [
        "!ls /content/drive/MyDrive/MLAPA/book-image-files"
      ],
      "execution_count": null,
      "outputs": [
        {
          "output_type": "stream",
          "text": [
            "2dgridDAGa.jpg\t2dgridDAGa.pdf\t3dcubeSum.jpg  3dcubeSum.pdf\n"
          ],
          "name": "stdout"
        }
      ]
    },
    {
      "cell_type": "code",
      "metadata": {
        "id": "ofDLPAvXAx2_"
      },
      "source": [
        ""
      ],
      "execution_count": null,
      "outputs": []
    }
  ]
}