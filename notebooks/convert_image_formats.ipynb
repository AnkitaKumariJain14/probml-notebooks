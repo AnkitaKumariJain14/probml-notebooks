{
  "nbformat": 4,
  "nbformat_minor": 0,
  "metadata": {
    "colab": {
      "name": "convert-image-formats.ipynb",
      "provenance": [],
      "include_colab_link": true
    },
    "kernelspec": {
      "display_name": "Python 3",
      "name": "python3"
    }
  },
  "cells": [
    {
      "cell_type": "markdown",
      "metadata": {
        "id": "view-in-github",
        "colab_type": "text"
      },
      "source": [
        "<a href=\"https://colab.research.google.com/github/probml/probml-notebooks/blob/main/notebooks/convert_image_formats.ipynb\" target=\"_parent\"><img src=\"https://colab.research.google.com/assets/colab-badge.svg\" alt=\"Open In Colab\"/></a>"
      ]
    },
    {
      "cell_type": "code",
      "metadata": {
        "colab": {
          "base_uri": "https://localhost:8080/"
        },
        "id": "W7b2aANn6nXv",
        "outputId": "b128e8f7-2aac-4c6e-ef94-992ec8477711"
      },
      "source": [
        "!pip install pdf2image"
      ],
      "execution_count": 1,
      "outputs": [
        {
          "output_type": "stream",
          "text": [
            "Collecting pdf2image\n",
            "  Downloading pdf2image-1.16.0-py3-none-any.whl (10 kB)\n",
            "Requirement already satisfied: pillow in /usr/local/lib/python3.7/dist-packages (from pdf2image) (7.1.2)\n",
            "Installing collected packages: pdf2image\n",
            "Successfully installed pdf2image-1.16.0\n"
          ],
          "name": "stdout"
        }
      ]
    },
    {
      "cell_type": "code",
      "metadata": {
        "id": "lIYdn1woOS1n"
      },
      "source": [
        "import pdf2image"
      ],
      "execution_count": 2,
      "outputs": []
    },
    {
      "cell_type": "code",
      "metadata": {
        "colab": {
          "base_uri": "https://localhost:8080/"
        },
        "id": "aZot-9nDzZSh",
        "outputId": "8744aaec-1e1c-4959-d694-93d39673eba7"
      },
      "source": [
        "!sudo apt-get install poppler-utils"
      ],
      "execution_count": 3,
      "outputs": [
        {
          "output_type": "stream",
          "text": [
            "Reading package lists... Done\n",
            "Building dependency tree       \n",
            "Reading state information... Done\n",
            "The following NEW packages will be installed:\n",
            "  poppler-utils\n",
            "0 upgraded, 1 newly installed, 0 to remove and 40 not upgraded.\n",
            "Need to get 154 kB of archives.\n",
            "After this operation, 613 kB of additional disk space will be used.\n",
            "Get:1 http://archive.ubuntu.com/ubuntu bionic-updates/main amd64 poppler-utils amd64 0.62.0-2ubuntu2.12 [154 kB]\n",
            "Fetched 154 kB in 0s (361 kB/s)\n",
            "debconf: unable to initialize frontend: Dialog\n",
            "debconf: (No usable dialog-like program is installed, so the dialog based frontend cannot be used. at /usr/share/perl5/Debconf/FrontEnd/Dialog.pm line 76, <> line 1.)\n",
            "debconf: falling back to frontend: Readline\n",
            "debconf: unable to initialize frontend: Readline\n",
            "debconf: (This frontend requires a controlling tty.)\n",
            "debconf: falling back to frontend: Teletype\n",
            "dpkg-preconfigure: unable to re-open stdin: \n",
            "Selecting previously unselected package poppler-utils.\n",
            "(Reading database ... 160837 files and directories currently installed.)\n",
            "Preparing to unpack .../poppler-utils_0.62.0-2ubuntu2.12_amd64.deb ...\n",
            "Unpacking poppler-utils (0.62.0-2ubuntu2.12) ...\n",
            "Setting up poppler-utils (0.62.0-2ubuntu2.12) ...\n",
            "Processing triggers for man-db (2.8.3-2ubuntu0.1) ...\n"
          ],
          "name": "stdout"
        }
      ]
    },
    {
      "cell_type": "code",
      "metadata": {
        "id": "uUfmQqvT3pML",
        "colab": {
          "base_uri": "https://localhost:8080/"
        },
        "outputId": "fc63e06b-c5c6-495a-e2e2-300fedd15104"
      },
      "source": [
        "from google.colab import drive\n",
        "drive.mount('/content/drive',force_remount=True)"
      ],
      "execution_count": 4,
      "outputs": [
        {
          "output_type": "stream",
          "text": [
            "Mounted at /content/drive\n"
          ],
          "name": "stdout"
        }
      ]
    },
    {
      "cell_type": "code",
      "metadata": {
        "id": "tcFSkwAC08us"
      },
      "source": [
        "# pip install pdf2image\n",
        "# pip install --upgrade pillow\n",
        "\n",
        "import os\n",
        "import shutil\n",
        "from pdf2image import convert_from_path\n",
        "from PIL import Image\n",
        "from PIL import ImageCms\n",
        "import argparse\n",
        "from glob import glob\n",
        "from tqdm import tqdm\n",
        "import functools\n",
        "import multiprocessing\n",
        "import concurrent.futures \n",
        "\n",
        "\n",
        "def split_file_name(input_path):\n",
        "    base_name, dir_name = os.path.basename(input_path),os.path.dirname(input_path)\n",
        "    file_name,ext = os.path.splitext(os.path.basename(base_name))\n",
        "    return base_name, dir_name, file_name, ext\n",
        "\n",
        "def convert(input_path,output_path,color_space=\"CMYK\",input_profile_path=None,output_profile_path=None,quality=100,verbose=False,overwrite=False):\n",
        "    \"\"\" converts an image or pdf into a color space of choice\n",
        "        for CMYK the default output format is JPG\n",
        "        Keyword arguments:\n",
        "        input_path -- the input path of the file\n",
        "        output_path -- the output path for the result to be written.\n",
        "        color_space -- the color space to convert to , default value is CMYK\n",
        "        input_profile_path -- the path to the input profile \n",
        "        output_profile_path -- the path to the output profile\n",
        "    \"\"\"\n",
        "    try:\n",
        "        if not overwrite and os.path.exists(output_path):\n",
        "            return True\n",
        "        \n",
        "        if input_path.endswith(\".pdf\") or input_path.endswith(\".PDF\"):\n",
        "            #_, dir_name, file_name, _ =split_file_name(output_path)\n",
        "            _, dir_name, file_name, _ =split_file_name(input_path)\n",
        "            temp_file_name=\"temp\"+file_name\n",
        "            temp_file_path=os.path.join(dir_name,temp_file_name)\n",
        "            print(\"converting \", input_path, \" to \", temp_file_path)\n",
        "            convert_from_path(input_path,output_file=temp_file_path,fmt=\"png\",use_pdftocairo=True,single_file=True,\n",
        "                              use_cropbox=True)\n",
        "            temp_file_path+=\".png\"\n",
        "            print(\"converting \", temp_file_path, \" to \", output_path)\n",
        "            _convert_profiles(temp_file_path,output_path,color_space=color_space,\n",
        "                              input_profile_path=input_profile_path,output_profile_path=output_profile_path,quality=quality)\n",
        "            os.remove(temp_file_path)\n",
        "            return True\n",
        "        elif input_path.endswith(\".png\") or input_path.endswith(\".PNG\") or \\\n",
        "            input_path.endswith(\".jpg\") or input_path.endswith(\".JPG\") or \\\n",
        "            input_path.endswith(\".jpeg\") or input_path.endswith(\".JPEG\") :\n",
        "            return _convert_profiles(input_path,output_path,color_space=color_space,input_profile_path=input_profile_path,output_profile_path=output_profile_path,quality=quality)\n",
        "        else:\n",
        "            print(f\"{input_path} is not a valid image file, copying it instead to {output_path}.\")\n",
        "            shutil.copy(input_path,output_path)\n",
        "            return False\n",
        "    except Exception as e:\n",
        "        if verbose:\n",
        "            print(f\"Error in file: {input_path}\\n\",e)\n",
        "        return False\n",
        "\n",
        "\n",
        "\n",
        "\n",
        "\n",
        "def _convert_profiles(input_path=None,output_path=None,color_space=\"CMYK\",input_profile_path=None,output_profile_path=None,quality=\"100\"):\n",
        "    try:\n",
        "        with Image.open(input_path) as im:\n",
        "            img_cmyk = ImageCms.profileToProfile(im, input_profile_path, output_profile_path, renderingIntent=0,outputMode=color_space)\n",
        "            quality=int(quality)\n",
        "            img_cmyk.save(output_path, quality=quality)\n",
        "            \n",
        "            return True\n",
        "    except Exception as e:\n",
        "        print(e)\n",
        "        print(f\"cannot convert{input_path}, copying it instead.\")\n",
        "        shutil.copy(input_path,output_path)\n",
        "        return False\n",
        "\n",
        "\n",
        "# from https://pillow.readthedocs.io/en/stable/handbook/tutorial.html?highlight=cmyk#using-the-image-class\n",
        "def check_image_properties(input_path):\n",
        "    try:\n",
        "        with Image.open(input_path) as im:\n",
        "            print(input_path, im.format, f\"{im.size}x{im.mode}\")\n",
        "    except OSError as e:\n",
        "        print(\"error opening the image\\n\",e)\n"
      ],
      "execution_count": 32,
      "outputs": []
    },
    {
      "cell_type": "code",
      "metadata": {
        "colab": {
          "base_uri": "https://localhost:8080/"
        },
        "id": "JI2y1Pax7Zu4",
        "outputId": "89aa33ec-ada9-4434-ddaf-94eedd828338"
      },
      "source": [
        "from glob import glob\n",
        "files=glob(\"/content/drive/MyDrive/MLAPA/book-images-original/*.*\")\n",
        "p=[print(f) for f in files]\n",
        "\n",
        "filenames = []\n",
        "for f in files:\n",
        "  parts = f.split(\"/\")\n",
        "  fname = parts[-1]\n",
        "  base = fname.split(\".\")[:-1][0]\n",
        "  #filenames.append(base)\n",
        "  filenames.append(fname)\n",
        "\n",
        "print(filenames)"
      ],
      "execution_count": 39,
      "outputs": [
        {
          "output_type": "stream",
          "text": [
            "/content/drive/MyDrive/MLAPA/book-images-original/ae_mnist_conv_20d_linear.pdf\n",
            "/content/drive/MyDrive/MLAPA/book-images-original/ae_mnist_conv_20d_samples.pdf\n",
            "/content/drive/MyDrive/MLAPA/book-images-original/separable-conv2d.pdf\n",
            "/content/drive/MyDrive/MLAPA/book-images-original/vae_mnist_conv_20d_samples.pdf\n",
            "/content/drive/MyDrive/MLAPA/book-images-original/vae_mnist_conv_20d_linear.pdf\n",
            "/content/drive/MyDrive/MLAPA/book-images-original/largeMarginPrinciple2.pdf\n",
            "/content/drive/MyDrive/MLAPA/book-images-original/svmCvSurf.pdf\n",
            "['ae_mnist_conv_20d_linear.pdf', 'ae_mnist_conv_20d_samples.pdf', 'separable-conv2d.pdf', 'vae_mnist_conv_20d_samples.pdf', 'vae_mnist_conv_20d_linear.pdf', 'largeMarginPrinciple2.pdf', 'svmCvSurf.pdf']\n"
          ],
          "name": "stdout"
        }
      ]
    },
    {
      "cell_type": "code",
      "metadata": {
        "id": "iLrfkajD4GBx",
        "colab": {
          "base_uri": "https://localhost:8080/"
        },
        "outputId": "ea766d7d-0dbc-41f2-ed5a-b39f08b17191"
      },
      "source": [
        "in_folder = \"/content/drive/MyDrive/MLAPA/book-images-original\"\n",
        "for use_rgb in [False, True]:\n",
        "  if use_rgb:\n",
        "    out_folder = \"/content/drive/MyDrive/MLAPA/book-images-rgb-80\"\n",
        "    color_space = \"RGB\"\n",
        "    quality = 80\n",
        "  else:\n",
        "    out_folder = \"/content/drive/MyDrive/MLAPA/book-images-cmyk-100\"\n",
        "    color_space = \"CMYK\"\n",
        "    quality = 100\n",
        "\n",
        "  rgb_profile = 'sRGB Color Space Profile.icm'\n",
        "  cmyk_profile = 'USWebCoatedSWOP.icc'\n",
        "  profile_folder = '/content/drive/MyDrive/MLAPA'\n",
        "  input_profile_path = f'{profile_folder}/{rgb_profile}'\n",
        "  if color_space == \"RGB\":\n",
        "    output_profile_path = f'{profile_folder}/{rgb_profile}'\n",
        "  else:\n",
        "    output_profile_path = f'{profile_folder}/{cmyk_profile}'\n",
        "\n",
        "  for fname in filenames:\n",
        "    base = fname.split(\".\")[:-1][0]\n",
        "    in_name = f'{in_folder}/{fname}'\n",
        "    #in_name = f'{in_folder}/{fname}.pdf'\n",
        "    out_name = f'{out_folder}/{base}.jpg'\n",
        "    print('!converting ', in_name, ' to ', out_name)\n",
        "    convert(in_name,\n",
        "            out_name, \n",
        "            color_space=color_space, \n",
        "            quality=quality,\n",
        "            verbose=True,\n",
        "            input_profile_path=input_profile_path,\n",
        "            output_profile_path=output_profile_path)\n"
      ],
      "execution_count": 40,
      "outputs": [
        {
          "output_type": "stream",
          "text": [
            "!converting  /content/drive/MyDrive/MLAPA/book-images-original/ae_mnist_conv_20d_linear.pdf  to  /content/drive/MyDrive/MLAPA/book-images-cmyk-100/ae_mnist_conv_20d_linear.jpg\n",
            "converting  /content/drive/MyDrive/MLAPA/book-images-original/ae_mnist_conv_20d_linear.pdf  to  /content/drive/MyDrive/MLAPA/book-images-original/tempae_mnist_conv_20d_linear\n",
            "converting  /content/drive/MyDrive/MLAPA/book-images-original/tempae_mnist_conv_20d_linear.png  to  /content/drive/MyDrive/MLAPA/book-images-cmyk-100/ae_mnist_conv_20d_linear.jpg\n",
            "!converting  /content/drive/MyDrive/MLAPA/book-images-original/ae_mnist_conv_20d_samples.pdf  to  /content/drive/MyDrive/MLAPA/book-images-cmyk-100/ae_mnist_conv_20d_samples.jpg\n",
            "converting  /content/drive/MyDrive/MLAPA/book-images-original/ae_mnist_conv_20d_samples.pdf  to  /content/drive/MyDrive/MLAPA/book-images-original/tempae_mnist_conv_20d_samples\n",
            "converting  /content/drive/MyDrive/MLAPA/book-images-original/tempae_mnist_conv_20d_samples.png  to  /content/drive/MyDrive/MLAPA/book-images-cmyk-100/ae_mnist_conv_20d_samples.jpg\n",
            "!converting  /content/drive/MyDrive/MLAPA/book-images-original/separable-conv2d.pdf  to  /content/drive/MyDrive/MLAPA/book-images-cmyk-100/separable-conv2d.jpg\n",
            "converting  /content/drive/MyDrive/MLAPA/book-images-original/separable-conv2d.pdf  to  /content/drive/MyDrive/MLAPA/book-images-original/tempseparable-conv2d\n",
            "converting  /content/drive/MyDrive/MLAPA/book-images-original/tempseparable-conv2d.png  to  /content/drive/MyDrive/MLAPA/book-images-cmyk-100/separable-conv2d.jpg\n",
            "!converting  /content/drive/MyDrive/MLAPA/book-images-original/vae_mnist_conv_20d_samples.pdf  to  /content/drive/MyDrive/MLAPA/book-images-cmyk-100/vae_mnist_conv_20d_samples.jpg\n",
            "converting  /content/drive/MyDrive/MLAPA/book-images-original/vae_mnist_conv_20d_samples.pdf  to  /content/drive/MyDrive/MLAPA/book-images-original/tempvae_mnist_conv_20d_samples\n",
            "converting  /content/drive/MyDrive/MLAPA/book-images-original/tempvae_mnist_conv_20d_samples.png  to  /content/drive/MyDrive/MLAPA/book-images-cmyk-100/vae_mnist_conv_20d_samples.jpg\n",
            "!converting  /content/drive/MyDrive/MLAPA/book-images-original/vae_mnist_conv_20d_linear.pdf  to  /content/drive/MyDrive/MLAPA/book-images-cmyk-100/vae_mnist_conv_20d_linear.jpg\n",
            "converting  /content/drive/MyDrive/MLAPA/book-images-original/vae_mnist_conv_20d_linear.pdf  to  /content/drive/MyDrive/MLAPA/book-images-original/tempvae_mnist_conv_20d_linear\n",
            "converting  /content/drive/MyDrive/MLAPA/book-images-original/tempvae_mnist_conv_20d_linear.png  to  /content/drive/MyDrive/MLAPA/book-images-cmyk-100/vae_mnist_conv_20d_linear.jpg\n",
            "!converting  /content/drive/MyDrive/MLAPA/book-images-original/largeMarginPrinciple2.pdf  to  /content/drive/MyDrive/MLAPA/book-images-cmyk-100/largeMarginPrinciple2.jpg\n",
            "converting  /content/drive/MyDrive/MLAPA/book-images-original/largeMarginPrinciple2.pdf  to  /content/drive/MyDrive/MLAPA/book-images-original/templargeMarginPrinciple2\n",
            "converting  /content/drive/MyDrive/MLAPA/book-images-original/templargeMarginPrinciple2.png  to  /content/drive/MyDrive/MLAPA/book-images-cmyk-100/largeMarginPrinciple2.jpg\n",
            "!converting  /content/drive/MyDrive/MLAPA/book-images-original/svmCvSurf.pdf  to  /content/drive/MyDrive/MLAPA/book-images-cmyk-100/svmCvSurf.jpg\n",
            "converting  /content/drive/MyDrive/MLAPA/book-images-original/svmCvSurf.pdf  to  /content/drive/MyDrive/MLAPA/book-images-original/tempsvmCvSurf\n",
            "converting  /content/drive/MyDrive/MLAPA/book-images-original/tempsvmCvSurf.png  to  /content/drive/MyDrive/MLAPA/book-images-cmyk-100/svmCvSurf.jpg\n",
            "!converting  /content/drive/MyDrive/MLAPA/book-images-original/ae_mnist_conv_20d_linear.pdf  to  /content/drive/MyDrive/MLAPA/book-images-rgb-80/ae_mnist_conv_20d_linear.jpg\n",
            "converting  /content/drive/MyDrive/MLAPA/book-images-original/ae_mnist_conv_20d_linear.pdf  to  /content/drive/MyDrive/MLAPA/book-images-original/tempae_mnist_conv_20d_linear\n",
            "converting  /content/drive/MyDrive/MLAPA/book-images-original/tempae_mnist_conv_20d_linear.png  to  /content/drive/MyDrive/MLAPA/book-images-rgb-80/ae_mnist_conv_20d_linear.jpg\n",
            "!converting  /content/drive/MyDrive/MLAPA/book-images-original/ae_mnist_conv_20d_samples.pdf  to  /content/drive/MyDrive/MLAPA/book-images-rgb-80/ae_mnist_conv_20d_samples.jpg\n",
            "converting  /content/drive/MyDrive/MLAPA/book-images-original/ae_mnist_conv_20d_samples.pdf  to  /content/drive/MyDrive/MLAPA/book-images-original/tempae_mnist_conv_20d_samples\n",
            "converting  /content/drive/MyDrive/MLAPA/book-images-original/tempae_mnist_conv_20d_samples.png  to  /content/drive/MyDrive/MLAPA/book-images-rgb-80/ae_mnist_conv_20d_samples.jpg\n",
            "!converting  /content/drive/MyDrive/MLAPA/book-images-original/separable-conv2d.pdf  to  /content/drive/MyDrive/MLAPA/book-images-rgb-80/separable-conv2d.jpg\n",
            "converting  /content/drive/MyDrive/MLAPA/book-images-original/separable-conv2d.pdf  to  /content/drive/MyDrive/MLAPA/book-images-original/tempseparable-conv2d\n",
            "converting  /content/drive/MyDrive/MLAPA/book-images-original/tempseparable-conv2d.png  to  /content/drive/MyDrive/MLAPA/book-images-rgb-80/separable-conv2d.jpg\n",
            "!converting  /content/drive/MyDrive/MLAPA/book-images-original/vae_mnist_conv_20d_samples.pdf  to  /content/drive/MyDrive/MLAPA/book-images-rgb-80/vae_mnist_conv_20d_samples.jpg\n",
            "converting  /content/drive/MyDrive/MLAPA/book-images-original/vae_mnist_conv_20d_samples.pdf  to  /content/drive/MyDrive/MLAPA/book-images-original/tempvae_mnist_conv_20d_samples\n",
            "converting  /content/drive/MyDrive/MLAPA/book-images-original/tempvae_mnist_conv_20d_samples.png  to  /content/drive/MyDrive/MLAPA/book-images-rgb-80/vae_mnist_conv_20d_samples.jpg\n",
            "!converting  /content/drive/MyDrive/MLAPA/book-images-original/vae_mnist_conv_20d_linear.pdf  to  /content/drive/MyDrive/MLAPA/book-images-rgb-80/vae_mnist_conv_20d_linear.jpg\n",
            "converting  /content/drive/MyDrive/MLAPA/book-images-original/vae_mnist_conv_20d_linear.pdf  to  /content/drive/MyDrive/MLAPA/book-images-original/tempvae_mnist_conv_20d_linear\n",
            "converting  /content/drive/MyDrive/MLAPA/book-images-original/tempvae_mnist_conv_20d_linear.png  to  /content/drive/MyDrive/MLAPA/book-images-rgb-80/vae_mnist_conv_20d_linear.jpg\n",
            "!converting  /content/drive/MyDrive/MLAPA/book-images-original/largeMarginPrinciple2.pdf  to  /content/drive/MyDrive/MLAPA/book-images-rgb-80/largeMarginPrinciple2.jpg\n",
            "converting  /content/drive/MyDrive/MLAPA/book-images-original/largeMarginPrinciple2.pdf  to  /content/drive/MyDrive/MLAPA/book-images-original/templargeMarginPrinciple2\n",
            "converting  /content/drive/MyDrive/MLAPA/book-images-original/templargeMarginPrinciple2.png  to  /content/drive/MyDrive/MLAPA/book-images-rgb-80/largeMarginPrinciple2.jpg\n",
            "!converting  /content/drive/MyDrive/MLAPA/book-images-original/svmCvSurf.pdf  to  /content/drive/MyDrive/MLAPA/book-images-rgb-80/svmCvSurf.jpg\n",
            "converting  /content/drive/MyDrive/MLAPA/book-images-original/svmCvSurf.pdf  to  /content/drive/MyDrive/MLAPA/book-images-original/tempsvmCvSurf\n",
            "converting  /content/drive/MyDrive/MLAPA/book-images-original/tempsvmCvSurf.png  to  /content/drive/MyDrive/MLAPA/book-images-rgb-80/svmCvSurf.jpg\n"
          ],
          "name": "stdout"
        }
      ]
    },
    {
      "cell_type": "code",
      "metadata": {
        "colab": {
          "base_uri": "https://localhost:8080/"
        },
        "id": "wixLvxK5Astl",
        "outputId": "b4263d6f-a6c3-4ba4-e53d-df9dd02b410a"
      },
      "source": [
        "!ls /content/drive/MyDrive/MLAPA/book-images-original"
      ],
      "execution_count": 35,
      "outputs": [
        {
          "output_type": "stream",
          "text": [
            "d2l-conv1d.pdf\t\t   d2l-densenet-v2.png\n",
            "d2l-conv-1x1.pdf\t   d2l-inception-full-rotated-v2.png\n",
            "d2l-conv-multi-in.pdf\t   d2l-inception.pdf\n",
            "d2l-correlation.pdf\t   d2l-lenet.pdf\n",
            "d2l-correlation-v2.png\t   d2l-pooling.pdf\n",
            "d2l-densenet-block.pdf\t   EigenFergusNoModel.pdf\n",
            "d2l-densenet-block-v2.png  EigenFergus-v2.png\n",
            "d2l-densenet.pdf\n"
          ],
          "name": "stdout"
        }
      ]
    },
    {
      "cell_type": "code",
      "metadata": {
        "id": "ofDLPAvXAx2_",
        "colab": {
          "base_uri": "https://localhost:8080/"
        },
        "outputId": "88f7c3d1-c111-4d25-e9be-2fb06e2bd441"
      },
      "source": [
        "!ls /content/drive/MyDrive/MLAPA/book-images-rgb-80"
      ],
      "execution_count": 36,
      "outputs": [
        {
          "output_type": "stream",
          "text": [
            "d2l-conv1d.jpg\t\t   d2l-densenet-v2.jpg\n",
            "d2l-conv-1x1.jpg\t   d2l-inception-full-rotated-v2.jpg\n",
            "d2l-conv-multi-in.jpg\t   d2l-inception.jpg\n",
            "d2l-correlation.jpg\t   d2l-lenet.jpg\n",
            "d2l-correlation-v2.jpg\t   d2l-pooling.jpg\n",
            "d2l-densenet-block.jpg\t   EigenFergusNoModel.jpg\n",
            "d2l-densenet-block-v2.jpg  EigenFergus-v2.jpg\n",
            "d2l-densenet.jpg\n"
          ],
          "name": "stdout"
        }
      ]
    },
    {
      "cell_type": "code",
      "metadata": {
        "colab": {
          "base_uri": "https://localhost:8080/"
        },
        "id": "IzQJPfb-KSzK",
        "outputId": "be0e9138-a7f6-465c-a332-2f8d644cbbcf"
      },
      "source": [
        "!ls /content/drive/MyDrive/MLAPA/book-images-cmyk-100"
      ],
      "execution_count": 37,
      "outputs": [
        {
          "output_type": "stream",
          "text": [
            "d2l-conv1d.jpg\t\t   d2l-densenet-v2.jpg\n",
            "d2l-conv-1x1.jpg\t   d2l-inception-full-rotated-v2.jpg\n",
            "d2l-conv-multi-in.jpg\t   d2l-inception.jpg\n",
            "d2l-correlation.jpg\t   d2l-lenet.jpg\n",
            "d2l-correlation-v2.jpg\t   d2l-pooling.jpg\n",
            "d2l-densenet-block.jpg\t   EigenFergusNoModel.jpg\n",
            "d2l-densenet-block-v2.jpg  EigenFergus-v2.jpg\n",
            "d2l-densenet.jpg\n"
          ],
          "name": "stdout"
        }
      ]
    },
    {
      "cell_type": "code",
      "metadata": {
        "id": "qyhK5xB2KWZx"
      },
      "source": [
        ""
      ],
      "execution_count": null,
      "outputs": []
    }
  ]
}