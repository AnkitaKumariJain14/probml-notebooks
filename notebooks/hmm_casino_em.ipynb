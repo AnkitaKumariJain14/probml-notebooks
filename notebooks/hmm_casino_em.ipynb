{
  "nbformat": 4,
  "nbformat_minor": 0,
  "metadata": {
    "colab": {
      "name": "hmm_casino_em.ipynb",
      "provenance": [],
      "authorship_tag": "ABX9TyPJ6aPtlZIGasWds8NrR+N9",
      "include_colab_link": true
    },
    "kernelspec": {
      "name": "python3",
      "display_name": "Python 3"
    },
    "language_info": {
      "name": "python"
    }
  },
  "cells": [
    {
      "cell_type": "markdown",
      "metadata": {
        "id": "view-in-github",
        "colab_type": "text"
      },
      "source": [
        "<a href=\"https://colab.research.google.com/github/probml/probml-notebooks/blob/main/notebooks/hmm_casino_em.ipynb\" target=\"_parent\"><img src=\"https://colab.research.google.com/assets/colab-badge.svg\" alt=\"Open In Colab\"/></a>"
      ]
    },
    {
      "cell_type": "markdown",
      "metadata": {
        "id": "HfilSsrwY5vQ"
      },
      "source": [
        "# Fit a discrete HMM to the casino dataset using EM."
      ]
    },
    {
      "cell_type": "code",
      "metadata": {
        "colab": {
          "base_uri": "https://localhost:8080/"
        },
        "id": "UFkO5HznXH7A",
        "outputId": "9e923d22-8083-4b99-975f-82f0e3424113"
      },
      "source": [
        "!pip install flax"
      ],
      "execution_count": 1,
      "outputs": [
        {
          "output_type": "stream",
          "text": [
            "Collecting flax\n",
            "  Downloading flax-0.3.4-py3-none-any.whl (183 kB)\n",
            "\u001b[?25l\r\u001b[K     |█▉                              | 10 kB 24.9 MB/s eta 0:00:01\r\u001b[K     |███▋                            | 20 kB 28.6 MB/s eta 0:00:01\r\u001b[K     |█████▍                          | 30 kB 18.7 MB/s eta 0:00:01\r\u001b[K     |███████▏                        | 40 kB 12.5 MB/s eta 0:00:01\r\u001b[K     |█████████                       | 51 kB 7.4 MB/s eta 0:00:01\r\u001b[K     |██████████▊                     | 61 kB 7.2 MB/s eta 0:00:01\r\u001b[K     |████████████▌                   | 71 kB 7.5 MB/s eta 0:00:01\r\u001b[K     |██████████████▎                 | 81 kB 8.3 MB/s eta 0:00:01\r\u001b[K     |████████████████                | 92 kB 8.7 MB/s eta 0:00:01\r\u001b[K     |█████████████████▉              | 102 kB 7.1 MB/s eta 0:00:01\r\u001b[K     |███████████████████▋            | 112 kB 7.1 MB/s eta 0:00:01\r\u001b[K     |█████████████████████▌          | 122 kB 7.1 MB/s eta 0:00:01\r\u001b[K     |███████████████████████▎        | 133 kB 7.1 MB/s eta 0:00:01\r\u001b[K     |█████████████████████████       | 143 kB 7.1 MB/s eta 0:00:01\r\u001b[K     |██████████████████████████▉     | 153 kB 7.1 MB/s eta 0:00:01\r\u001b[K     |████████████████████████████▋   | 163 kB 7.1 MB/s eta 0:00:01\r\u001b[K     |██████████████████████████████▍ | 174 kB 7.1 MB/s eta 0:00:01\r\u001b[K     |████████████████████████████████| 183 kB 7.1 MB/s \n",
            "\u001b[?25hRequirement already satisfied: jax>=0.2.13 in /usr/local/lib/python3.7/dist-packages (from flax) (0.2.17)\n",
            "Requirement already satisfied: matplotlib in /usr/local/lib/python3.7/dist-packages (from flax) (3.2.2)\n",
            "Collecting optax\n",
            "  Downloading optax-0.0.9-py3-none-any.whl (118 kB)\n",
            "\u001b[K     |████████████████████████████████| 118 kB 12.1 MB/s \n",
            "\u001b[?25hRequirement already satisfied: numpy>=1.12 in /usr/local/lib/python3.7/dist-packages (from flax) (1.19.5)\n",
            "Requirement already satisfied: msgpack in /usr/local/lib/python3.7/dist-packages (from flax) (1.0.2)\n",
            "Requirement already satisfied: absl-py in /usr/local/lib/python3.7/dist-packages (from jax>=0.2.13->flax) (0.12.0)\n",
            "Requirement already satisfied: opt-einsum in /usr/local/lib/python3.7/dist-packages (from jax>=0.2.13->flax) (3.3.0)\n",
            "Requirement already satisfied: six in /usr/local/lib/python3.7/dist-packages (from absl-py->jax>=0.2.13->flax) (1.15.0)\n",
            "Requirement already satisfied: cycler>=0.10 in /usr/local/lib/python3.7/dist-packages (from matplotlib->flax) (0.10.0)\n",
            "Requirement already satisfied: kiwisolver>=1.0.1 in /usr/local/lib/python3.7/dist-packages (from matplotlib->flax) (1.3.1)\n",
            "Requirement already satisfied: python-dateutil>=2.1 in /usr/local/lib/python3.7/dist-packages (from matplotlib->flax) (2.8.1)\n",
            "Requirement already satisfied: pyparsing!=2.0.4,!=2.1.2,!=2.1.6,>=2.0.1 in /usr/local/lib/python3.7/dist-packages (from matplotlib->flax) (2.4.7)\n",
            "Requirement already satisfied: jaxlib>=0.1.37 in /usr/local/lib/python3.7/dist-packages (from optax->flax) (0.1.69+cuda110)\n",
            "Collecting chex>=0.0.4\n",
            "  Downloading chex-0.0.8-py3-none-any.whl (57 kB)\n",
            "\u001b[K     |████████████████████████████████| 57 kB 4.9 MB/s \n",
            "\u001b[?25hRequirement already satisfied: toolz>=0.9.0 in /usr/local/lib/python3.7/dist-packages (from chex>=0.0.4->optax->flax) (0.11.1)\n",
            "Requirement already satisfied: dm-tree>=0.1.5 in /usr/local/lib/python3.7/dist-packages (from chex>=0.0.4->optax->flax) (0.1.6)\n",
            "Requirement already satisfied: flatbuffers<3.0,>=1.12 in /usr/local/lib/python3.7/dist-packages (from jaxlib>=0.1.37->optax->flax) (1.12)\n",
            "Requirement already satisfied: scipy in /usr/local/lib/python3.7/dist-packages (from jaxlib>=0.1.37->optax->flax) (1.4.1)\n",
            "Installing collected packages: chex, optax, flax\n",
            "Successfully installed chex-0.0.8 flax-0.3.4 optax-0.0.9\n"
          ],
          "name": "stdout"
        }
      ]
    },
    {
      "cell_type": "code",
      "metadata": {
        "id": "wYyi7HOPX6RW"
      },
      "source": [
        "!git clone https://github.com/probml/pyprobml /pyprobml &> /dev/null\n",
        "%cd -q /pyprobml/scripts"
      ],
      "execution_count": 2,
      "outputs": []
    },
    {
      "cell_type": "code",
      "metadata": {
        "colab": {
          "base_uri": "https://localhost:8080/",
          "height": 16
        },
        "id": "jpbr2G7meEsZ",
        "outputId": "909b12c2-54c0-4af6-d67e-b18c57f087e7"
      },
      "source": [
        "file = 'hmm_discrete_lib.py' \n",
        "!touch $file # create empty file if does not already exist\n",
        "from google.colab import files\n",
        "files.view(file) # open editor"
      ],
      "execution_count": 3,
      "outputs": [
        {
          "output_type": "display_data",
          "data": {
            "application/javascript": [
              "\n",
              "      ((filepath) => {{\n",
              "        if (!google.colab.kernel.accessAllowed) {{\n",
              "          return;\n",
              "        }}\n",
              "        google.colab.files.view(filepath);\n",
              "      }})(\"/pyprobml/scripts/hmm_discrete_lib.py\")"
            ],
            "text/plain": [
              "<IPython.core.display.Javascript object>"
            ]
          },
          "metadata": {
            "tags": []
          }
        }
      ]
    },
    {
      "cell_type": "code",
      "metadata": {
        "id": "5djokYRSX8G8"
      },
      "source": [
        "\n",
        "import jax.numpy as jnp\n",
        "from jax.random import split, PRNGKey, randint\n",
        "\n",
        "import numpy as np\n",
        "\n",
        "from hmm_discrete_lib import HMMNumpy, HMMJax, hmm_sample_jax\n",
        "from hmm_discrete_lib import hmm_plot_graphviz\n",
        "\n",
        "from hmm_discrete_em_lib import init_random_params_jax\n",
        "from hmm_discrete_em_lib import hmm_em_numpy, hmm_em_jax\n",
        "\n",
        "import hmm_utils\n",
        "\n",
        "import time\n",
        "\n",
        "import graphviz \n",
        "from graphviz import Digraph\n"
      ],
      "execution_count": 4,
      "outputs": []
    },
    {
      "cell_type": "markdown",
      "metadata": {
        "id": "_0-b-82ZY912"
      },
      "source": [
        "# Generate data from the true model"
      ]
    },
    {
      "cell_type": "code",
      "metadata": {
        "colab": {
          "base_uri": "https://localhost:8080/"
        },
        "id": "JY0_lo2gZBIt",
        "outputId": "52a6872b-4d2d-4fdd-998a-9959e1afd289"
      },
      "source": [
        "A = jnp.array([\n",
        "    [0.95, 0.05],\n",
        "    [0.10, 0.90]\n",
        "])\n",
        "\n",
        "# observation matrix\n",
        "B = jnp.array([\n",
        "    [1/6, 1/6, 1/6, 1/6, 1/6, 1/6], # fair die\n",
        "    [1/10, 1/10, 1/10, 1/10, 1/10, 5/10] # loaded die\n",
        "])\n",
        "\n",
        "pi = jnp.array([1, 1]) / 2\n",
        "\n",
        "seed = 42 #100\n",
        "rng_key = PRNGKey(seed)\n",
        "rng_key, rng_sample, rng_batch, rng_init = split(rng_key, 4)\n",
        "\n",
        "casino = HMMJax(A, B, pi)\n",
        "\n",
        "n_obs_seq, batch_size, max_len = 5, 5, 3000\n",
        "\n",
        "observations, lens = hmm_utils.hmm_sample_n(casino,\n",
        "                                            hmm_sample_jax,\n",
        "                                            n_obs_seq, max_len,\n",
        "                                            rng_sample)\n",
        "observations, lens = hmm_utils.pad_sequences(observations, lens)\n"
      ],
      "execution_count": 5,
      "outputs": [
        {
          "output_type": "stream",
          "text": [
            "WARNING:absl:No GPU/TPU found, falling back to CPU. (Set TF_CPP_MIN_LOG_LEVEL=0 and rerun for more info.)\n"
          ],
          "name": "stderr"
        }
      ]
    },
    {
      "cell_type": "code",
      "metadata": {
        "colab": {
          "base_uri": "https://localhost:8080/",
          "height": 401
        },
        "id": "diJKWJwOadYt",
        "outputId": "d55b8f69-d579-467f-9c46-f6b66f7647e5"
      },
      "source": [
        "\n",
        "states, observations = ['Fair Dice', 'Loaded Dice'], [str(i+1) for i in range(B.shape[1])]\n",
        "\n",
        "dot = hmm_plot_graphviz(casino, '../figures/hmm_casino_true', states, observations)\n",
        "dot"
      ],
      "execution_count": 6,
      "outputs": [
        {
          "output_type": "execute_result",
          "data": {
            "text/plain": [
              "<graphviz.dot.Digraph at 0x7fd883d579d0>"
            ],
            "image/svg+xml": "<?xml version=\"1.0\" encoding=\"UTF-8\" standalone=\"no\"?>\n<!DOCTYPE svg PUBLIC \"-//W3C//DTD SVG 1.1//EN\"\n \"http://www.w3.org/Graphics/SVG/1.1/DTD/svg11.dtd\">\n<!-- Generated by graphviz version 2.40.1 (20161225.0304)\n -->\n<!-- Title: %3 Pages: 1 -->\n<svg width=\"335pt\" height=\"286pt\"\n viewBox=\"0.00 0.00 335.46 285.66\" xmlns=\"http://www.w3.org/2000/svg\" xmlns:xlink=\"http://www.w3.org/1999/xlink\">\n<g id=\"graph0\" class=\"graph\" transform=\"scale(1 1) rotate(0) translate(4 281.6589)\">\n<title>%3</title>\n<polygon fill=\"#ffffff\" stroke=\"transparent\" points=\"-4,4 -4,-281.6589 331.4579,-281.6589 331.4579,4 -4,4\"/>\n<!-- s0 -->\n<g id=\"node1\" class=\"node\">\n<title>s0</title>\n<ellipse fill=\"none\" stroke=\"#000000\" cx=\"58.6899\" cy=\"-122.3295\" rx=\"58.8803\" ry=\"122.1592\"/>\n<polygon fill=\"#add8e6\" stroke=\"transparent\" points=\"28.6899,-180.3295 28.6899,-201.3295 89.6899,-201.3295 89.6899,-180.3295 28.6899,-180.3295\"/>\n<polygon fill=\"none\" stroke=\"#000000\" points=\"28.6899,-180.3295 28.6899,-201.3295 89.6899,-201.3295 89.6899,-180.3295 28.6899,-180.3295\"/>\n<text text-anchor=\"start\" x=\"32.6899\" y=\"-187.1295\" font-family=\"Times,serif\" font-size=\"14.00\" fill=\"#000000\">Fair Dice</text>\n<polygon fill=\"none\" stroke=\"#000000\" points=\"28.6899,-157.3295 28.6899,-178.3295 48.6899,-178.3295 48.6899,-157.3295 28.6899,-157.3295\"/>\n<text text-anchor=\"start\" x=\"34.6899\" y=\"-164.1295\" font-family=\"Times,serif\" font-size=\"14.00\" fill=\"#000000\">1</text>\n<polygon fill=\"none\" stroke=\"#000000\" points=\"50.6899,-157.3295 50.6899,-178.3295 89.6899,-178.3295 89.6899,-157.3295 50.6899,-157.3295\"/>\n<text text-anchor=\"start\" x=\"56.6899\" y=\"-164.1295\" font-family=\"Times,serif\" font-size=\"14.00\" fill=\"#000000\">0.17</text>\n<polygon fill=\"none\" stroke=\"#000000\" points=\"28.6899,-134.3295 28.6899,-155.3295 48.6899,-155.3295 48.6899,-134.3295 28.6899,-134.3295\"/>\n<text text-anchor=\"start\" x=\"34.6899\" y=\"-141.1295\" font-family=\"Times,serif\" font-size=\"14.00\" fill=\"#000000\">2</text>\n<polygon fill=\"none\" stroke=\"#000000\" points=\"50.6899,-134.3295 50.6899,-155.3295 89.6899,-155.3295 89.6899,-134.3295 50.6899,-134.3295\"/>\n<text text-anchor=\"start\" x=\"56.6899\" y=\"-141.1295\" font-family=\"Times,serif\" font-size=\"14.00\" fill=\"#000000\">0.17</text>\n<polygon fill=\"none\" stroke=\"#000000\" points=\"28.6899,-111.3295 28.6899,-132.3295 48.6899,-132.3295 48.6899,-111.3295 28.6899,-111.3295\"/>\n<text text-anchor=\"start\" x=\"34.6899\" y=\"-118.1295\" font-family=\"Times,serif\" font-size=\"14.00\" fill=\"#000000\">3</text>\n<polygon fill=\"none\" stroke=\"#000000\" points=\"50.6899,-111.3295 50.6899,-132.3295 89.6899,-132.3295 89.6899,-111.3295 50.6899,-111.3295\"/>\n<text text-anchor=\"start\" x=\"56.6899\" y=\"-118.1295\" font-family=\"Times,serif\" font-size=\"14.00\" fill=\"#000000\">0.17</text>\n<polygon fill=\"none\" stroke=\"#000000\" points=\"28.6899,-88.3295 28.6899,-109.3295 48.6899,-109.3295 48.6899,-88.3295 28.6899,-88.3295\"/>\n<text text-anchor=\"start\" x=\"34.6899\" y=\"-95.1295\" font-family=\"Times,serif\" font-size=\"14.00\" fill=\"#000000\">4</text>\n<polygon fill=\"none\" stroke=\"#000000\" points=\"50.6899,-88.3295 50.6899,-109.3295 89.6899,-109.3295 89.6899,-88.3295 50.6899,-88.3295\"/>\n<text text-anchor=\"start\" x=\"56.6899\" y=\"-95.1295\" font-family=\"Times,serif\" font-size=\"14.00\" fill=\"#000000\">0.17</text>\n<polygon fill=\"none\" stroke=\"#000000\" points=\"28.6899,-65.3295 28.6899,-86.3295 48.6899,-86.3295 48.6899,-65.3295 28.6899,-65.3295\"/>\n<text text-anchor=\"start\" x=\"34.6899\" y=\"-72.1295\" font-family=\"Times,serif\" font-size=\"14.00\" fill=\"#000000\">5</text>\n<polygon fill=\"none\" stroke=\"#000000\" points=\"50.6899,-65.3295 50.6899,-86.3295 89.6899,-86.3295 89.6899,-65.3295 50.6899,-65.3295\"/>\n<text text-anchor=\"start\" x=\"56.6899\" y=\"-72.1295\" font-family=\"Times,serif\" font-size=\"14.00\" fill=\"#000000\">0.17</text>\n<polygon fill=\"none\" stroke=\"#000000\" points=\"28.6899,-42.3295 28.6899,-63.3295 48.6899,-63.3295 48.6899,-42.3295 28.6899,-42.3295\"/>\n<text text-anchor=\"start\" x=\"34.6899\" y=\"-49.1295\" font-family=\"Times,serif\" font-size=\"14.00\" fill=\"#000000\">6</text>\n<polygon fill=\"none\" stroke=\"#000000\" points=\"50.6899,-42.3295 50.6899,-63.3295 89.6899,-63.3295 89.6899,-42.3295 50.6899,-42.3295\"/>\n<text text-anchor=\"start\" x=\"56.6899\" y=\"-49.1295\" font-family=\"Times,serif\" font-size=\"14.00\" fill=\"#000000\">0.17</text>\n<polygon fill=\"none\" stroke=\"#000000\" points=\"25.1899,-39.8295 25.1899,-204.8295 92.1899,-204.8295 92.1899,-39.8295 25.1899,-39.8295\"/>\n</g>\n<!-- s0&#45;&gt;s0 -->\n<g id=\"edge1\" class=\"edge\">\n<title>s0&#45;&gt;s0</title>\n<path fill=\"none\" stroke=\"#000000\" d=\"M44.4938,-241.0865C47.1903,-254.1953 51.9223,-262.6589 58.6899,-262.6589 63.5541,-262.6589 67.3667,-258.2866 70.1277,-250.9598\"/>\n<polygon fill=\"#000000\" stroke=\"#000000\" points=\"73.5662,-251.6595 72.8859,-241.0865 66.8243,-249.776 73.5662,-251.6595\"/>\n<text text-anchor=\"middle\" x=\"58.6899\" y=\"-266.4589\" font-family=\"Times,serif\" font-size=\"14.00\" fill=\"#000000\">0.95</text>\n</g>\n<!-- s1 -->\n<g id=\"node2\" class=\"node\">\n<title>s1</title>\n<ellipse fill=\"none\" stroke=\"#000000\" cx=\"253.9188\" cy=\"-122.3295\" rx=\"73.5782\" ry=\"122.1592\"/>\n<polygon fill=\"#add8e6\" stroke=\"transparent\" points=\"212.9188,-180.3295 212.9188,-201.3295 294.9188,-201.3295 294.9188,-180.3295 212.9188,-180.3295\"/>\n<polygon fill=\"none\" stroke=\"#000000\" points=\"212.9188,-180.3295 212.9188,-201.3295 294.9188,-201.3295 294.9188,-180.3295 212.9188,-180.3295\"/>\n<text text-anchor=\"start\" x=\"216.9188\" y=\"-187.1295\" font-family=\"Times,serif\" font-size=\"14.00\" fill=\"#000000\">Loaded Dice</text>\n<polygon fill=\"none\" stroke=\"#000000\" points=\"212.9188,-157.3295 212.9188,-178.3295 242.9188,-178.3295 242.9188,-157.3295 212.9188,-157.3295\"/>\n<text text-anchor=\"start\" x=\"223.9188\" y=\"-164.1295\" font-family=\"Times,serif\" font-size=\"14.00\" fill=\"#000000\">1</text>\n<polygon fill=\"none\" stroke=\"#000000\" points=\"244.9188,-157.3295 244.9188,-178.3295 294.9188,-178.3295 294.9188,-157.3295 244.9188,-157.3295\"/>\n<text text-anchor=\"start\" x=\"256.4188\" y=\"-164.1295\" font-family=\"Times,serif\" font-size=\"14.00\" fill=\"#000000\">0.10</text>\n<polygon fill=\"none\" stroke=\"#000000\" points=\"212.9188,-134.3295 212.9188,-155.3295 242.9188,-155.3295 242.9188,-134.3295 212.9188,-134.3295\"/>\n<text text-anchor=\"start\" x=\"223.9188\" y=\"-141.1295\" font-family=\"Times,serif\" font-size=\"14.00\" fill=\"#000000\">2</text>\n<polygon fill=\"none\" stroke=\"#000000\" points=\"244.9188,-134.3295 244.9188,-155.3295 294.9188,-155.3295 294.9188,-134.3295 244.9188,-134.3295\"/>\n<text text-anchor=\"start\" x=\"256.4188\" y=\"-141.1295\" font-family=\"Times,serif\" font-size=\"14.00\" fill=\"#000000\">0.10</text>\n<polygon fill=\"none\" stroke=\"#000000\" points=\"212.9188,-111.3295 212.9188,-132.3295 242.9188,-132.3295 242.9188,-111.3295 212.9188,-111.3295\"/>\n<text text-anchor=\"start\" x=\"223.9188\" y=\"-118.1295\" font-family=\"Times,serif\" font-size=\"14.00\" fill=\"#000000\">3</text>\n<polygon fill=\"none\" stroke=\"#000000\" points=\"244.9188,-111.3295 244.9188,-132.3295 294.9188,-132.3295 294.9188,-111.3295 244.9188,-111.3295\"/>\n<text text-anchor=\"start\" x=\"256.4188\" y=\"-118.1295\" font-family=\"Times,serif\" font-size=\"14.00\" fill=\"#000000\">0.10</text>\n<polygon fill=\"none\" stroke=\"#000000\" points=\"212.9188,-88.3295 212.9188,-109.3295 242.9188,-109.3295 242.9188,-88.3295 212.9188,-88.3295\"/>\n<text text-anchor=\"start\" x=\"223.9188\" y=\"-95.1295\" font-family=\"Times,serif\" font-size=\"14.00\" fill=\"#000000\">4</text>\n<polygon fill=\"none\" stroke=\"#000000\" points=\"244.9188,-88.3295 244.9188,-109.3295 294.9188,-109.3295 294.9188,-88.3295 244.9188,-88.3295\"/>\n<text text-anchor=\"start\" x=\"256.4188\" y=\"-95.1295\" font-family=\"Times,serif\" font-size=\"14.00\" fill=\"#000000\">0.10</text>\n<polygon fill=\"none\" stroke=\"#000000\" points=\"212.9188,-65.3295 212.9188,-86.3295 242.9188,-86.3295 242.9188,-65.3295 212.9188,-65.3295\"/>\n<text text-anchor=\"start\" x=\"223.9188\" y=\"-72.1295\" font-family=\"Times,serif\" font-size=\"14.00\" fill=\"#000000\">5</text>\n<polygon fill=\"none\" stroke=\"#000000\" points=\"244.9188,-65.3295 244.9188,-86.3295 294.9188,-86.3295 294.9188,-65.3295 244.9188,-65.3295\"/>\n<text text-anchor=\"start\" x=\"256.4188\" y=\"-72.1295\" font-family=\"Times,serif\" font-size=\"14.00\" fill=\"#000000\">0.10</text>\n<polygon fill=\"none\" stroke=\"#000000\" points=\"212.9188,-42.3295 212.9188,-63.3295 242.9188,-63.3295 242.9188,-42.3295 212.9188,-42.3295\"/>\n<text text-anchor=\"start\" x=\"223.9188\" y=\"-49.1295\" font-family=\"Times,serif\" font-size=\"14.00\" fill=\"#000000\">6</text>\n<polygon fill=\"none\" stroke=\"#000000\" points=\"244.9188,-42.3295 244.9188,-63.3295 294.9188,-63.3295 294.9188,-42.3295 244.9188,-42.3295\"/>\n<text text-anchor=\"start\" x=\"256.4188\" y=\"-49.1295\" font-family=\"Times,serif\" font-size=\"14.00\" fill=\"#000000\">0.50</text>\n<polygon fill=\"none\" stroke=\"#000000\" points=\"209.9188,-39.8295 209.9188,-204.8295 297.9188,-204.8295 297.9188,-39.8295 209.9188,-39.8295\"/>\n</g>\n<!-- s0&#45;&gt;s1 -->\n<g id=\"edge2\" class=\"edge\">\n<title>s0&#45;&gt;s1</title>\n<path fill=\"none\" stroke=\"#000000\" d=\"M117.5297,-122.3295C134.0479,-122.3295 152.3349,-122.3295 170.0102,-122.3295\"/>\n<polygon fill=\"#000000\" stroke=\"#000000\" points=\"170.3285,-125.8296 180.3285,-122.3295 170.3284,-118.8296 170.3285,-125.8296\"/>\n<text text-anchor=\"middle\" x=\"148.8797\" y=\"-126.1295\" font-family=\"Times,serif\" font-size=\"14.00\" fill=\"#000000\">0.05</text>\n</g>\n<!-- s1&#45;&gt;s0 -->\n<g id=\"edge3\" class=\"edge\">\n<title>s1&#45;&gt;s0</title>\n<path fill=\"none\" stroke=\"#000000\" d=\"M181.0054,-104.1351C165.9487,-102.2096 150.1723,-101.5243 135.3797,-103.3295 132.6651,-103.6607 129.9081,-104.0557 127.1319,-104.5023\"/>\n<polygon fill=\"#000000\" stroke=\"#000000\" points=\"126.2557,-101.1038 117.0364,-106.3245 127.4991,-107.9925 126.2557,-101.1038\"/>\n<text text-anchor=\"middle\" x=\"148.8797\" y=\"-107.1295\" font-family=\"Times,serif\" font-size=\"14.00\" fill=\"#000000\">0.10</text>\n</g>\n<!-- s1&#45;&gt;s1 -->\n<g id=\"edge4\" class=\"edge\">\n<title>s1&#45;&gt;s1</title>\n<path fill=\"none\" stroke=\"#000000\" d=\"M237.7621,-242.0985C240.9161,-254.6292 246.3016,-262.6589 253.9188,-262.6589 259.2747,-262.6589 263.5272,-258.6892 266.6765,-251.9763\"/>\n<polygon fill=\"#000000\" stroke=\"#000000\" points=\"270.1312,-252.6932 270.0756,-242.0985 263.5121,-250.4154 270.1312,-252.6932\"/>\n<text text-anchor=\"middle\" x=\"253.9188\" y=\"-266.4589\" font-family=\"Times,serif\" font-size=\"14.00\" fill=\"#000000\">0.90</text>\n</g>\n</g>\n</svg>\n"
          },
          "metadata": {
            "tags": []
          },
          "execution_count": 6
        }
      ]
    },
    {
      "cell_type": "markdown",
      "metadata": {
        "id": "HPgj6zlFZMGt"
      },
      "source": [
        "# Fit model"
      ]
    },
    {
      "cell_type": "code",
      "metadata": {
        "colab": {
          "base_uri": "https://localhost:8080/",
          "height": 401
        },
        "id": "7XufHxPcZM06",
        "outputId": "8ed5f5bd-ea3a-4387-c568-dd526a62b139"
      },
      "source": [
        "# Initialize model randomly\n",
        "\n",
        "n_hidden, n_obs = B.shape\n",
        "params_jax = init_random_params_jax([n_hidden, n_obs], rng_key=rng_init)\n",
        "\n",
        "dot = hmm_plot_graphviz(params_jax, '../figures/hmm_casino_init', states, observations)\n",
        "dot\n",
        "\n",
        "\n",
        "\n"
      ],
      "execution_count": 7,
      "outputs": [
        {
          "output_type": "execute_result",
          "data": {
            "text/plain": [
              "<graphviz.dot.Digraph at 0x7fd84c8d6610>"
            ],
            "image/svg+xml": "<?xml version=\"1.0\" encoding=\"UTF-8\" standalone=\"no\"?>\n<!DOCTYPE svg PUBLIC \"-//W3C//DTD SVG 1.1//EN\"\n \"http://www.w3.org/Graphics/SVG/1.1/DTD/svg11.dtd\">\n<!-- Generated by graphviz version 2.40.1 (20161225.0304)\n -->\n<!-- Title: %3 Pages: 1 -->\n<svg width=\"335pt\" height=\"286pt\"\n viewBox=\"0.00 0.00 335.46 285.66\" xmlns=\"http://www.w3.org/2000/svg\" xmlns:xlink=\"http://www.w3.org/1999/xlink\">\n<g id=\"graph0\" class=\"graph\" transform=\"scale(1 1) rotate(0) translate(4 281.6589)\">\n<title>%3</title>\n<polygon fill=\"#ffffff\" stroke=\"transparent\" points=\"-4,4 -4,-281.6589 331.4579,-281.6589 331.4579,4 -4,4\"/>\n<!-- s0 -->\n<g id=\"node1\" class=\"node\">\n<title>s0</title>\n<ellipse fill=\"none\" stroke=\"#000000\" cx=\"58.6899\" cy=\"-122.3295\" rx=\"58.8803\" ry=\"122.1592\"/>\n<polygon fill=\"#add8e6\" stroke=\"transparent\" points=\"28.6899,-180.3295 28.6899,-201.3295 89.6899,-201.3295 89.6899,-180.3295 28.6899,-180.3295\"/>\n<polygon fill=\"none\" stroke=\"#000000\" points=\"28.6899,-180.3295 28.6899,-201.3295 89.6899,-201.3295 89.6899,-180.3295 28.6899,-180.3295\"/>\n<text text-anchor=\"start\" x=\"32.6899\" y=\"-187.1295\" font-family=\"Times,serif\" font-size=\"14.00\" fill=\"#000000\">Fair Dice</text>\n<polygon fill=\"none\" stroke=\"#000000\" points=\"28.6899,-157.3295 28.6899,-178.3295 48.6899,-178.3295 48.6899,-157.3295 28.6899,-157.3295\"/>\n<text text-anchor=\"start\" x=\"34.6899\" y=\"-164.1295\" font-family=\"Times,serif\" font-size=\"14.00\" fill=\"#000000\">1</text>\n<polygon fill=\"none\" stroke=\"#000000\" points=\"50.6899,-157.3295 50.6899,-178.3295 89.6899,-178.3295 89.6899,-157.3295 50.6899,-157.3295\"/>\n<text text-anchor=\"start\" x=\"56.6899\" y=\"-164.1295\" font-family=\"Times,serif\" font-size=\"14.00\" fill=\"#000000\">0.08</text>\n<polygon fill=\"none\" stroke=\"#000000\" points=\"28.6899,-134.3295 28.6899,-155.3295 48.6899,-155.3295 48.6899,-134.3295 28.6899,-134.3295\"/>\n<text text-anchor=\"start\" x=\"34.6899\" y=\"-141.1295\" font-family=\"Times,serif\" font-size=\"14.00\" fill=\"#000000\">2</text>\n<polygon fill=\"none\" stroke=\"#000000\" points=\"50.6899,-134.3295 50.6899,-155.3295 89.6899,-155.3295 89.6899,-134.3295 50.6899,-134.3295\"/>\n<text text-anchor=\"start\" x=\"56.6899\" y=\"-141.1295\" font-family=\"Times,serif\" font-size=\"14.00\" fill=\"#000000\">0.23</text>\n<polygon fill=\"none\" stroke=\"#000000\" points=\"28.6899,-111.3295 28.6899,-132.3295 48.6899,-132.3295 48.6899,-111.3295 28.6899,-111.3295\"/>\n<text text-anchor=\"start\" x=\"34.6899\" y=\"-118.1295\" font-family=\"Times,serif\" font-size=\"14.00\" fill=\"#000000\">3</text>\n<polygon fill=\"none\" stroke=\"#000000\" points=\"50.6899,-111.3295 50.6899,-132.3295 89.6899,-132.3295 89.6899,-111.3295 50.6899,-111.3295\"/>\n<text text-anchor=\"start\" x=\"56.6899\" y=\"-118.1295\" font-family=\"Times,serif\" font-size=\"14.00\" fill=\"#000000\">0.05</text>\n<polygon fill=\"none\" stroke=\"#000000\" points=\"28.6899,-88.3295 28.6899,-109.3295 48.6899,-109.3295 48.6899,-88.3295 28.6899,-88.3295\"/>\n<text text-anchor=\"start\" x=\"34.6899\" y=\"-95.1295\" font-family=\"Times,serif\" font-size=\"14.00\" fill=\"#000000\">4</text>\n<polygon fill=\"none\" stroke=\"#000000\" points=\"50.6899,-88.3295 50.6899,-109.3295 89.6899,-109.3295 89.6899,-88.3295 50.6899,-88.3295\"/>\n<text text-anchor=\"start\" x=\"56.6899\" y=\"-95.1295\" font-family=\"Times,serif\" font-size=\"14.00\" fill=\"#000000\">0.27</text>\n<polygon fill=\"none\" stroke=\"#000000\" points=\"28.6899,-65.3295 28.6899,-86.3295 48.6899,-86.3295 48.6899,-65.3295 28.6899,-65.3295\"/>\n<text text-anchor=\"start\" x=\"34.6899\" y=\"-72.1295\" font-family=\"Times,serif\" font-size=\"14.00\" fill=\"#000000\">5</text>\n<polygon fill=\"none\" stroke=\"#000000\" points=\"50.6899,-65.3295 50.6899,-86.3295 89.6899,-86.3295 89.6899,-65.3295 50.6899,-65.3295\"/>\n<text text-anchor=\"start\" x=\"56.6899\" y=\"-72.1295\" font-family=\"Times,serif\" font-size=\"14.00\" fill=\"#000000\">0.25</text>\n<polygon fill=\"none\" stroke=\"#000000\" points=\"28.6899,-42.3295 28.6899,-63.3295 48.6899,-63.3295 48.6899,-42.3295 28.6899,-42.3295\"/>\n<text text-anchor=\"start\" x=\"34.6899\" y=\"-49.1295\" font-family=\"Times,serif\" font-size=\"14.00\" fill=\"#000000\">6</text>\n<polygon fill=\"none\" stroke=\"#000000\" points=\"50.6899,-42.3295 50.6899,-63.3295 89.6899,-63.3295 89.6899,-42.3295 50.6899,-42.3295\"/>\n<text text-anchor=\"start\" x=\"56.6899\" y=\"-49.1295\" font-family=\"Times,serif\" font-size=\"14.00\" fill=\"#000000\">0.12</text>\n<polygon fill=\"none\" stroke=\"#000000\" points=\"25.1899,-39.8295 25.1899,-204.8295 92.1899,-204.8295 92.1899,-39.8295 25.1899,-39.8295\"/>\n</g>\n<!-- s0&#45;&gt;s0 -->\n<g id=\"edge1\" class=\"edge\">\n<title>s0&#45;&gt;s0</title>\n<path fill=\"none\" stroke=\"#000000\" d=\"M44.4938,-241.0865C47.1903,-254.1953 51.9223,-262.6589 58.6899,-262.6589 63.5541,-262.6589 67.3667,-258.2866 70.1277,-250.9598\"/>\n<polygon fill=\"#000000\" stroke=\"#000000\" points=\"73.5662,-251.6595 72.8859,-241.0865 66.8243,-249.776 73.5662,-251.6595\"/>\n<text text-anchor=\"middle\" x=\"58.6899\" y=\"-266.4589\" font-family=\"Times,serif\" font-size=\"14.00\" fill=\"#000000\">0.35</text>\n</g>\n<!-- s1 -->\n<g id=\"node2\" class=\"node\">\n<title>s1</title>\n<ellipse fill=\"none\" stroke=\"#000000\" cx=\"253.9188\" cy=\"-122.3295\" rx=\"73.5782\" ry=\"122.1592\"/>\n<polygon fill=\"#add8e6\" stroke=\"transparent\" points=\"212.9188,-180.3295 212.9188,-201.3295 294.9188,-201.3295 294.9188,-180.3295 212.9188,-180.3295\"/>\n<polygon fill=\"none\" stroke=\"#000000\" points=\"212.9188,-180.3295 212.9188,-201.3295 294.9188,-201.3295 294.9188,-180.3295 212.9188,-180.3295\"/>\n<text text-anchor=\"start\" x=\"216.9188\" y=\"-187.1295\" font-family=\"Times,serif\" font-size=\"14.00\" fill=\"#000000\">Loaded Dice</text>\n<polygon fill=\"none\" stroke=\"#000000\" points=\"212.9188,-157.3295 212.9188,-178.3295 242.9188,-178.3295 242.9188,-157.3295 212.9188,-157.3295\"/>\n<text text-anchor=\"start\" x=\"223.9188\" y=\"-164.1295\" font-family=\"Times,serif\" font-size=\"14.00\" fill=\"#000000\">1</text>\n<polygon fill=\"none\" stroke=\"#000000\" points=\"244.9188,-157.3295 244.9188,-178.3295 294.9188,-178.3295 294.9188,-157.3295 244.9188,-157.3295\"/>\n<text text-anchor=\"start\" x=\"256.4188\" y=\"-164.1295\" font-family=\"Times,serif\" font-size=\"14.00\" fill=\"#000000\">0.01</text>\n<polygon fill=\"none\" stroke=\"#000000\" points=\"212.9188,-134.3295 212.9188,-155.3295 242.9188,-155.3295 242.9188,-134.3295 212.9188,-134.3295\"/>\n<text text-anchor=\"start\" x=\"223.9188\" y=\"-141.1295\" font-family=\"Times,serif\" font-size=\"14.00\" fill=\"#000000\">2</text>\n<polygon fill=\"none\" stroke=\"#000000\" points=\"244.9188,-134.3295 244.9188,-155.3295 294.9188,-155.3295 294.9188,-134.3295 244.9188,-134.3295\"/>\n<text text-anchor=\"start\" x=\"256.4188\" y=\"-141.1295\" font-family=\"Times,serif\" font-size=\"14.00\" fill=\"#000000\">0.08</text>\n<polygon fill=\"none\" stroke=\"#000000\" points=\"212.9188,-111.3295 212.9188,-132.3295 242.9188,-132.3295 242.9188,-111.3295 212.9188,-111.3295\"/>\n<text text-anchor=\"start\" x=\"223.9188\" y=\"-118.1295\" font-family=\"Times,serif\" font-size=\"14.00\" fill=\"#000000\">3</text>\n<polygon fill=\"none\" stroke=\"#000000\" points=\"244.9188,-111.3295 244.9188,-132.3295 294.9188,-132.3295 294.9188,-111.3295 244.9188,-111.3295\"/>\n<text text-anchor=\"start\" x=\"256.4188\" y=\"-118.1295\" font-family=\"Times,serif\" font-size=\"14.00\" fill=\"#000000\">0.15</text>\n<polygon fill=\"none\" stroke=\"#000000\" points=\"212.9188,-88.3295 212.9188,-109.3295 242.9188,-109.3295 242.9188,-88.3295 212.9188,-88.3295\"/>\n<text text-anchor=\"start\" x=\"223.9188\" y=\"-95.1295\" font-family=\"Times,serif\" font-size=\"14.00\" fill=\"#000000\">4</text>\n<polygon fill=\"none\" stroke=\"#000000\" points=\"244.9188,-88.3295 244.9188,-109.3295 294.9188,-109.3295 294.9188,-88.3295 244.9188,-88.3295\"/>\n<text text-anchor=\"start\" x=\"256.4188\" y=\"-95.1295\" font-family=\"Times,serif\" font-size=\"14.00\" fill=\"#000000\">0.02</text>\n<polygon fill=\"none\" stroke=\"#000000\" points=\"212.9188,-65.3295 212.9188,-86.3295 242.9188,-86.3295 242.9188,-65.3295 212.9188,-65.3295\"/>\n<text text-anchor=\"start\" x=\"223.9188\" y=\"-72.1295\" font-family=\"Times,serif\" font-size=\"14.00\" fill=\"#000000\">5</text>\n<polygon fill=\"none\" stroke=\"#000000\" points=\"244.9188,-65.3295 244.9188,-86.3295 294.9188,-86.3295 294.9188,-65.3295 244.9188,-65.3295\"/>\n<text text-anchor=\"start\" x=\"256.4188\" y=\"-72.1295\" font-family=\"Times,serif\" font-size=\"14.00\" fill=\"#000000\">0.41</text>\n<polygon fill=\"none\" stroke=\"#000000\" points=\"212.9188,-42.3295 212.9188,-63.3295 242.9188,-63.3295 242.9188,-42.3295 212.9188,-42.3295\"/>\n<text text-anchor=\"start\" x=\"223.9188\" y=\"-49.1295\" font-family=\"Times,serif\" font-size=\"14.00\" fill=\"#000000\">6</text>\n<polygon fill=\"none\" stroke=\"#000000\" points=\"244.9188,-42.3295 244.9188,-63.3295 294.9188,-63.3295 294.9188,-42.3295 244.9188,-42.3295\"/>\n<text text-anchor=\"start\" x=\"256.4188\" y=\"-49.1295\" font-family=\"Times,serif\" font-size=\"14.00\" fill=\"#000000\">0.32</text>\n<polygon fill=\"none\" stroke=\"#000000\" points=\"209.9188,-39.8295 209.9188,-204.8295 297.9188,-204.8295 297.9188,-39.8295 209.9188,-39.8295\"/>\n</g>\n<!-- s0&#45;&gt;s1 -->\n<g id=\"edge2\" class=\"edge\">\n<title>s0&#45;&gt;s1</title>\n<path fill=\"none\" stroke=\"#000000\" d=\"M117.5297,-122.3295C134.0479,-122.3295 152.3349,-122.3295 170.0102,-122.3295\"/>\n<polygon fill=\"#000000\" stroke=\"#000000\" points=\"170.3285,-125.8296 180.3285,-122.3295 170.3284,-118.8296 170.3285,-125.8296\"/>\n<text text-anchor=\"middle\" x=\"148.8797\" y=\"-126.1295\" font-family=\"Times,serif\" font-size=\"14.00\" fill=\"#000000\">0.65</text>\n</g>\n<!-- s1&#45;&gt;s0 -->\n<g id=\"edge3\" class=\"edge\">\n<title>s1&#45;&gt;s0</title>\n<path fill=\"none\" stroke=\"#000000\" d=\"M181.0054,-104.1351C165.9487,-102.2096 150.1723,-101.5243 135.3797,-103.3295 132.6651,-103.6607 129.9081,-104.0557 127.1319,-104.5023\"/>\n<polygon fill=\"#000000\" stroke=\"#000000\" points=\"126.2557,-101.1038 117.0364,-106.3245 127.4991,-107.9925 126.2557,-101.1038\"/>\n<text text-anchor=\"middle\" x=\"148.8797\" y=\"-107.1295\" font-family=\"Times,serif\" font-size=\"14.00\" fill=\"#000000\">0.40</text>\n</g>\n<!-- s1&#45;&gt;s1 -->\n<g id=\"edge4\" class=\"edge\">\n<title>s1&#45;&gt;s1</title>\n<path fill=\"none\" stroke=\"#000000\" d=\"M237.7621,-242.0985C240.9161,-254.6292 246.3016,-262.6589 253.9188,-262.6589 259.2747,-262.6589 263.5272,-258.6892 266.6765,-251.9763\"/>\n<polygon fill=\"#000000\" stroke=\"#000000\" points=\"270.1312,-252.6932 270.0756,-242.0985 263.5121,-250.4154 270.1312,-252.6932\"/>\n<text text-anchor=\"middle\" x=\"253.9188\" y=\"-266.4589\" font-family=\"Times,serif\" font-size=\"14.00\" fill=\"#000000\">0.60</text>\n</g>\n</g>\n</svg>\n"
          },
          "metadata": {
            "tags": []
          },
          "execution_count": 7
        }
      ]
    },
    {
      "cell_type": "code",
      "metadata": {
        "colab": {
          "base_uri": "https://localhost:8080/",
          "height": 654
        },
        "id": "D0i3qZqybePe",
        "outputId": "5c05e44d-5f3e-4e0d-b646-2fc466b3955c"
      },
      "source": [
        "\n",
        "\n",
        "num_epochs = 20\n",
        "params_jax, neg_ll_jax = hmm_em_jax(observations,\n",
        "                                    lens,\n",
        "                                    num_epochs=num_epochs,\n",
        "                                    init_params=params_jax)"
      ],
      "execution_count": 8,
      "outputs": [
        {
          "output_type": "error",
          "ename": "ValueError",
          "evalue": "ignored",
          "traceback": [
            "\u001b[0;31m---------------------------------------------------------------------------\u001b[0m",
            "\u001b[0;31mIndexError\u001b[0m                                Traceback (most recent call last)",
            "\u001b[0;32m/usr/local/lib/python3.7/dist-packages/jax/_src/api.py\u001b[0m in \u001b[0;36m_get_axis_size\u001b[0;34m(name, i, shape, axis)\u001b[0m\n\u001b[1;32m   1324\u001b[0m     \u001b[0;32mtry\u001b[0m\u001b[0;34m:\u001b[0m\u001b[0;34m\u001b[0m\u001b[0;34m\u001b[0m\u001b[0m\n\u001b[0;32m-> 1325\u001b[0;31m       \u001b[0;32mreturn\u001b[0m \u001b[0mshape\u001b[0m\u001b[0;34m[\u001b[0m\u001b[0maxis\u001b[0m\u001b[0;34m]\u001b[0m\u001b[0;34m\u001b[0m\u001b[0;34m\u001b[0m\u001b[0m\n\u001b[0m\u001b[1;32m   1326\u001b[0m     \u001b[0;32mexcept\u001b[0m \u001b[0;34m(\u001b[0m\u001b[0mIndexError\u001b[0m\u001b[0;34m,\u001b[0m \u001b[0mTypeError\u001b[0m\u001b[0;34m)\u001b[0m \u001b[0;32mas\u001b[0m \u001b[0me\u001b[0m\u001b[0;34m:\u001b[0m\u001b[0;34m\u001b[0m\u001b[0;34m\u001b[0m\u001b[0m\n",
            "\u001b[0;31mIndexError\u001b[0m: tuple index out of range",
            "\nThe above exception was the direct cause of the following exception:\n",
            "\u001b[0;31mUnfilteredStackTrace\u001b[0m                      Traceback (most recent call last)",
            "\u001b[0;32m<ipython-input-8-a8998ec98095>\u001b[0m in \u001b[0;36m<module>\u001b[0;34m()\u001b[0m\n\u001b[1;32m      6\u001b[0m                                     \u001b[0mnum_epochs\u001b[0m\u001b[0;34m=\u001b[0m\u001b[0mnum_epochs\u001b[0m\u001b[0;34m,\u001b[0m\u001b[0;34m\u001b[0m\u001b[0;34m\u001b[0m\u001b[0m\n\u001b[0;32m----> 7\u001b[0;31m                                     init_params=params_jax)\n\u001b[0m",
            "\u001b[0;32m/pyprobml/scripts/hmm_discrete_em_lib.py\u001b[0m in \u001b[0;36mhmm_em_jax\u001b[0;34m(observations, valid_lengths, n_hidden, n_obs, init_params, priors, num_epochs, rng_key)\u001b[0m\n\u001b[1;32m    512\u001b[0m \u001b[0;34m\u001b[0m\u001b[0m\n\u001b[0;32m--> 513\u001b[0;31m     \u001b[0mfinal_params\u001b[0m\u001b[0;34m,\u001b[0m \u001b[0mneg_loglikelihoods\u001b[0m \u001b[0;34m=\u001b[0m \u001b[0mjax\u001b[0m\u001b[0;34m.\u001b[0m\u001b[0mlax\u001b[0m\u001b[0;34m.\u001b[0m\u001b[0mscan\u001b[0m\u001b[0;34m(\u001b[0m\u001b[0mtrain_step\u001b[0m\u001b[0;34m,\u001b[0m \u001b[0minit_params\u001b[0m\u001b[0;34m,\u001b[0m \u001b[0mepochs\u001b[0m\u001b[0;34m)\u001b[0m\u001b[0;34m\u001b[0m\u001b[0;34m\u001b[0m\u001b[0m\n\u001b[0m\u001b[1;32m    514\u001b[0m \u001b[0;34m\u001b[0m\u001b[0m\n",
            "\u001b[0;32m/usr/local/lib/python3.7/dist-packages/jax/_src/traceback_util.py\u001b[0m in \u001b[0;36mreraise_with_filtered_traceback\u001b[0;34m(*args, **kwargs)\u001b[0m\n\u001b[1;32m    182\u001b[0m     \u001b[0;32mtry\u001b[0m\u001b[0;34m:\u001b[0m\u001b[0;34m\u001b[0m\u001b[0;34m\u001b[0m\u001b[0m\n\u001b[0;32m--> 183\u001b[0;31m       \u001b[0;32mreturn\u001b[0m \u001b[0mfun\u001b[0m\u001b[0;34m(\u001b[0m\u001b[0;34m*\u001b[0m\u001b[0margs\u001b[0m\u001b[0;34m,\u001b[0m \u001b[0;34m**\u001b[0m\u001b[0mkwargs\u001b[0m\u001b[0;34m)\u001b[0m\u001b[0;34m\u001b[0m\u001b[0;34m\u001b[0m\u001b[0m\n\u001b[0m\u001b[1;32m    184\u001b[0m     \u001b[0;32mexcept\u001b[0m \u001b[0mException\u001b[0m \u001b[0;32mas\u001b[0m \u001b[0me\u001b[0m\u001b[0;34m:\u001b[0m\u001b[0;34m\u001b[0m\u001b[0;34m\u001b[0m\u001b[0m\n",
            "\u001b[0;32m/usr/local/lib/python3.7/dist-packages/jax/_src/lax/control_flow.py\u001b[0m in \u001b[0;36mscan\u001b[0;34m(f, init, xs, length, reverse, unroll)\u001b[0m\n\u001b[1;32m   1287\u001b[0m   \u001b[0;31m# necessary, a second time with modified init values.\u001b[0m\u001b[0;34m\u001b[0m\u001b[0;34m\u001b[0m\u001b[0;34m\u001b[0m\u001b[0m\n\u001b[0;32m-> 1288\u001b[0;31m   \u001b[0minit_flat\u001b[0m\u001b[0;34m,\u001b[0m \u001b[0mcarry_avals\u001b[0m\u001b[0;34m,\u001b[0m \u001b[0mcarry_avals_out\u001b[0m\u001b[0;34m,\u001b[0m \u001b[0minit_tree\u001b[0m\u001b[0;34m,\u001b[0m \u001b[0;34m*\u001b[0m\u001b[0mrest\u001b[0m \u001b[0;34m=\u001b[0m \u001b[0m_create_jaxpr\u001b[0m\u001b[0;34m(\u001b[0m\u001b[0minit\u001b[0m\u001b[0;34m)\u001b[0m\u001b[0;34m\u001b[0m\u001b[0;34m\u001b[0m\u001b[0m\n\u001b[0m\u001b[1;32m   1289\u001b[0m   \u001b[0mnew_init_flat\u001b[0m\u001b[0;34m,\u001b[0m \u001b[0mchanged\u001b[0m \u001b[0;34m=\u001b[0m \u001b[0m_promote_weak_typed_inputs\u001b[0m\u001b[0;34m(\u001b[0m\u001b[0minit_flat\u001b[0m\u001b[0;34m,\u001b[0m \u001b[0mcarry_avals\u001b[0m\u001b[0;34m,\u001b[0m \u001b[0mcarry_avals_out\u001b[0m\u001b[0;34m)\u001b[0m\u001b[0;34m\u001b[0m\u001b[0;34m\u001b[0m\u001b[0m\n",
            "\u001b[0;32m/usr/local/lib/python3.7/dist-packages/jax/_src/lax/control_flow.py\u001b[0m in \u001b[0;36m_create_jaxpr\u001b[0;34m(init)\u001b[0m\n\u001b[1;32m   1274\u001b[0m     jaxpr, consts, out_tree = _initial_style_jaxpr(\n\u001b[0;32m-> 1275\u001b[0;31m         f, in_tree, carry_avals + x_avals, \"scan\")\n\u001b[0m\u001b[1;32m   1276\u001b[0m     \u001b[0mout_tree_children\u001b[0m \u001b[0;34m=\u001b[0m \u001b[0mout_tree\u001b[0m\u001b[0;34m.\u001b[0m\u001b[0mchildren\u001b[0m\u001b[0;34m(\u001b[0m\u001b[0;34m)\u001b[0m\u001b[0;34m\u001b[0m\u001b[0;34m\u001b[0m\u001b[0m\n",
            "\u001b[0;32m/usr/local/lib/python3.7/dist-packages/jax/_src/util.py\u001b[0m in \u001b[0;36mwrapper\u001b[0;34m(*args, **kwargs)\u001b[0m\n\u001b[1;32m    185\u001b[0m       \u001b[0;32melse\u001b[0m\u001b[0;34m:\u001b[0m\u001b[0;34m\u001b[0m\u001b[0;34m\u001b[0m\u001b[0m\n\u001b[0;32m--> 186\u001b[0;31m         \u001b[0;32mreturn\u001b[0m \u001b[0mcached\u001b[0m\u001b[0;34m(\u001b[0m\u001b[0mconfig\u001b[0m\u001b[0;34m.\u001b[0m\u001b[0m_trace_context\u001b[0m\u001b[0;34m(\u001b[0m\u001b[0;34m)\u001b[0m\u001b[0;34m,\u001b[0m \u001b[0;34m*\u001b[0m\u001b[0margs\u001b[0m\u001b[0;34m,\u001b[0m \u001b[0;34m**\u001b[0m\u001b[0mkwargs\u001b[0m\u001b[0;34m)\u001b[0m\u001b[0;34m\u001b[0m\u001b[0;34m\u001b[0m\u001b[0m\n\u001b[0m\u001b[1;32m    187\u001b[0m \u001b[0;34m\u001b[0m\u001b[0m\n",
            "\u001b[0;32m/usr/local/lib/python3.7/dist-packages/jax/_src/util.py\u001b[0m in \u001b[0;36mcached\u001b[0;34m(_, *args, **kwargs)\u001b[0m\n\u001b[1;32m    178\u001b[0m     \u001b[0;32mdef\u001b[0m \u001b[0mcached\u001b[0m\u001b[0;34m(\u001b[0m\u001b[0m_\u001b[0m\u001b[0;34m,\u001b[0m \u001b[0;34m*\u001b[0m\u001b[0margs\u001b[0m\u001b[0;34m,\u001b[0m \u001b[0;34m**\u001b[0m\u001b[0mkwargs\u001b[0m\u001b[0;34m)\u001b[0m\u001b[0;34m:\u001b[0m\u001b[0;34m\u001b[0m\u001b[0;34m\u001b[0m\u001b[0m\n\u001b[0;32m--> 179\u001b[0;31m       \u001b[0;32mreturn\u001b[0m \u001b[0mf\u001b[0m\u001b[0;34m(\u001b[0m\u001b[0;34m*\u001b[0m\u001b[0margs\u001b[0m\u001b[0;34m,\u001b[0m \u001b[0;34m**\u001b[0m\u001b[0mkwargs\u001b[0m\u001b[0;34m)\u001b[0m\u001b[0;34m\u001b[0m\u001b[0;34m\u001b[0m\u001b[0m\n\u001b[0m\u001b[1;32m    180\u001b[0m \u001b[0;34m\u001b[0m\u001b[0m\n",
            "\u001b[0;32m/usr/local/lib/python3.7/dist-packages/jax/_src/lax/control_flow.py\u001b[0m in \u001b[0;36m_initial_style_jaxpr\u001b[0;34m(fun, in_tree, in_avals, primitive_name)\u001b[0m\n\u001b[1;32m     76\u001b[0m   jaxpr, consts, out_tree = _initial_style_open_jaxpr(\n\u001b[0;32m---> 77\u001b[0;31m       fun, in_tree, in_avals, primitive_name)\n\u001b[0m\u001b[1;32m     78\u001b[0m   \u001b[0mclosed_jaxpr\u001b[0m \u001b[0;34m=\u001b[0m \u001b[0mcore\u001b[0m\u001b[0;34m.\u001b[0m\u001b[0mClosedJaxpr\u001b[0m\u001b[0;34m(\u001b[0m\u001b[0mpe\u001b[0m\u001b[0;34m.\u001b[0m\u001b[0mconvert_constvars_jaxpr\u001b[0m\u001b[0;34m(\u001b[0m\u001b[0mjaxpr\u001b[0m\u001b[0;34m)\u001b[0m\u001b[0;34m,\u001b[0m \u001b[0;34m(\u001b[0m\u001b[0;34m)\u001b[0m\u001b[0;34m)\u001b[0m\u001b[0;34m\u001b[0m\u001b[0;34m\u001b[0m\u001b[0m\n",
            "\u001b[0;32m/usr/local/lib/python3.7/dist-packages/jax/_src/util.py\u001b[0m in \u001b[0;36mwrapper\u001b[0;34m(*args, **kwargs)\u001b[0m\n\u001b[1;32m    185\u001b[0m       \u001b[0;32melse\u001b[0m\u001b[0;34m:\u001b[0m\u001b[0;34m\u001b[0m\u001b[0;34m\u001b[0m\u001b[0m\n\u001b[0;32m--> 186\u001b[0;31m         \u001b[0;32mreturn\u001b[0m \u001b[0mcached\u001b[0m\u001b[0;34m(\u001b[0m\u001b[0mconfig\u001b[0m\u001b[0;34m.\u001b[0m\u001b[0m_trace_context\u001b[0m\u001b[0;34m(\u001b[0m\u001b[0;34m)\u001b[0m\u001b[0;34m,\u001b[0m \u001b[0;34m*\u001b[0m\u001b[0margs\u001b[0m\u001b[0;34m,\u001b[0m \u001b[0;34m**\u001b[0m\u001b[0mkwargs\u001b[0m\u001b[0;34m)\u001b[0m\u001b[0;34m\u001b[0m\u001b[0;34m\u001b[0m\u001b[0m\n\u001b[0m\u001b[1;32m    187\u001b[0m \u001b[0;34m\u001b[0m\u001b[0m\n",
            "\u001b[0;32m/usr/local/lib/python3.7/dist-packages/jax/_src/util.py\u001b[0m in \u001b[0;36mcached\u001b[0;34m(_, *args, **kwargs)\u001b[0m\n\u001b[1;32m    178\u001b[0m     \u001b[0;32mdef\u001b[0m \u001b[0mcached\u001b[0m\u001b[0;34m(\u001b[0m\u001b[0m_\u001b[0m\u001b[0;34m,\u001b[0m \u001b[0;34m*\u001b[0m\u001b[0margs\u001b[0m\u001b[0;34m,\u001b[0m \u001b[0;34m**\u001b[0m\u001b[0mkwargs\u001b[0m\u001b[0;34m)\u001b[0m\u001b[0;34m:\u001b[0m\u001b[0;34m\u001b[0m\u001b[0;34m\u001b[0m\u001b[0m\n\u001b[0;32m--> 179\u001b[0;31m       \u001b[0;32mreturn\u001b[0m \u001b[0mf\u001b[0m\u001b[0;34m(\u001b[0m\u001b[0;34m*\u001b[0m\u001b[0margs\u001b[0m\u001b[0;34m,\u001b[0m \u001b[0;34m**\u001b[0m\u001b[0mkwargs\u001b[0m\u001b[0;34m)\u001b[0m\u001b[0;34m\u001b[0m\u001b[0;34m\u001b[0m\u001b[0m\n\u001b[0m\u001b[1;32m    180\u001b[0m \u001b[0;34m\u001b[0m\u001b[0m\n",
            "\u001b[0;32m/usr/local/lib/python3.7/dist-packages/jax/_src/lax/control_flow.py\u001b[0m in \u001b[0;36m_initial_style_open_jaxpr\u001b[0;34m(fun, in_tree, in_avals, primitive_name)\u001b[0m\n\u001b[1;32m     69\u001b[0m   \u001b[0mdebug\u001b[0m \u001b[0;34m=\u001b[0m \u001b[0mpe\u001b[0m\u001b[0;34m.\u001b[0m\u001b[0mdebug_info\u001b[0m\u001b[0;34m(\u001b[0m\u001b[0mfun\u001b[0m\u001b[0;34m,\u001b[0m \u001b[0min_tree\u001b[0m\u001b[0;34m,\u001b[0m \u001b[0;32mFalse\u001b[0m\u001b[0;34m,\u001b[0m \u001b[0mprimitive_name\u001b[0m \u001b[0;32mor\u001b[0m \u001b[0;34m\"<unknown>\"\u001b[0m\u001b[0;34m)\u001b[0m\u001b[0;34m\u001b[0m\u001b[0;34m\u001b[0m\u001b[0m\n\u001b[0;32m---> 70\u001b[0;31m   \u001b[0mjaxpr\u001b[0m\u001b[0;34m,\u001b[0m \u001b[0m_\u001b[0m\u001b[0;34m,\u001b[0m \u001b[0mconsts\u001b[0m \u001b[0;34m=\u001b[0m \u001b[0mpe\u001b[0m\u001b[0;34m.\u001b[0m\u001b[0mtrace_to_jaxpr_dynamic\u001b[0m\u001b[0;34m(\u001b[0m\u001b[0mwrapped_fun\u001b[0m\u001b[0;34m,\u001b[0m \u001b[0min_avals\u001b[0m\u001b[0;34m,\u001b[0m \u001b[0mdebug\u001b[0m\u001b[0;34m)\u001b[0m\u001b[0;34m\u001b[0m\u001b[0;34m\u001b[0m\u001b[0m\n\u001b[0m\u001b[1;32m     71\u001b[0m   \u001b[0;32mreturn\u001b[0m \u001b[0mjaxpr\u001b[0m\u001b[0;34m,\u001b[0m \u001b[0mconsts\u001b[0m\u001b[0;34m,\u001b[0m \u001b[0mout_tree\u001b[0m\u001b[0;34m(\u001b[0m\u001b[0;34m)\u001b[0m\u001b[0;34m\u001b[0m\u001b[0;34m\u001b[0m\u001b[0m\n",
            "\u001b[0;32m/usr/local/lib/python3.7/dist-packages/jax/interpreters/partial_eval.py\u001b[0m in \u001b[0;36mtrace_to_jaxpr_dynamic\u001b[0;34m(fun, in_avals, debug_info)\u001b[0m\n\u001b[1;32m   1251\u001b[0m     \u001b[0mmain\u001b[0m\u001b[0;34m.\u001b[0m\u001b[0mjaxpr_stack\u001b[0m \u001b[0;34m=\u001b[0m \u001b[0;34m(\u001b[0m\u001b[0;34m)\u001b[0m  \u001b[0;31m# type: ignore\u001b[0m\u001b[0;34m\u001b[0m\u001b[0;34m\u001b[0m\u001b[0m\n\u001b[0;32m-> 1252\u001b[0;31m     \u001b[0mjaxpr\u001b[0m\u001b[0;34m,\u001b[0m \u001b[0mout_avals\u001b[0m\u001b[0;34m,\u001b[0m \u001b[0mconsts\u001b[0m \u001b[0;34m=\u001b[0m \u001b[0mtrace_to_subjaxpr_dynamic\u001b[0m\u001b[0;34m(\u001b[0m\u001b[0mfun\u001b[0m\u001b[0;34m,\u001b[0m \u001b[0mmain\u001b[0m\u001b[0;34m,\u001b[0m \u001b[0min_avals\u001b[0m\u001b[0;34m)\u001b[0m\u001b[0;34m\u001b[0m\u001b[0;34m\u001b[0m\u001b[0m\n\u001b[0m\u001b[1;32m   1253\u001b[0m     \u001b[0;32mdel\u001b[0m \u001b[0mmain\u001b[0m\u001b[0;34m,\u001b[0m \u001b[0mfun\u001b[0m\u001b[0;34m\u001b[0m\u001b[0;34m\u001b[0m\u001b[0m\n",
            "\u001b[0;32m/usr/local/lib/python3.7/dist-packages/jax/interpreters/partial_eval.py\u001b[0m in \u001b[0;36mtrace_to_subjaxpr_dynamic\u001b[0;34m(fun, main, in_avals)\u001b[0m\n\u001b[1;32m   1261\u001b[0m     \u001b[0min_tracers\u001b[0m \u001b[0;34m=\u001b[0m \u001b[0mmap\u001b[0m\u001b[0;34m(\u001b[0m\u001b[0mtrace\u001b[0m\u001b[0;34m.\u001b[0m\u001b[0mnew_arg\u001b[0m\u001b[0;34m,\u001b[0m \u001b[0min_avals\u001b[0m\u001b[0;34m)\u001b[0m\u001b[0;34m\u001b[0m\u001b[0;34m\u001b[0m\u001b[0m\n\u001b[0;32m-> 1262\u001b[0;31m     \u001b[0mans\u001b[0m \u001b[0;34m=\u001b[0m \u001b[0mfun\u001b[0m\u001b[0;34m.\u001b[0m\u001b[0mcall_wrapped\u001b[0m\u001b[0;34m(\u001b[0m\u001b[0;34m*\u001b[0m\u001b[0min_tracers\u001b[0m\u001b[0;34m)\u001b[0m\u001b[0;34m\u001b[0m\u001b[0;34m\u001b[0m\u001b[0m\n\u001b[0m\u001b[1;32m   1263\u001b[0m     \u001b[0mout_tracers\u001b[0m \u001b[0;34m=\u001b[0m \u001b[0mmap\u001b[0m\u001b[0;34m(\u001b[0m\u001b[0mtrace\u001b[0m\u001b[0;34m.\u001b[0m\u001b[0mfull_raise\u001b[0m\u001b[0;34m,\u001b[0m \u001b[0mans\u001b[0m\u001b[0;34m)\u001b[0m\u001b[0;34m\u001b[0m\u001b[0;34m\u001b[0m\u001b[0m\n",
            "\u001b[0;32m/usr/local/lib/python3.7/dist-packages/jax/linear_util.py\u001b[0m in \u001b[0;36mcall_wrapped\u001b[0;34m(self, *args, **kwargs)\u001b[0m\n\u001b[1;32m    165\u001b[0m     \u001b[0;32mtry\u001b[0m\u001b[0;34m:\u001b[0m\u001b[0;34m\u001b[0m\u001b[0;34m\u001b[0m\u001b[0m\n\u001b[0;32m--> 166\u001b[0;31m       \u001b[0mans\u001b[0m \u001b[0;34m=\u001b[0m \u001b[0mself\u001b[0m\u001b[0;34m.\u001b[0m\u001b[0mf\u001b[0m\u001b[0;34m(\u001b[0m\u001b[0;34m*\u001b[0m\u001b[0margs\u001b[0m\u001b[0;34m,\u001b[0m \u001b[0;34m**\u001b[0m\u001b[0mdict\u001b[0m\u001b[0;34m(\u001b[0m\u001b[0mself\u001b[0m\u001b[0;34m.\u001b[0m\u001b[0mparams\u001b[0m\u001b[0;34m,\u001b[0m \u001b[0;34m**\u001b[0m\u001b[0mkwargs\u001b[0m\u001b[0;34m)\u001b[0m\u001b[0;34m)\u001b[0m\u001b[0;34m\u001b[0m\u001b[0;34m\u001b[0m\u001b[0m\n\u001b[0m\u001b[1;32m    167\u001b[0m     \u001b[0;32mexcept\u001b[0m\u001b[0;34m:\u001b[0m\u001b[0;34m\u001b[0m\u001b[0;34m\u001b[0m\u001b[0m\n",
            "\u001b[0;32m/pyprobml/scripts/hmm_discrete_em_lib.py\u001b[0m in \u001b[0;36mtrain_step\u001b[0;34m(params, epoch)\u001b[0m\n\u001b[1;32m    508\u001b[0m     \u001b[0;32mdef\u001b[0m \u001b[0mtrain_step\u001b[0m\u001b[0;34m(\u001b[0m\u001b[0mparams\u001b[0m\u001b[0;34m,\u001b[0m \u001b[0mepoch\u001b[0m\u001b[0;34m)\u001b[0m\u001b[0;34m:\u001b[0m\u001b[0;34m\u001b[0m\u001b[0;34m\u001b[0m\u001b[0m\n\u001b[0;32m--> 509\u001b[0;31m         \u001b[0mtrans_counts\u001b[0m\u001b[0;34m,\u001b[0m \u001b[0mobs_counts\u001b[0m\u001b[0;34m,\u001b[0m \u001b[0minit_counts\u001b[0m\u001b[0;34m,\u001b[0m \u001b[0mll\u001b[0m \u001b[0;34m=\u001b[0m \u001b[0mhmm_e_step_jax\u001b[0m\u001b[0;34m(\u001b[0m\u001b[0mparams\u001b[0m\u001b[0;34m,\u001b[0m \u001b[0mobservations\u001b[0m\u001b[0;34m,\u001b[0m \u001b[0mvalid_lengths\u001b[0m\u001b[0;34m)\u001b[0m\u001b[0;34m\u001b[0m\u001b[0;34m\u001b[0m\u001b[0m\n\u001b[0m\u001b[1;32m    510\u001b[0m         \u001b[0mparams\u001b[0m \u001b[0;34m=\u001b[0m \u001b[0mhmm_m_step_jax\u001b[0m\u001b[0;34m(\u001b[0m\u001b[0;34m[\u001b[0m\u001b[0mtrans_counts\u001b[0m\u001b[0;34m,\u001b[0m \u001b[0mobs_counts\u001b[0m\u001b[0;34m,\u001b[0m \u001b[0minit_counts\u001b[0m\u001b[0;34m]\u001b[0m\u001b[0;34m,\u001b[0m \u001b[0mpriors\u001b[0m\u001b[0;34m)\u001b[0m\u001b[0;34m\u001b[0m\u001b[0;34m\u001b[0m\u001b[0m\n",
            "\u001b[0;32m/pyprobml/scripts/hmm_discrete_em_lib.py\u001b[0m in \u001b[0;36mhmm_e_step_jax\u001b[0;34m(params, observations, valid_lengths)\u001b[0m\n\u001b[1;32m    320\u001b[0m \u001b[0;34m\u001b[0m\u001b[0m\n\u001b[0;32m--> 321\u001b[0;31m     \u001b[0malpha\u001b[0m\u001b[0;34m,\u001b[0m \u001b[0mbeta\u001b[0m\u001b[0;34m,\u001b[0m \u001b[0mgamma\u001b[0m\u001b[0;34m,\u001b[0m \u001b[0mll\u001b[0m \u001b[0;34m=\u001b[0m \u001b[0mvmap\u001b[0m\u001b[0;34m(\u001b[0m\u001b[0mhmm\u001b[0m\u001b[0;34m.\u001b[0m\u001b[0mhmm_forwards_backwards_jax\u001b[0m\u001b[0;34m,\u001b[0m \u001b[0min_axes\u001b[0m\u001b[0;34m=\u001b[0m\u001b[0;34m(\u001b[0m\u001b[0;32mNone\u001b[0m\u001b[0;34m,\u001b[0m \u001b[0;36m0\u001b[0m\u001b[0;34m,\u001b[0m \u001b[0;36m0\u001b[0m\u001b[0;34m)\u001b[0m\u001b[0;34m)\u001b[0m\u001b[0;34m(\u001b[0m\u001b[0mparams\u001b[0m\u001b[0;34m,\u001b[0m \u001b[0mobservations\u001b[0m\u001b[0;34m,\u001b[0m \u001b[0mvalid_lengths\u001b[0m\u001b[0;34m)\u001b[0m\u001b[0;34m\u001b[0m\u001b[0;34m\u001b[0m\u001b[0m\n\u001b[0m\u001b[1;32m    322\u001b[0m     \u001b[0mtrans_counts\u001b[0m \u001b[0;34m=\u001b[0m \u001b[0mcompute_expected_trans_counts_jax\u001b[0m\u001b[0;34m(\u001b[0m\u001b[0mparams\u001b[0m\u001b[0;34m,\u001b[0m \u001b[0malpha\u001b[0m\u001b[0;34m,\u001b[0m \u001b[0mbeta\u001b[0m\u001b[0;34m,\u001b[0m \u001b[0mobservations\u001b[0m\u001b[0;34m)\u001b[0m\u001b[0;34m\u001b[0m\u001b[0;34m\u001b[0m\u001b[0m\n",
            "\u001b[0;32m/usr/local/lib/python3.7/dist-packages/jax/_src/traceback_util.py\u001b[0m in \u001b[0;36mreraise_with_filtered_traceback\u001b[0;34m(*args, **kwargs)\u001b[0m\n\u001b[1;32m    182\u001b[0m     \u001b[0;32mtry\u001b[0m\u001b[0;34m:\u001b[0m\u001b[0;34m\u001b[0m\u001b[0;34m\u001b[0m\u001b[0m\n\u001b[0;32m--> 183\u001b[0;31m       \u001b[0;32mreturn\u001b[0m \u001b[0mfun\u001b[0m\u001b[0;34m(\u001b[0m\u001b[0;34m*\u001b[0m\u001b[0margs\u001b[0m\u001b[0;34m,\u001b[0m \u001b[0;34m**\u001b[0m\u001b[0mkwargs\u001b[0m\u001b[0;34m)\u001b[0m\u001b[0;34m\u001b[0m\u001b[0;34m\u001b[0m\u001b[0m\n\u001b[0m\u001b[1;32m    184\u001b[0m     \u001b[0;32mexcept\u001b[0m \u001b[0mException\u001b[0m \u001b[0;32mas\u001b[0m \u001b[0me\u001b[0m\u001b[0;34m:\u001b[0m\u001b[0;34m\u001b[0m\u001b[0;34m\u001b[0m\u001b[0m\n",
            "\u001b[0;32m/usr/local/lib/python3.7/dist-packages/jax/_src/api.py\u001b[0m in \u001b[0;36mbatched_fun\u001b[0;34m(*args, **kwargs)\u001b[0m\n\u001b[1;32m   1312\u001b[0m     \u001b[0min_axes_flat\u001b[0m \u001b[0;34m=\u001b[0m \u001b[0mflatten_axes\u001b[0m\u001b[0;34m(\u001b[0m\u001b[0;34m\"vmap in_axes\"\u001b[0m\u001b[0;34m,\u001b[0m \u001b[0min_tree\u001b[0m\u001b[0;34m,\u001b[0m \u001b[0;34m(\u001b[0m\u001b[0min_axes\u001b[0m\u001b[0;34m,\u001b[0m \u001b[0;36m0\u001b[0m\u001b[0;34m)\u001b[0m\u001b[0;34m,\u001b[0m \u001b[0mkws\u001b[0m\u001b[0;34m=\u001b[0m\u001b[0;32mTrue\u001b[0m\u001b[0;34m)\u001b[0m\u001b[0;34m\u001b[0m\u001b[0;34m\u001b[0m\u001b[0m\n\u001b[0;32m-> 1313\u001b[0;31m     \u001b[0maxis_size\u001b[0m \u001b[0;34m=\u001b[0m \u001b[0m_mapped_axis_size\u001b[0m\u001b[0;34m(\u001b[0m\u001b[0min_tree\u001b[0m\u001b[0;34m,\u001b[0m \u001b[0margs_flat\u001b[0m\u001b[0;34m,\u001b[0m \u001b[0min_axes_flat\u001b[0m\u001b[0;34m,\u001b[0m \u001b[0;34m\"vmap\"\u001b[0m\u001b[0;34m,\u001b[0m \u001b[0mkws\u001b[0m\u001b[0;34m=\u001b[0m\u001b[0;32mTrue\u001b[0m\u001b[0;34m)\u001b[0m\u001b[0;34m\u001b[0m\u001b[0;34m\u001b[0m\u001b[0m\n\u001b[0m\u001b[1;32m   1314\u001b[0m     out_flat = batching.batch(\n",
            "\u001b[0;32m/usr/local/lib/python3.7/dist-packages/jax/_src/api.py\u001b[0m in \u001b[0;36m_mapped_axis_size\u001b[0;34m(tree, vals, dims, name, kws)\u001b[0m\n\u001b[1;32m   1331\u001b[0m   mapped_axis_sizes = {_get_axis_size(name, i, np.shape(x), d)\n\u001b[0;32m-> 1332\u001b[0;31m                        \u001b[0;32mfor\u001b[0m \u001b[0mi\u001b[0m\u001b[0;34m,\u001b[0m \u001b[0;34m(\u001b[0m\u001b[0mx\u001b[0m\u001b[0;34m,\u001b[0m \u001b[0md\u001b[0m\u001b[0;34m)\u001b[0m \u001b[0;32min\u001b[0m \u001b[0menumerate\u001b[0m\u001b[0;34m(\u001b[0m\u001b[0mzip\u001b[0m\u001b[0;34m(\u001b[0m\u001b[0mvals\u001b[0m\u001b[0;34m,\u001b[0m \u001b[0mdims\u001b[0m\u001b[0;34m)\u001b[0m\u001b[0;34m)\u001b[0m\u001b[0;34m\u001b[0m\u001b[0;34m\u001b[0m\u001b[0m\n\u001b[0m\u001b[1;32m   1333\u001b[0m                        if d is not None}\n",
            "\u001b[0;32m/usr/local/lib/python3.7/dist-packages/jax/_src/api.py\u001b[0m in \u001b[0;36m<setcomp>\u001b[0;34m(.0)\u001b[0m\n\u001b[1;32m   1332\u001b[0m                        \u001b[0;32mfor\u001b[0m \u001b[0mi\u001b[0m\u001b[0;34m,\u001b[0m \u001b[0;34m(\u001b[0m\u001b[0mx\u001b[0m\u001b[0;34m,\u001b[0m \u001b[0md\u001b[0m\u001b[0;34m)\u001b[0m \u001b[0;32min\u001b[0m \u001b[0menumerate\u001b[0m\u001b[0;34m(\u001b[0m\u001b[0mzip\u001b[0m\u001b[0;34m(\u001b[0m\u001b[0mvals\u001b[0m\u001b[0;34m,\u001b[0m \u001b[0mdims\u001b[0m\u001b[0;34m)\u001b[0m\u001b[0;34m)\u001b[0m\u001b[0;34m\u001b[0m\u001b[0;34m\u001b[0m\u001b[0m\n\u001b[0;32m-> 1333\u001b[0;31m                        if d is not None}\n\u001b[0m\u001b[1;32m   1334\u001b[0m   \u001b[0;32mtry\u001b[0m\u001b[0;34m:\u001b[0m\u001b[0;34m\u001b[0m\u001b[0;34m\u001b[0m\u001b[0m\n",
            "\u001b[0;32m/usr/local/lib/python3.7/dist-packages/jax/_src/api.py\u001b[0m in \u001b[0;36m_get_axis_size\u001b[0;34m(name, i, shape, axis)\u001b[0m\n\u001b[1;32m   1328\u001b[0m       raise ValueError(f\"{name} got arg {i} of rank {len(shape)} but axis to be \"\n\u001b[0;32m-> 1329\u001b[0;31m                        f\"mapped {axis}. The tree of ranks is:\\n{ranks}\") from e\n\u001b[0m\u001b[1;32m   1330\u001b[0m \u001b[0;34m\u001b[0m\u001b[0m\n",
            "\u001b[0;31mUnfilteredStackTrace\u001b[0m: ValueError: vmap got arg 3 of rank 0 but axis to be mapped 0. The tree of ranks is:\n((HMMJax(trans_mat=2, obs_mat=2, init_dist=1), [0, 0, 0, 0, 0, 0], 1), {})\n\nThe stack trace below excludes JAX-internal frames.\nThe preceding is the original exception that occurred, unmodified.\n\n--------------------",
            "\nThe above exception was the direct cause of the following exception:\n",
            "\u001b[0;31mValueError\u001b[0m                                Traceback (most recent call last)",
            "\u001b[0;32m<ipython-input-8-a8998ec98095>\u001b[0m in \u001b[0;36m<module>\u001b[0;34m()\u001b[0m\n\u001b[1;32m      5\u001b[0m                                     \u001b[0mlens\u001b[0m\u001b[0;34m,\u001b[0m\u001b[0;34m\u001b[0m\u001b[0;34m\u001b[0m\u001b[0m\n\u001b[1;32m      6\u001b[0m                                     \u001b[0mnum_epochs\u001b[0m\u001b[0;34m=\u001b[0m\u001b[0mnum_epochs\u001b[0m\u001b[0;34m,\u001b[0m\u001b[0;34m\u001b[0m\u001b[0;34m\u001b[0m\u001b[0m\n\u001b[0;32m----> 7\u001b[0;31m                                     init_params=params_jax)\n\u001b[0m",
            "\u001b[0;32m/pyprobml/scripts/hmm_discrete_em_lib.py\u001b[0m in \u001b[0;36mhmm_em_jax\u001b[0;34m(observations, valid_lengths, n_hidden, n_obs, init_params, priors, num_epochs, rng_key)\u001b[0m\n\u001b[1;32m    511\u001b[0m         \u001b[0;32mreturn\u001b[0m \u001b[0mparams\u001b[0m\u001b[0;34m,\u001b[0m \u001b[0;34m-\u001b[0m\u001b[0mll\u001b[0m\u001b[0;34m\u001b[0m\u001b[0;34m\u001b[0m\u001b[0m\n\u001b[1;32m    512\u001b[0m \u001b[0;34m\u001b[0m\u001b[0m\n\u001b[0;32m--> 513\u001b[0;31m     \u001b[0mfinal_params\u001b[0m\u001b[0;34m,\u001b[0m \u001b[0mneg_loglikelihoods\u001b[0m \u001b[0;34m=\u001b[0m \u001b[0mjax\u001b[0m\u001b[0;34m.\u001b[0m\u001b[0mlax\u001b[0m\u001b[0;34m.\u001b[0m\u001b[0mscan\u001b[0m\u001b[0;34m(\u001b[0m\u001b[0mtrain_step\u001b[0m\u001b[0;34m,\u001b[0m \u001b[0minit_params\u001b[0m\u001b[0;34m,\u001b[0m \u001b[0mepochs\u001b[0m\u001b[0;34m)\u001b[0m\u001b[0;34m\u001b[0m\u001b[0;34m\u001b[0m\u001b[0m\n\u001b[0m\u001b[1;32m    514\u001b[0m \u001b[0;34m\u001b[0m\u001b[0m\n\u001b[1;32m    515\u001b[0m     \u001b[0;32mreturn\u001b[0m \u001b[0mfinal_params\u001b[0m\u001b[0;34m,\u001b[0m \u001b[0mneg_loglikelihoods\u001b[0m\u001b[0;34m\u001b[0m\u001b[0;34m\u001b[0m\u001b[0m\n",
            "\u001b[0;32m/pyprobml/scripts/hmm_discrete_em_lib.py\u001b[0m in \u001b[0;36mtrain_step\u001b[0;34m(params, epoch)\u001b[0m\n\u001b[1;32m    507\u001b[0m \u001b[0;34m\u001b[0m\u001b[0m\n\u001b[1;32m    508\u001b[0m     \u001b[0;32mdef\u001b[0m \u001b[0mtrain_step\u001b[0m\u001b[0;34m(\u001b[0m\u001b[0mparams\u001b[0m\u001b[0;34m,\u001b[0m \u001b[0mepoch\u001b[0m\u001b[0;34m)\u001b[0m\u001b[0;34m:\u001b[0m\u001b[0;34m\u001b[0m\u001b[0;34m\u001b[0m\u001b[0m\n\u001b[0;32m--> 509\u001b[0;31m         \u001b[0mtrans_counts\u001b[0m\u001b[0;34m,\u001b[0m \u001b[0mobs_counts\u001b[0m\u001b[0;34m,\u001b[0m \u001b[0minit_counts\u001b[0m\u001b[0;34m,\u001b[0m \u001b[0mll\u001b[0m \u001b[0;34m=\u001b[0m \u001b[0mhmm_e_step_jax\u001b[0m\u001b[0;34m(\u001b[0m\u001b[0mparams\u001b[0m\u001b[0;34m,\u001b[0m \u001b[0mobservations\u001b[0m\u001b[0;34m,\u001b[0m \u001b[0mvalid_lengths\u001b[0m\u001b[0;34m)\u001b[0m\u001b[0;34m\u001b[0m\u001b[0;34m\u001b[0m\u001b[0m\n\u001b[0m\u001b[1;32m    510\u001b[0m         \u001b[0mparams\u001b[0m \u001b[0;34m=\u001b[0m \u001b[0mhmm_m_step_jax\u001b[0m\u001b[0;34m(\u001b[0m\u001b[0;34m[\u001b[0m\u001b[0mtrans_counts\u001b[0m\u001b[0;34m,\u001b[0m \u001b[0mobs_counts\u001b[0m\u001b[0;34m,\u001b[0m \u001b[0minit_counts\u001b[0m\u001b[0;34m]\u001b[0m\u001b[0;34m,\u001b[0m \u001b[0mpriors\u001b[0m\u001b[0;34m)\u001b[0m\u001b[0;34m\u001b[0m\u001b[0;34m\u001b[0m\u001b[0m\n\u001b[1;32m    511\u001b[0m         \u001b[0;32mreturn\u001b[0m \u001b[0mparams\u001b[0m\u001b[0;34m,\u001b[0m \u001b[0;34m-\u001b[0m\u001b[0mll\u001b[0m\u001b[0;34m\u001b[0m\u001b[0;34m\u001b[0m\u001b[0m\n",
            "\u001b[0;32m/pyprobml/scripts/hmm_discrete_em_lib.py\u001b[0m in \u001b[0;36mhmm_e_step_jax\u001b[0;34m(params, observations, valid_lengths)\u001b[0m\n\u001b[1;32m    319\u001b[0m     \u001b[0mn_states\u001b[0m\u001b[0;34m,\u001b[0m \u001b[0mn_obs\u001b[0m \u001b[0;34m=\u001b[0m \u001b[0mobs_mat\u001b[0m\u001b[0;34m.\u001b[0m\u001b[0mshape\u001b[0m\u001b[0;34m\u001b[0m\u001b[0;34m\u001b[0m\u001b[0m\n\u001b[1;32m    320\u001b[0m \u001b[0;34m\u001b[0m\u001b[0m\n\u001b[0;32m--> 321\u001b[0;31m     \u001b[0malpha\u001b[0m\u001b[0;34m,\u001b[0m \u001b[0mbeta\u001b[0m\u001b[0;34m,\u001b[0m \u001b[0mgamma\u001b[0m\u001b[0;34m,\u001b[0m \u001b[0mll\u001b[0m \u001b[0;34m=\u001b[0m \u001b[0mvmap\u001b[0m\u001b[0;34m(\u001b[0m\u001b[0mhmm\u001b[0m\u001b[0;34m.\u001b[0m\u001b[0mhmm_forwards_backwards_jax\u001b[0m\u001b[0;34m,\u001b[0m \u001b[0min_axes\u001b[0m\u001b[0;34m=\u001b[0m\u001b[0;34m(\u001b[0m\u001b[0;32mNone\u001b[0m\u001b[0;34m,\u001b[0m \u001b[0;36m0\u001b[0m\u001b[0;34m,\u001b[0m \u001b[0;36m0\u001b[0m\u001b[0;34m)\u001b[0m\u001b[0;34m)\u001b[0m\u001b[0;34m(\u001b[0m\u001b[0mparams\u001b[0m\u001b[0;34m,\u001b[0m \u001b[0mobservations\u001b[0m\u001b[0;34m,\u001b[0m \u001b[0mvalid_lengths\u001b[0m\u001b[0;34m)\u001b[0m\u001b[0;34m\u001b[0m\u001b[0;34m\u001b[0m\u001b[0m\n\u001b[0m\u001b[1;32m    322\u001b[0m     \u001b[0mtrans_counts\u001b[0m \u001b[0;34m=\u001b[0m \u001b[0mcompute_expected_trans_counts_jax\u001b[0m\u001b[0;34m(\u001b[0m\u001b[0mparams\u001b[0m\u001b[0;34m,\u001b[0m \u001b[0malpha\u001b[0m\u001b[0;34m,\u001b[0m \u001b[0mbeta\u001b[0m\u001b[0;34m,\u001b[0m \u001b[0mobservations\u001b[0m\u001b[0;34m)\u001b[0m\u001b[0;34m\u001b[0m\u001b[0;34m\u001b[0m\u001b[0m\n\u001b[1;32m    323\u001b[0m \u001b[0;34m\u001b[0m\u001b[0m\n",
            "\u001b[0;31mValueError\u001b[0m: vmap got arg 3 of rank 0 but axis to be mapped 0. The tree of ranks is:\n((HMMJax(trans_mat=2, obs_mat=2, init_dist=1), [0, 0, 0, 0, 0, 0], 1), {})"
          ]
        }
      ]
    },
    {
      "cell_type": "markdown",
      "metadata": {
        "id": "hAiP9s7iZd9q"
      },
      "source": [
        "# Plot results"
      ]
    },
    {
      "cell_type": "code",
      "metadata": {
        "colab": {
          "base_uri": "https://localhost:8080/",
          "height": 294
        },
        "id": "tsdC0frTZX38",
        "outputId": "a5124026-1bca-4c19-ab05-48bc326de3b0"
      },
      "source": [
        "hmm_utils.plot_loss_curve(neg_ll_jax, \"EM JAX\")\n"
      ],
      "execution_count": 6,
      "outputs": [
        {
          "output_type": "display_data",
          "data": {
            "image/png": "[encoded data removed]",
            "text/plain": [
              "<Figure size 432x288 with 1 Axes>"
            ]
          },
          "metadata": {
            "tags": [],
            "needs_background": "light"
          }
        }
      ]
    },
    {
      "cell_type": "code",
      "metadata": {
        "colab": {
          "base_uri": "https://localhost:8080/",
          "height": 401
        },
        "id": "SMns-aZTZeoe",
        "outputId": "4d23049b-7f5c-4635-ed95-6eda95e27807"
      },
      "source": [
        "\n",
        "\n",
        "dot = hmm_plot_graphviz(params_jax, '../figures/hmm_casino_em', states, observations)\n",
        "dot"
      ],
      "execution_count": 14,
      "outputs": [
        {
          "output_type": "execute_result",
          "data": {
            "text/plain": [
              "<graphviz.dot.Digraph at 0x7f41c9a7c3d0>"
            ],
            "image/svg+xml": "<?xml version=\"1.0\" encoding=\"UTF-8\" standalone=\"no\"?>\n<!DOCTYPE svg PUBLIC \"-//W3C//DTD SVG 1.1//EN\"\n \"http://www.w3.org/Graphics/SVG/1.1/DTD/svg11.dtd\">\n<!-- Generated by graphviz version 2.40.1 (20161225.0304)\n -->\n<!-- Title: %3 Pages: 1 -->\n<svg width=\"335pt\" height=\"286pt\"\n viewBox=\"0.00 0.00 335.46 285.66\" xmlns=\"http://www.w3.org/2000/svg\" xmlns:xlink=\"http://www.w3.org/1999/xlink\">\n<g id=\"graph0\" class=\"graph\" transform=\"scale(1 1) rotate(0) translate(4 281.6589)\">\n<title>%3</title>\n<polygon fill=\"#ffffff\" stroke=\"transparent\" points=\"-4,4 -4,-281.6589 331.4579,-281.6589 331.4579,4 -4,4\"/>\n<!-- s0 -->\n<g id=\"node1\" class=\"node\">\n<title>s0</title>\n<ellipse fill=\"none\" stroke=\"#000000\" cx=\"58.6899\" cy=\"-122.3295\" rx=\"58.8803\" ry=\"122.1592\"/>\n<polygon fill=\"#add8e6\" stroke=\"transparent\" points=\"28.6899,-180.3295 28.6899,-201.3295 89.6899,-201.3295 89.6899,-180.3295 28.6899,-180.3295\"/>\n<polygon fill=\"none\" stroke=\"#000000\" points=\"28.6899,-180.3295 28.6899,-201.3295 89.6899,-201.3295 89.6899,-180.3295 28.6899,-180.3295\"/>\n<text text-anchor=\"start\" x=\"32.6899\" y=\"-187.1295\" font-family=\"Times,serif\" font-size=\"14.00\" fill=\"#000000\">Fair Dice</text>\n<polygon fill=\"none\" stroke=\"#000000\" points=\"28.6899,-157.3295 28.6899,-178.3295 48.6899,-178.3295 48.6899,-157.3295 28.6899,-157.3295\"/>\n<text text-anchor=\"start\" x=\"34.6899\" y=\"-164.1295\" font-family=\"Times,serif\" font-size=\"14.00\" fill=\"#000000\">1</text>\n<polygon fill=\"none\" stroke=\"#000000\" points=\"50.6899,-157.3295 50.6899,-178.3295 89.6899,-178.3295 89.6899,-157.3295 50.6899,-157.3295\"/>\n<text text-anchor=\"start\" x=\"56.6899\" y=\"-164.1295\" font-family=\"Times,serif\" font-size=\"14.00\" fill=\"#000000\">0.16</text>\n<polygon fill=\"none\" stroke=\"#000000\" points=\"28.6899,-134.3295 28.6899,-155.3295 48.6899,-155.3295 48.6899,-134.3295 28.6899,-134.3295\"/>\n<text text-anchor=\"start\" x=\"34.6899\" y=\"-141.1295\" font-family=\"Times,serif\" font-size=\"14.00\" fill=\"#000000\">2</text>\n<polygon fill=\"none\" stroke=\"#000000\" points=\"50.6899,-134.3295 50.6899,-155.3295 89.6899,-155.3295 89.6899,-134.3295 50.6899,-134.3295\"/>\n<text text-anchor=\"start\" x=\"56.6899\" y=\"-141.1295\" font-family=\"Times,serif\" font-size=\"14.00\" fill=\"#000000\">0.17</text>\n<polygon fill=\"none\" stroke=\"#000000\" points=\"28.6899,-111.3295 28.6899,-132.3295 48.6899,-132.3295 48.6899,-111.3295 28.6899,-111.3295\"/>\n<text text-anchor=\"start\" x=\"34.6899\" y=\"-118.1295\" font-family=\"Times,serif\" font-size=\"14.00\" fill=\"#000000\">3</text>\n<polygon fill=\"none\" stroke=\"#000000\" points=\"50.6899,-111.3295 50.6899,-132.3295 89.6899,-132.3295 89.6899,-111.3295 50.6899,-111.3295\"/>\n<text text-anchor=\"start\" x=\"56.6899\" y=\"-118.1295\" font-family=\"Times,serif\" font-size=\"14.00\" fill=\"#000000\">0.16</text>\n<polygon fill=\"none\" stroke=\"#000000\" points=\"28.6899,-88.3295 28.6899,-109.3295 48.6899,-109.3295 48.6899,-88.3295 28.6899,-88.3295\"/>\n<text text-anchor=\"start\" x=\"34.6899\" y=\"-95.1295\" font-family=\"Times,serif\" font-size=\"14.00\" fill=\"#000000\">4</text>\n<polygon fill=\"none\" stroke=\"#000000\" points=\"50.6899,-88.3295 50.6899,-109.3295 89.6899,-109.3295 89.6899,-88.3295 50.6899,-88.3295\"/>\n<text text-anchor=\"start\" x=\"56.6899\" y=\"-95.1295\" font-family=\"Times,serif\" font-size=\"14.00\" fill=\"#000000\">0.16</text>\n<polygon fill=\"none\" stroke=\"#000000\" points=\"28.6899,-65.3295 28.6899,-86.3295 48.6899,-86.3295 48.6899,-65.3295 28.6899,-65.3295\"/>\n<text text-anchor=\"start\" x=\"34.6899\" y=\"-72.1295\" font-family=\"Times,serif\" font-size=\"14.00\" fill=\"#000000\">5</text>\n<polygon fill=\"none\" stroke=\"#000000\" points=\"50.6899,-65.3295 50.6899,-86.3295 89.6899,-86.3295 89.6899,-65.3295 50.6899,-65.3295\"/>\n<text text-anchor=\"start\" x=\"56.6899\" y=\"-72.1295\" font-family=\"Times,serif\" font-size=\"14.00\" fill=\"#000000\">0.15</text>\n<polygon fill=\"none\" stroke=\"#000000\" points=\"28.6899,-42.3295 28.6899,-63.3295 48.6899,-63.3295 48.6899,-42.3295 28.6899,-42.3295\"/>\n<text text-anchor=\"start\" x=\"34.6899\" y=\"-49.1295\" font-family=\"Times,serif\" font-size=\"14.00\" fill=\"#000000\">6</text>\n<polygon fill=\"none\" stroke=\"#000000\" points=\"50.6899,-42.3295 50.6899,-63.3295 89.6899,-63.3295 89.6899,-42.3295 50.6899,-42.3295\"/>\n<text text-anchor=\"start\" x=\"56.6899\" y=\"-49.1295\" font-family=\"Times,serif\" font-size=\"14.00\" fill=\"#000000\">0.21</text>\n<polygon fill=\"none\" stroke=\"#000000\" points=\"25.1899,-39.8295 25.1899,-204.8295 92.1899,-204.8295 92.1899,-39.8295 25.1899,-39.8295\"/>\n</g>\n<!-- s0&#45;&gt;s0 -->\n<g id=\"edge1\" class=\"edge\">\n<title>s0&#45;&gt;s0</title>\n<path fill=\"none\" stroke=\"#000000\" d=\"M44.4938,-241.0865C47.1903,-254.1953 51.9223,-262.6589 58.6899,-262.6589 63.5541,-262.6589 67.3667,-258.2866 70.1277,-250.9598\"/>\n<polygon fill=\"#000000\" stroke=\"#000000\" points=\"73.5662,-251.6595 72.8859,-241.0865 66.8243,-249.776 73.5662,-251.6595\"/>\n<text text-anchor=\"middle\" x=\"58.6899\" y=\"-266.4589\" font-family=\"Times,serif\" font-size=\"14.00\" fill=\"#000000\">0.86</text>\n</g>\n<!-- s1 -->\n<g id=\"node2\" class=\"node\">\n<title>s1</title>\n<ellipse fill=\"none\" stroke=\"#000000\" cx=\"253.9188\" cy=\"-122.3295\" rx=\"73.5782\" ry=\"122.1592\"/>\n<polygon fill=\"#add8e6\" stroke=\"transparent\" points=\"212.9188,-180.3295 212.9188,-201.3295 294.9188,-201.3295 294.9188,-180.3295 212.9188,-180.3295\"/>\n<polygon fill=\"none\" stroke=\"#000000\" points=\"212.9188,-180.3295 212.9188,-201.3295 294.9188,-201.3295 294.9188,-180.3295 212.9188,-180.3295\"/>\n<text text-anchor=\"start\" x=\"216.9188\" y=\"-187.1295\" font-family=\"Times,serif\" font-size=\"14.00\" fill=\"#000000\">Loaded Dice</text>\n<polygon fill=\"none\" stroke=\"#000000\" points=\"212.9188,-157.3295 212.9188,-178.3295 242.9188,-178.3295 242.9188,-157.3295 212.9188,-157.3295\"/>\n<text text-anchor=\"start\" x=\"223.9188\" y=\"-164.1295\" font-family=\"Times,serif\" font-size=\"14.00\" fill=\"#000000\">1</text>\n<polygon fill=\"none\" stroke=\"#000000\" points=\"244.9188,-157.3295 244.9188,-178.3295 294.9188,-178.3295 294.9188,-157.3295 244.9188,-157.3295\"/>\n<text text-anchor=\"start\" x=\"256.4188\" y=\"-164.1295\" font-family=\"Times,serif\" font-size=\"14.00\" fill=\"#000000\">0.10</text>\n<polygon fill=\"none\" stroke=\"#000000\" points=\"212.9188,-134.3295 212.9188,-155.3295 242.9188,-155.3295 242.9188,-134.3295 212.9188,-134.3295\"/>\n<text text-anchor=\"start\" x=\"223.9188\" y=\"-141.1295\" font-family=\"Times,serif\" font-size=\"14.00\" fill=\"#000000\">2</text>\n<polygon fill=\"none\" stroke=\"#000000\" points=\"244.9188,-134.3295 244.9188,-155.3295 294.9188,-155.3295 294.9188,-134.3295 244.9188,-134.3295\"/>\n<text text-anchor=\"start\" x=\"256.4188\" y=\"-141.1295\" font-family=\"Times,serif\" font-size=\"14.00\" fill=\"#000000\">0.09</text>\n<polygon fill=\"none\" stroke=\"#000000\" points=\"212.9188,-111.3295 212.9188,-132.3295 242.9188,-132.3295 242.9188,-111.3295 212.9188,-111.3295\"/>\n<text text-anchor=\"start\" x=\"223.9188\" y=\"-118.1295\" font-family=\"Times,serif\" font-size=\"14.00\" fill=\"#000000\">3</text>\n<polygon fill=\"none\" stroke=\"#000000\" points=\"244.9188,-111.3295 244.9188,-132.3295 294.9188,-132.3295 294.9188,-111.3295 244.9188,-111.3295\"/>\n<text text-anchor=\"start\" x=\"256.4188\" y=\"-118.1295\" font-family=\"Times,serif\" font-size=\"14.00\" fill=\"#000000\">0.10</text>\n<polygon fill=\"none\" stroke=\"#000000\" points=\"212.9188,-88.3295 212.9188,-109.3295 242.9188,-109.3295 242.9188,-88.3295 212.9188,-88.3295\"/>\n<text text-anchor=\"start\" x=\"223.9188\" y=\"-95.1295\" font-family=\"Times,serif\" font-size=\"14.00\" fill=\"#000000\">4</text>\n<polygon fill=\"none\" stroke=\"#000000\" points=\"244.9188,-88.3295 244.9188,-109.3295 294.9188,-109.3295 294.9188,-88.3295 244.9188,-88.3295\"/>\n<text text-anchor=\"start\" x=\"256.4188\" y=\"-95.1295\" font-family=\"Times,serif\" font-size=\"14.00\" fill=\"#000000\">0.10</text>\n<polygon fill=\"none\" stroke=\"#000000\" points=\"212.9188,-65.3295 212.9188,-86.3295 242.9188,-86.3295 242.9188,-65.3295 212.9188,-65.3295\"/>\n<text text-anchor=\"start\" x=\"223.9188\" y=\"-72.1295\" font-family=\"Times,serif\" font-size=\"14.00\" fill=\"#000000\">5</text>\n<polygon fill=\"none\" stroke=\"#000000\" points=\"244.9188,-65.3295 244.9188,-86.3295 294.9188,-86.3295 294.9188,-65.3295 244.9188,-65.3295\"/>\n<text text-anchor=\"start\" x=\"256.4188\" y=\"-72.1295\" font-family=\"Times,serif\" font-size=\"14.00\" fill=\"#000000\">0.09</text>\n<polygon fill=\"none\" stroke=\"#000000\" points=\"212.9188,-42.3295 212.9188,-63.3295 242.9188,-63.3295 242.9188,-42.3295 212.9188,-42.3295\"/>\n<text text-anchor=\"start\" x=\"223.9188\" y=\"-49.1295\" font-family=\"Times,serif\" font-size=\"14.00\" fill=\"#000000\">6</text>\n<polygon fill=\"none\" stroke=\"#000000\" points=\"244.9188,-42.3295 244.9188,-63.3295 294.9188,-63.3295 294.9188,-42.3295 244.9188,-42.3295\"/>\n<text text-anchor=\"start\" x=\"256.4188\" y=\"-49.1295\" font-family=\"Times,serif\" font-size=\"14.00\" fill=\"#000000\">0.52</text>\n<polygon fill=\"none\" stroke=\"#000000\" points=\"209.9188,-39.8295 209.9188,-204.8295 297.9188,-204.8295 297.9188,-39.8295 209.9188,-39.8295\"/>\n</g>\n<!-- s0&#45;&gt;s1 -->\n<g id=\"edge2\" class=\"edge\">\n<title>s0&#45;&gt;s1</title>\n<path fill=\"none\" stroke=\"#000000\" d=\"M117.5297,-122.3295C134.0479,-122.3295 152.3349,-122.3295 170.0102,-122.3295\"/>\n<polygon fill=\"#000000\" stroke=\"#000000\" points=\"170.3285,-125.8296 180.3285,-122.3295 170.3284,-118.8296 170.3285,-125.8296\"/>\n<text text-anchor=\"middle\" x=\"148.8797\" y=\"-126.1295\" font-family=\"Times,serif\" font-size=\"14.00\" fill=\"#000000\">0.14</text>\n</g>\n<!-- s1&#45;&gt;s0 -->\n<g id=\"edge3\" class=\"edge\">\n<title>s1&#45;&gt;s0</title>\n<path fill=\"none\" stroke=\"#000000\" d=\"M181.0054,-104.1351C165.9487,-102.2096 150.1723,-101.5243 135.3797,-103.3295 132.6651,-103.6607 129.9081,-104.0557 127.1319,-104.5023\"/>\n<polygon fill=\"#000000\" stroke=\"#000000\" points=\"126.2557,-101.1038 117.0364,-106.3245 127.4991,-107.9925 126.2557,-101.1038\"/>\n<text text-anchor=\"middle\" x=\"148.8797\" y=\"-107.1295\" font-family=\"Times,serif\" font-size=\"14.00\" fill=\"#000000\">0.09</text>\n</g>\n<!-- s1&#45;&gt;s1 -->\n<g id=\"edge4\" class=\"edge\">\n<title>s1&#45;&gt;s1</title>\n<path fill=\"none\" stroke=\"#000000\" d=\"M237.7621,-242.0985C240.9161,-254.6292 246.3016,-262.6589 253.9188,-262.6589 259.2747,-262.6589 263.5272,-258.6892 266.6765,-251.9763\"/>\n<polygon fill=\"#000000\" stroke=\"#000000\" points=\"270.1312,-252.6932 270.0756,-242.0985 263.5121,-250.4154 270.1312,-252.6932\"/>\n<text text-anchor=\"middle\" x=\"253.9188\" y=\"-266.4589\" font-family=\"Times,serif\" font-size=\"14.00\" fill=\"#000000\">0.91</text>\n</g>\n</g>\n</svg>\n"
          },
          "metadata": {
            "tags": []
          },
          "execution_count": 14
        }
      ]
    },
    {
      "cell_type": "code",
      "metadata": {
        "id": "3Fr78xhIaGAv"
      },
      "source": [
        ""
      ],
      "execution_count": null,
      "outputs": []
    }
  ]
}