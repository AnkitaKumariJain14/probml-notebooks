{
  "cells": [
    {
      "cell_type": "markdown",
      "metadata": {
        "id": "view-in-github",
        "colab_type": "text"
      },
      "source": [
        "<a href=\"https://colab.research.google.com/github/probml/probml-notebooks/blob/main/notebooks/gp_deep_kernel_learning.ipynb\" target=\"_parent\"><img src=\"https://colab.research.google.com/assets/colab-badge.svg\" alt=\"Open In Colab\"/></a>"
      ]
    },
    {
      "cell_type": "markdown",
      "source": [
        "# Combine an MLP with a GP \n",
        "\n",
        "Modified from\n",
        "https://tinygp.readthedocs.io/en/latest/tutorials/transforms.html\n"
      ],
      "metadata": {
        "id": "M-EMYCCitLFq"
      },
      "id": "M-EMYCCitLFq"
    },
    {
      "cell_type": "code",
      "execution_count": 1,
      "id": "f6796277-39d4-492b-b589-7800f2447219",
      "metadata": {
        "tags": [
          "hide-cell"
        ],
        "id": "f6796277-39d4-492b-b589-7800f2447219",
        "colab": {
          "base_uri": "https://localhost:8080/"
        },
        "outputId": "867d1ad2-9321-4813-d02e-f746f8884750"
      },
      "outputs": [
        {
          "output_type": "stream",
          "name": "stdout",
          "text": [
            "\u001b[?25l\r\u001b[K     |█▋                              | 10 kB 25.9 MB/s eta 0:00:01\r\u001b[K     |███▏                            | 20 kB 12.3 MB/s eta 0:00:01\r\u001b[K     |████▊                           | 30 kB 9.7 MB/s eta 0:00:01\r\u001b[K     |██████▎                         | 40 kB 8.9 MB/s eta 0:00:01\r\u001b[K     |████████                        | 51 kB 5.0 MB/s eta 0:00:01\r\u001b[K     |█████████▌                      | 61 kB 5.5 MB/s eta 0:00:01\r\u001b[K     |███████████                     | 71 kB 5.5 MB/s eta 0:00:01\r\u001b[K     |████████████▋                   | 81 kB 6.2 MB/s eta 0:00:01\r\u001b[K     |██████████████▎                 | 92 kB 4.7 MB/s eta 0:00:01\r\u001b[K     |███████████████▉                | 102 kB 5.1 MB/s eta 0:00:01\r\u001b[K     |█████████████████▍              | 112 kB 5.1 MB/s eta 0:00:01\r\u001b[K     |███████████████████             | 122 kB 5.1 MB/s eta 0:00:01\r\u001b[K     |████████████████████▋           | 133 kB 5.1 MB/s eta 0:00:01\r\u001b[K     |██████████████████████▏         | 143 kB 5.1 MB/s eta 0:00:01\r\u001b[K     |███████████████████████▊        | 153 kB 5.1 MB/s eta 0:00:01\r\u001b[K     |█████████████████████████▎      | 163 kB 5.1 MB/s eta 0:00:01\r\u001b[K     |██████████████████████████▉     | 174 kB 5.1 MB/s eta 0:00:01\r\u001b[K     |████████████████████████████▌   | 184 kB 5.1 MB/s eta 0:00:01\r\u001b[K     |██████████████████████████████  | 194 kB 5.1 MB/s eta 0:00:01\r\u001b[K     |███████████████████████████████▋| 204 kB 5.1 MB/s eta 0:00:01\r\u001b[K     |████████████████████████████████| 207 kB 5.1 MB/s \n",
            "\u001b[K     |████████████████████████████████| 126 kB 70.2 MB/s \n",
            "\u001b[K     |████████████████████████████████| 65 kB 4.1 MB/s \n",
            "\u001b[?25h"
          ]
        }
      ],
      "source": [
        "try:\n",
        "    import tinygp\n",
        "except ImportError:\n",
        "    !pip install -q tinygp\n",
        "\n",
        "try:\n",
        "    import flax\n",
        "except ImportError:\n",
        "    !pip install -q flax\n",
        "    \n",
        "try:\n",
        "    import optax\n",
        "except ImportError:\n",
        "    !pip install -q optax\n",
        "    \n",
        "from jax.config import config\n",
        "\n",
        "config.update(\"jax_enable_x64\", True)"
      ]
    },
    {
      "cell_type": "markdown",
      "id": "8a08c4c1-a1b3-4a1e-a2fc-4eb95cd37d33",
      "metadata": {
        "id": "8a08c4c1-a1b3-4a1e-a2fc-4eb95cd37d33"
      },
      "source": [
        "# Data"
      ]
    },
    {
      "cell_type": "code",
      "execution_count": 8,
      "id": "71dd3917-a738-47d6-841f-e0bfb9e68fd4",
      "metadata": {
        "id": "71dd3917-a738-47d6-841f-e0bfb9e68fd4",
        "colab": {
          "base_uri": "https://localhost:8080/",
          "height": 279
        },
        "outputId": "6ace88e5-3331-4cf3-ad98-68610bd11e19"
      },
      "outputs": [
        {
          "output_type": "display_data",
          "data": {
            "image/png": "[encoded data removed]",
            "text/plain": [
              "<Figure size 432x288 with 1 Axes>"
            ]
          },
          "metadata": {
            "needs_background": "light"
          }
        }
      ],
      "source": [
        "import numpy as np\n",
        "import matplotlib.pyplot as plt\n",
        "\n",
        "random = np.random.default_rng(567)\n",
        "\n",
        "noise = 0.1\n",
        "\n",
        "x = np.sort(random.uniform(-1, 1, 100))\n",
        "\n",
        "def true_fn(x):\n",
        "  return 2 * (x > 0) - 1\n",
        "\n",
        "y = true_fn(x) + random.normal(0.0, noise, len(x))\n",
        "t = np.linspace(-1.5, 1.5, 500)\n",
        "\n",
        "\n",
        "plt.plot(t, true_fn(t), \"k\", lw=1, label=\"truth\")\n",
        "plt.plot(x, y, \".k\", label=\"data\")\n",
        "plt.xlim(-1.5, 1.5)\n",
        "plt.ylim(-1.3, 1.3)\n",
        "plt.xlabel(\"x\")\n",
        "plt.ylabel(\"y\")\n",
        "_ = plt.legend()\n",
        "plt.savefig('gp-dkl-data.pdf')"
      ]
    },
    {
      "cell_type": "markdown",
      "source": [
        "# Deep kernel"
      ],
      "metadata": {
        "id": "uXS7JKu6uAKd"
      },
      "id": "uXS7JKu6uAKd"
    },
    {
      "cell_type": "markdown",
      "id": "9c104d3d-ff22-4372-8503-2c0f4931c85c",
      "metadata": {
        "id": "9c104d3d-ff22-4372-8503-2c0f4931c85c"
      },
      "source": [
        "We transform the (1d) input using an MLP and then pass it to a Matern kernel."
      ]
    },
    {
      "cell_type": "code",
      "execution_count": 4,
      "id": "e0065dea-379a-4e0d-8cf2-f460c8126a5f",
      "metadata": {
        "id": "e0065dea-379a-4e0d-8cf2-f460c8126a5f"
      },
      "outputs": [],
      "source": [
        "import jax\n",
        "import optax\n",
        "import jax.numpy as jnp\n",
        "import flax.linen as nn\n",
        "from flax.linen.initializers import zeros\n",
        "from tinygp import kernels, transforms, GaussianProcess\n",
        "\n",
        "\n",
        "# Define a small neural network used to non-linearly transform the input data in our model\n",
        "class Transformer(nn.Module):\n",
        "    @nn.compact\n",
        "    def __call__(self, x):\n",
        "        x = nn.Dense(features=15)(x)\n",
        "        x = nn.relu(x)\n",
        "        x = nn.Dense(features=10)(x)\n",
        "        x = nn.relu(x)\n",
        "        x = nn.Dense(features=1)(x)\n",
        "        return x\n",
        "\n",
        "\n",
        "class GPdeep(nn.Module):\n",
        "    @nn.compact\n",
        "    def __call__(self, x, y, t):\n",
        "        # Set up a typical Matern-3/2 kernel\n",
        "        log_sigma = self.param(\"log_sigma\", zeros, ())\n",
        "        log_rho = self.param(\"log_rho\", zeros, ())\n",
        "        log_jitter = self.param(\"log_jitter\", zeros, ())\n",
        "        base_kernel = jnp.exp(2 * log_sigma) * kernels.Matern32(\n",
        "            jnp.exp(log_rho)\n",
        "        )\n",
        "\n",
        "        # Define a custom transform to pass the input coordinates through our `Transformer`\n",
        "        # network from above\n",
        "        transform = Transformer()\n",
        "        kernel = transforms.Transform(transform, base_kernel)\n",
        "\n",
        "        # Evaluate and return the GP negative log likelihood as usual\n",
        "        gp = GaussianProcess(\n",
        "            kernel, x[:, None], diag=noise ** 2 + jnp.exp(2 * log_jitter)\n",
        "        )\n",
        "        return -gp.condition(y), gp.predict(y, t[:, None], return_var=True)\n",
        "\n",
        "\n",
        "\n",
        "\n"
      ]
    },
    {
      "cell_type": "code",
      "source": [
        "\n",
        "# Define and train the model\n",
        "def loss(params):\n",
        "    return model.apply(params, x, y, t)[0]\n",
        "\n",
        "\n",
        "model = GPdeep()\n",
        "params = model.init(jax.random.PRNGKey(1234), x, y, t)\n",
        "tx = optax.sgd(learning_rate=1e-4)\n",
        "opt_state = tx.init(params)\n",
        "loss_grad_fn = jax.jit(jax.value_and_grad(loss))\n",
        "for i in range(1000):\n",
        "    loss_val, grads = loss_grad_fn(params)\n",
        "    updates, opt_state = tx.update(grads, opt_state)\n",
        "    params = optax.apply_updates(params, updates)\n",
        "\n"
      ],
      "metadata": {
        "id": "in9l5sEBt7_C"
      },
      "id": "in9l5sEBt7_C",
      "execution_count": 5,
      "outputs": []
    },
    {
      "cell_type": "code",
      "source": [
        "# Plot the results and compare to the true model\n",
        "plt.figure()\n",
        "mu, var = model.apply(params, x, y, t)[1]\n",
        "plt.plot(t, true_fn(t), \"k\", lw=1, label=\"truth\")\n",
        "plt.plot(x, y, \".k\", label=\"data\")\n",
        "plt.plot(t, mu)\n",
        "plt.fill_between(\n",
        "    t, mu + np.sqrt(var), mu - np.sqrt(var), alpha=0.5, label=\"model\"\n",
        ")\n",
        "plt.xlim(-1.5, 1.5)\n",
        "plt.ylim(-1.3, 1.3)\n",
        "plt.xlabel(\"x\")\n",
        "plt.ylabel(\"y\")\n",
        "_ = plt.legend()\n",
        "plt.savefig('gp-dkl-deep.pdf')"
      ],
      "metadata": {
        "colab": {
          "base_uri": "https://localhost:8080/",
          "height": 279
        },
        "id": "MPsSW7v8uJqZ",
        "outputId": "226a27ad-20b1-4237-ec32-014ffa1ef91d"
      },
      "id": "MPsSW7v8uJqZ",
      "execution_count": 9,
      "outputs": [
        {
          "output_type": "display_data",
          "data": {
            "image/png": "[encoded data removed]",
            "text/plain": [
              "<Figure size 432x288 with 1 Axes>"
            ]
          },
          "metadata": {
            "needs_background": "light"
          }
        }
      ]
    },
    {
      "cell_type": "markdown",
      "source": [
        "# Shallow kernel"
      ],
      "metadata": {
        "id": "Lkd5RQdluCha"
      },
      "id": "Lkd5RQdluCha"
    },
    {
      "cell_type": "code",
      "source": [
        "class GPshallow(nn.Module):\n",
        "    @nn.compact\n",
        "    def __call__(self, x, y, t):\n",
        "        # Set up a typical Matern-3/2 kernel\n",
        "        log_sigma = self.param(\"log_sigma\", zeros, ())\n",
        "        log_rho = self.param(\"log_rho\", zeros, ())\n",
        "        log_jitter = self.param(\"log_jitter\", zeros, ())\n",
        "        base_kernel = jnp.exp(2 * log_sigma) * kernels.Matern32(\n",
        "            jnp.exp(log_rho)\n",
        "        )\n",
        "        # Evaluate and return the GP negative log likelihood as usual\n",
        "        gp = GaussianProcess(\n",
        "            base_kernel, x[:, None], diag=noise ** 2 + jnp.exp(2 * log_jitter)\n",
        "        )\n",
        "        return -gp.condition(y), gp.predict(y, t[:, None], return_var=True)\n"
      ],
      "metadata": {
        "id": "3UlCmtYHuFSb"
      },
      "id": "3UlCmtYHuFSb",
      "execution_count": 10,
      "outputs": []
    },
    {
      "cell_type": "code",
      "source": [
        "\n",
        "model = GPshallow()\n",
        "params = model.init(jax.random.PRNGKey(1234), x, y, t)\n",
        "tx = optax.sgd(learning_rate=1e-4)\n",
        "opt_state = tx.init(params)\n",
        "loss_grad_fn = jax.jit(jax.value_and_grad(loss))\n",
        "for i in range(1000):\n",
        "    loss_val, grads = loss_grad_fn(params)\n",
        "    updates, opt_state = tx.update(grads, opt_state)\n",
        "    params = optax.apply_updates(params, updates)\n",
        "\n"
      ],
      "metadata": {
        "id": "4YMRG_RFt8ms"
      },
      "id": "4YMRG_RFt8ms",
      "execution_count": 13,
      "outputs": []
    },
    {
      "cell_type": "code",
      "source": [
        "# Plot the results and compare to the true model\n",
        "plt.figure()\n",
        "mu, var = model.apply(params, x, y, t)[1]\n",
        "plt.plot(t, true_fn(t), \"k\", lw=1, label=\"truth\")\n",
        "plt.plot(x, y, \".k\", label=\"data\")\n",
        "plt.plot(t, mu)\n",
        "plt.fill_between(\n",
        "    t, mu + np.sqrt(var), mu - np.sqrt(var), alpha=0.5, label=\"model\"\n",
        ")\n",
        "plt.xlim(-1.5, 1.5)\n",
        "plt.ylim(-1.3, 1.3)\n",
        "plt.xlabel(\"x\")\n",
        "plt.ylabel(\"y\")\n",
        "_ = plt.legend()\n",
        "\n",
        "plt.savefig('gp-dkl-shallow.pdf')"
      ],
      "metadata": {
        "colab": {
          "base_uri": "https://localhost:8080/",
          "height": 279
        },
        "id": "1WR2WD7OvNH2",
        "outputId": "78a1dd41-c924-4c94-a194-2b26781c09dd"
      },
      "id": "1WR2WD7OvNH2",
      "execution_count": 12,
      "outputs": [
        {
          "output_type": "display_data",
          "data": {
            "image/png": "[encoded data removed]",
            "text/plain": [
              "<Figure size 432x288 with 1 Axes>"
            ]
          },
          "metadata": {
            "needs_background": "light"
          }
        }
      ]
    },
    {
      "cell_type": "code",
      "execution_count": null,
      "id": "a281b035-513a-4215-87fd-1a83b52ebd79",
      "metadata": {
        "id": "a281b035-513a-4215-87fd-1a83b52ebd79"
      },
      "outputs": [],
      "source": [
        ""
      ]
    }
  ],
  "metadata": {
    "kernelspec": {
      "display_name": "Python 3 (ipykernel)",
      "language": "python",
      "name": "python3"
    },
    "language_info": {
      "codemirror_mode": {
        "name": "ipython",
        "version": 3
      },
      "file_extension": ".py",
      "mimetype": "text/x-python",
      "name": "python",
      "nbconvert_exporter": "python",
      "pygments_lexer": "ipython3",
      "version": "3.9.9"
    },
    "colab": {
      "name": "gp-deep-kernel-learning.ipynb",
      "provenance": [],
      "toc_visible": true,
      "include_colab_link": true
    },
    "accelerator": "GPU"
  },
  "nbformat": 4,
  "nbformat_minor": 5
}