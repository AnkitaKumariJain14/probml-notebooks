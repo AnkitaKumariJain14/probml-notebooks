{
  "nbformat": 4,
  "nbformat_minor": 0,
  "metadata": {
    "colab": {
      "name": "hbayes-figures.ipynb",
      "provenance": [],
      "authorship_tag": "ABX9TyMz/3NjnsfaO+a/FoZu56p9",
      "include_colab_link": true
    },
    "kernelspec": {
      "name": "python3",
      "display_name": "Python 3"
    },
    "language_info": {
      "name": "python"
    }
  },
  "cells": [
    {
      "cell_type": "markdown",
      "metadata": {
        "id": "view-in-github",
        "colab_type": "text"
      },
      "source": [
        "<a href=\"https://colab.research.google.com/github/probml/probml-notebooks/blob/main/notebooks/hbayes_figures.ipynb\" target=\"_parent\"><img src=\"https://colab.research.google.com/assets/colab-badge.svg\" alt=\"Open In Colab\"/></a>"
      ]
    },
    {
      "cell_type": "markdown",
      "metadata": {
        "id": "Ir6TlsCCJ6U1"
      },
      "source": [
        "# Make figures for hierarchical Bayesian regression models\n"
      ]
    },
    {
      "cell_type": "code",
      "metadata": {
        "colab": {
          "base_uri": "https://localhost:8080/",
          "height": 393
        },
        "id": "pY12UL4eJLMy",
        "outputId": "e47c8f97-248a-4b58-8601-06996f3c077a"
      },
      "source": [
        "import graphviz\n",
        "\n",
        "dot = graphviz.Digraph(format='pdf')\n",
        "\n",
        "\n",
        "def create_node(dot, character, subscript, color='white', fill_color=\"white\", fontcolor=\"black\", is_greek_letter=False):\n",
        "    if is_greek_letter:\n",
        "        dot.node(f'{character}{subscript}',\n",
        "                 f\"<&{character};<FONT POINT-SIZE='12'><SUB>{subscript}</SUB></FONT>>\",\n",
        "                 color=color, fontcolor=fontcolor)\n",
        "    else:\n",
        "        dot.node(f'{character}{subscript}',\n",
        "                 f\"<{character}<FONT POINT-SIZE='10'><SUB>{subscript}</SUB></FONT>>\",\n",
        "                 style='filled', color=color, fillcolor=fill_color, fontcolor=fontcolor)\n",
        "\n",
        "\n",
        "def create_subgraph(dot, hidden, observable, subscript, name, label=\"\", color=\"grey\", bgcolor=\"white\",\n",
        "                    edge_color=\"black\"):\n",
        "    dot.edge(f'{hidden}{subscript}',\n",
        "             f'{observable}{subscript}',\n",
        "             style='invis')\n",
        "\n",
        "    with dot.subgraph(name=name) as c:\n",
        "        c.attr(style='rounded', color=color, bgcolor=bgcolor, label=label, fontcolor=color)\n",
        "        c.edge(f'{observable}{subscript}', f'{hidden}{subscript}', color=edge_color)\n",
        "\n",
        "\n",
        "subscripts_0 = ['1', 'T']\n",
        "\n",
        "train_subscript, test_subscript = 'N', 'M'\n",
        "subscripts_1 = [train_subscript, test_subscript]\n",
        "\n",
        "subgraph_labels = ['Train', 'Test']\n",
        "subgraph_colors = [\"/set34/4\", \"/paired3/2\"]\n",
        "\n",
        "edge_color = \"lightsteelblue4\"\n",
        "fontcolor = \"grey17\"\n",
        "hid_color, hid_fill_color = \"/accent3/2\", \"lavender\"\n",
        "obs_color, obs_fill_color = \"/paired3/3\", \"/pastel19/3\"\n",
        "\n",
        "param, hidden, observabale = 'Theta', 'Y', 'X'\n",
        "\n",
        "dot.node('phi', '<&Phi;>', color=\"white\", fontcolor=fontcolor)\n",
        "\n",
        "for i, subscript in enumerate(subscripts_0):\n",
        "    create_node(dot, param, subscript, color='white', fontcolor=fontcolor, is_greek_letter=True)\n",
        "    dot.edge('phi', f'{param}{subscript}', color=edge_color)\n",
        "\n",
        "for i, s0 in enumerate(subscripts_0):\n",
        "    for k, (s1, label, color) in enumerate(zip(subscripts_1, subgraph_labels, subgraph_colors)):\n",
        "        subscript = f'{s0}, {s1}'\n",
        "        dot.attr(rank=\"same\")\n",
        "\n",
        "        if s1 == 'N':\n",
        "            create_node(dot, hidden, subscript, color=hid_color, fill_color=hid_fill_color)\n",
        "        else:\n",
        "            create_node(dot, hidden, subscript, color=hid_color)\n",
        "\n",
        "        subgraph_idx = i * len(subscripts_0) + k\n",
        "        subgraph_label = f\"{label} {s0}\"\n",
        "        subgraph_name = f\"cluster_{subgraph_idx}\"\n",
        "\n",
        "        create_node(dot, observabale, subscript, color=obs_color, fill_color=obs_fill_color)\n",
        "        dot.edge(f'Theta{s0}', f'{hidden}{subscript}', color=edge_color)\n",
        "\n",
        "        create_subgraph(dot, hidden, observabale, subscript,\n",
        "                        name=subgraph_name, label=subgraph_label,\n",
        "                        color=color, edge_color=edge_color)\n",
        "\n",
        "    if i == 0:\n",
        "        dot.node(f'blank{i}', \"...\", color=\"white\")\n",
        "        dot.edge(f'Theta{s0}', f'blank{i}', style=\"invis\")\n",
        "\n",
        "file_name = 'hbayes-multi-task'\n",
        "dot.render(file_name, view=True)\n",
        "\n",
        "dot"
      ],
      "execution_count": 3,
      "outputs": [
        {
          "output_type": "execute_result",
          "data": {
            "text/plain": [
              "<graphviz.dot.Digraph at 0x7f0c5f177d10>"
            ],
            "image/svg+xml": "<?xml version=\"1.0\" encoding=\"UTF-8\" standalone=\"no\"?>\n<!DOCTYPE svg PUBLIC \"-//W3C//DTD SVG 1.1//EN\"\n \"http://www.w3.org/Graphics/SVG/1.1/DTD/svg11.dtd\">\n<!-- Generated by graphviz version 2.40.1 (20161225.0304)\n -->\n<!-- Title: %3 Pages: 1 -->\n<svg width=\"406pt\" height=\"279pt\"\n viewBox=\"0.00 0.00 406.00 279.00\" xmlns=\"http://www.w3.org/2000/svg\" xmlns:xlink=\"http://www.w3.org/1999/xlink\">\n<g id=\"graph0\" class=\"graph\" transform=\"scale(1 1) rotate(0) translate(4 275)\">\n<title>%3</title>\n<polygon fill=\"#ffffff\" stroke=\"transparent\" points=\"-4,4 -4,-275 402,-275 402,4 -4,4\"/>\n<g id=\"clust1\" class=\"cluster\">\n<title>cluster_0</title>\n<path fill=\"#ffffff\" stroke=\"#fb8072\" d=\"M20,-8C20,-8 68,-8 68,-8 74,-8 80,-14 80,-20 80,-20 80,-143 80,-143 80,-149 74,-155 68,-155 68,-155 20,-155 20,-155 14,-155 8,-149 8,-143 8,-143 8,-20 8,-20 8,-14 14,-8 20,-8\"/>\n<text text-anchor=\"middle\" x=\"44\" y=\"-139.8\" font-family=\"Times,serif\" font-size=\"14.00\" fill=\"#fb8072\">Train 1</text>\n</g>\n<g id=\"clust2\" class=\"cluster\">\n<title>cluster_1</title>\n<path fill=\"#ffffff\" stroke=\"#1f78b4\" d=\"M100,-8C100,-8 150,-8 150,-8 156,-8 162,-14 162,-20 162,-20 162,-143 162,-143 162,-149 156,-155 150,-155 150,-155 100,-155 100,-155 94,-155 88,-149 88,-143 88,-143 88,-20 88,-20 88,-14 94,-8 100,-8\"/>\n<text text-anchor=\"middle\" x=\"125\" y=\"-139.8\" font-family=\"Times,serif\" font-size=\"14.00\" fill=\"#1f78b4\">Test 1</text>\n</g>\n<g id=\"clust3\" class=\"cluster\">\n<title>cluster_2</title>\n<path fill=\"#ffffff\" stroke=\"#fb8072\" d=\"M248,-8C248,-8 296,-8 296,-8 302,-8 308,-14 308,-20 308,-20 308,-143 308,-143 308,-149 302,-155 296,-155 296,-155 248,-155 248,-155 242,-155 236,-149 236,-143 236,-143 236,-20 236,-20 236,-14 242,-8 248,-8\"/>\n<text text-anchor=\"middle\" x=\"272\" y=\"-139.8\" font-family=\"Times,serif\" font-size=\"14.00\" fill=\"#fb8072\">Train T</text>\n</g>\n<g id=\"clust4\" class=\"cluster\">\n<title>cluster_3</title>\n<path fill=\"#ffffff\" stroke=\"#1f78b4\" d=\"M328,-8C328,-8 378,-8 378,-8 384,-8 390,-14 390,-20 390,-20 390,-143 390,-143 390,-149 384,-155 378,-155 378,-155 328,-155 328,-155 322,-155 316,-149 316,-143 316,-143 316,-20 316,-20 316,-14 322,-8 328,-8\"/>\n<text text-anchor=\"middle\" x=\"353\" y=\"-139.8\" font-family=\"Times,serif\" font-size=\"14.00\" fill=\"#1f78b4\">Test T</text>\n</g>\n<!-- phi -->\n<g id=\"node1\" class=\"node\">\n<title>phi</title>\n<ellipse fill=\"none\" stroke=\"#ffffff\" cx=\"198\" cy=\"-253\" rx=\"27\" ry=\"18\"/>\n<text text-anchor=\"start\" x=\"192.5\" y=\"-249.3\" font-family=\"Times,serif\" font-size=\"14.00\" fill=\"#2b2b2b\">Φ</text>\n</g>\n<!-- Theta1 -->\n<g id=\"node2\" class=\"node\">\n<title>Theta1</title>\n<ellipse fill=\"none\" stroke=\"#ffffff\" cx=\"162\" cy=\"-181\" rx=\"27\" ry=\"18\"/>\n<text text-anchor=\"start\" x=\"153.5\" y=\"-178.3\" font-family=\"Times,serif\" font-size=\"14.00\" fill=\"#2b2b2b\">Θ</text>\n<text text-anchor=\"start\" x=\"164.5\" y=\"-178.3\" font-family=\"Times,serif\" baseline-shift=\"sub\" font-size=\"12.00\" fill=\"#2b2b2b\">1</text>\n</g>\n<!-- phi&#45;&gt;Theta1 -->\n<g id=\"edge1\" class=\"edge\">\n<title>phi&#45;&gt;Theta1</title>\n<path fill=\"none\" stroke=\"#6e7b8b\" d=\"M189.2854,-235.5708C185.0403,-227.0807 179.8464,-216.6929 175.1337,-207.2674\"/>\n<polygon fill=\"#6e7b8b\" stroke=\"#6e7b8b\" points=\"178.237,-205.6477 170.6343,-198.2687 171.976,-208.7782 178.237,-205.6477\"/>\n</g>\n<!-- ThetaT -->\n<g id=\"node3\" class=\"node\">\n<title>ThetaT</title>\n<ellipse fill=\"none\" stroke=\"#ffffff\" cx=\"272\" cy=\"-181\" rx=\"27\" ry=\"18\"/>\n<text text-anchor=\"start\" x=\"263\" y=\"-178.3\" font-family=\"Times,serif\" font-size=\"14.00\" fill=\"#2b2b2b\">Θ</text>\n<text text-anchor=\"start\" x=\"274\" y=\"-178.3\" font-family=\"Times,serif\" baseline-shift=\"sub\" font-size=\"12.00\" fill=\"#2b2b2b\">T</text>\n</g>\n<!-- phi&#45;&gt;ThetaT -->\n<g id=\"edge2\" class=\"edge\">\n<title>phi&#45;&gt;ThetaT</title>\n<path fill=\"none\" stroke=\"#6e7b8b\" d=\"M213.3328,-238.0816C223.751,-227.945 237.7078,-214.3654 249.3947,-202.9944\"/>\n<polygon fill=\"#6e7b8b\" stroke=\"#6e7b8b\" points=\"251.9603,-205.3815 256.6868,-195.8993 247.0788,-200.3644 251.9603,-205.3815\"/>\n</g>\n<!-- Y1, N -->\n<g id=\"node4\" class=\"node\">\n<title>Y1, N</title>\n<ellipse fill=\"#e6e6fa\" stroke=\"#beaed4\" cx=\"44\" cy=\"-106\" rx=\"27.8951\" ry=\"18\"/>\n<text text-anchor=\"start\" x=\"30.5\" y=\"-103.3\" font-family=\"Times,serif\" font-size=\"14.00\" fill=\"#000000\">Y</text>\n<text text-anchor=\"start\" x=\"41.5\" y=\"-103.3\" font-family=\"Times,serif\" baseline-shift=\"sub\" font-size=\"10.00\" fill=\"#000000\">1, N</text>\n</g>\n<!-- Theta1&#45;&gt;Y1, N -->\n<g id=\"edge3\" class=\"edge\">\n<title>Theta1&#45;&gt;Y1, N</title>\n<path fill=\"none\" stroke=\"#6e7b8b\" d=\"M135.7434,-176.1408C119.7617,-172.2787 99.5086,-165.7005 84,-155 74.916,-148.7323 66.7997,-139.834 60.2913,-131.3364\"/>\n<polygon fill=\"#6e7b8b\" stroke=\"#6e7b8b\" points=\"63.0296,-129.1498 54.3425,-123.0847 57.3513,-133.2434 63.0296,-129.1498\"/>\n</g>\n<!-- Y1, M -->\n<g id=\"node6\" class=\"node\">\n<title>Y1, M</title>\n<ellipse fill=\"#ffffff\" stroke=\"#beaed4\" cx=\"125\" cy=\"-106\" rx=\"28.6953\" ry=\"18\"/>\n<text text-anchor=\"start\" x=\"111\" y=\"-103.3\" font-family=\"Times,serif\" font-size=\"14.00\" fill=\"#000000\">Y</text>\n<text text-anchor=\"start\" x=\"122\" y=\"-103.3\" font-family=\"Times,serif\" baseline-shift=\"sub\" font-size=\"10.00\" fill=\"#000000\">1, M</text>\n</g>\n<!-- Theta1&#45;&gt;Y1, M -->\n<g id=\"edge6\" class=\"edge\">\n<title>Theta1&#45;&gt;Y1, M</title>\n<path fill=\"none\" stroke=\"#6e7b8b\" d=\"M153.4185,-163.605C148.842,-154.3283 143.1158,-142.7212 138.005,-132.3614\"/>\n<polygon fill=\"#6e7b8b\" stroke=\"#6e7b8b\" points=\"141.0981,-130.7203 133.535,-123.3007 134.8205,-133.8173 141.0981,-130.7203\"/>\n</g>\n<!-- blank0 -->\n<g id=\"node8\" class=\"node\">\n<title>blank0</title>\n<ellipse fill=\"none\" stroke=\"#ffffff\" cx=\"199\" cy=\"-106\" rx=\"27\" ry=\"18\"/>\n<text text-anchor=\"middle\" x=\"199\" y=\"-102.3\" font-family=\"Times,serif\" font-size=\"14.00\" fill=\"#000000\">...</text>\n</g>\n<!-- Theta1&#45;&gt;blank0 -->\n<!-- YT, N -->\n<g id=\"node9\" class=\"node\">\n<title>YT, N</title>\n<ellipse fill=\"#e6e6fa\" stroke=\"#beaed4\" cx=\"272\" cy=\"-106\" rx=\"27.8951\" ry=\"18\"/>\n<text text-anchor=\"start\" x=\"258.5\" y=\"-103.3\" font-family=\"Times,serif\" font-size=\"14.00\" fill=\"#000000\">Y</text>\n<text text-anchor=\"start\" x=\"269.5\" y=\"-103.3\" font-family=\"Times,serif\" baseline-shift=\"sub\" font-size=\"10.00\" fill=\"#000000\">T, N</text>\n</g>\n<!-- ThetaT&#45;&gt;YT, N -->\n<g id=\"edge10\" class=\"edge\">\n<title>ThetaT&#45;&gt;YT, N</title>\n<path fill=\"none\" stroke=\"#6e7b8b\" d=\"M272,-162.8446C272,-154.3401 272,-144.0076 272,-134.4964\"/>\n<polygon fill=\"#6e7b8b\" stroke=\"#6e7b8b\" points=\"275.5001,-134.2481 272,-124.2482 268.5001,-134.2482 275.5001,-134.2481\"/>\n</g>\n<!-- YT, M -->\n<g id=\"node11\" class=\"node\">\n<title>YT, M</title>\n<ellipse fill=\"#ffffff\" stroke=\"#beaed4\" cx=\"353\" cy=\"-106\" rx=\"28.6953\" ry=\"18\"/>\n<text text-anchor=\"start\" x=\"339\" y=\"-103.3\" font-family=\"Times,serif\" font-size=\"14.00\" fill=\"#000000\">Y</text>\n<text text-anchor=\"start\" x=\"350\" y=\"-103.3\" font-family=\"Times,serif\" baseline-shift=\"sub\" font-size=\"10.00\" fill=\"#000000\">T, M</text>\n</g>\n<!-- ThetaT&#45;&gt;YT, M -->\n<g id=\"edge13\" class=\"edge\">\n<title>ThetaT&#45;&gt;YT, M</title>\n<path fill=\"none\" stroke=\"#6e7b8b\" d=\"M292.7818,-169.1461C299.2329,-165.0414 306.1736,-160.1642 312,-155 320.2178,-147.7162 328.2113,-138.738 334.9249,-130.4651\"/>\n<polygon fill=\"#6e7b8b\" stroke=\"#6e7b8b\" points=\"337.7449,-132.5412 341.1729,-122.5163 332.2414,-128.2154 337.7449,-132.5412\"/>\n</g>\n<!-- X1, N -->\n<g id=\"node5\" class=\"node\">\n<title>X1, N</title>\n<ellipse fill=\"#ccebc5\" stroke=\"#b2df8a\" cx=\"44\" cy=\"-34\" rx=\"27.8951\" ry=\"18\"/>\n<text text-anchor=\"start\" x=\"30.5\" y=\"-31.3\" font-family=\"Times,serif\" font-size=\"14.00\" fill=\"#000000\">X</text>\n<text text-anchor=\"start\" x=\"41.5\" y=\"-31.3\" font-family=\"Times,serif\" baseline-shift=\"sub\" font-size=\"10.00\" fill=\"#000000\">1, N</text>\n</g>\n<!-- Y1, N&#45;&gt;X1, N -->\n<!-- X1, N&#45;&gt;Y1, N -->\n<g id=\"edge5\" class=\"edge\">\n<title>X1, N&#45;&gt;Y1, N</title>\n<path fill=\"none\" stroke=\"#6e7b8b\" d=\"M49.9202,-51.8425C50.7078,-59.7236 50.9348,-69.1774 50.601,-77.9647\"/>\n<polygon fill=\"#6e7b8b\" stroke=\"#6e7b8b\" points=\"47.0915,-77.9908 49.9157,-88.2022 54.0759,-78.4583 47.0915,-77.9908\"/>\n</g>\n<!-- X1, M -->\n<g id=\"node7\" class=\"node\">\n<title>X1, M</title>\n<ellipse fill=\"#ccebc5\" stroke=\"#b2df8a\" cx=\"125\" cy=\"-34\" rx=\"28.6953\" ry=\"18\"/>\n<text text-anchor=\"start\" x=\"111\" y=\"-31.3\" font-family=\"Times,serif\" font-size=\"14.00\" fill=\"#000000\">X</text>\n<text text-anchor=\"start\" x=\"122\" y=\"-31.3\" font-family=\"Times,serif\" baseline-shift=\"sub\" font-size=\"10.00\" fill=\"#000000\">1, M</text>\n</g>\n<!-- Y1, M&#45;&gt;X1, M -->\n<!-- X1, M&#45;&gt;Y1, M -->\n<g id=\"edge8\" class=\"edge\">\n<title>X1, M&#45;&gt;Y1, M</title>\n<path fill=\"none\" stroke=\"#6e7b8b\" d=\"M130.9202,-51.8425C131.7078,-59.7236 131.9348,-69.1774 131.601,-77.9647\"/>\n<polygon fill=\"#6e7b8b\" stroke=\"#6e7b8b\" points=\"128.0915,-77.9908 130.9157,-88.2022 135.0759,-78.4583 128.0915,-77.9908\"/>\n</g>\n<!-- XT, N -->\n<g id=\"node10\" class=\"node\">\n<title>XT, N</title>\n<ellipse fill=\"#ccebc5\" stroke=\"#b2df8a\" cx=\"272\" cy=\"-34\" rx=\"27.8951\" ry=\"18\"/>\n<text text-anchor=\"start\" x=\"258.5\" y=\"-31.3\" font-family=\"Times,serif\" font-size=\"14.00\" fill=\"#000000\">X</text>\n<text text-anchor=\"start\" x=\"269.5\" y=\"-31.3\" font-family=\"Times,serif\" baseline-shift=\"sub\" font-size=\"10.00\" fill=\"#000000\">T, N</text>\n</g>\n<!-- YT, N&#45;&gt;XT, N -->\n<!-- XT, N&#45;&gt;YT, N -->\n<g id=\"edge12\" class=\"edge\">\n<title>XT, N&#45;&gt;YT, N</title>\n<path fill=\"none\" stroke=\"#6e7b8b\" d=\"M277.9202,-51.8425C278.7078,-59.7236 278.9348,-69.1774 278.601,-77.9647\"/>\n<polygon fill=\"#6e7b8b\" stroke=\"#6e7b8b\" points=\"275.0915,-77.9908 277.9157,-88.2022 282.0759,-78.4583 275.0915,-77.9908\"/>\n</g>\n<!-- XT, M -->\n<g id=\"node12\" class=\"node\">\n<title>XT, M</title>\n<ellipse fill=\"#ccebc5\" stroke=\"#b2df8a\" cx=\"353\" cy=\"-34\" rx=\"28.6953\" ry=\"18\"/>\n<text text-anchor=\"start\" x=\"339\" y=\"-31.3\" font-family=\"Times,serif\" font-size=\"14.00\" fill=\"#000000\">X</text>\n<text text-anchor=\"start\" x=\"350\" y=\"-31.3\" font-family=\"Times,serif\" baseline-shift=\"sub\" font-size=\"10.00\" fill=\"#000000\">T, M</text>\n</g>\n<!-- YT, M&#45;&gt;XT, M -->\n<!-- XT, M&#45;&gt;YT, M -->\n<g id=\"edge15\" class=\"edge\">\n<title>XT, M&#45;&gt;YT, M</title>\n<path fill=\"none\" stroke=\"#6e7b8b\" d=\"M358.9202,-51.8425C359.7078,-59.7236 359.9348,-69.1774 359.601,-77.9647\"/>\n<polygon fill=\"#6e7b8b\" stroke=\"#6e7b8b\" points=\"356.0915,-77.9908 358.9157,-88.2022 363.0759,-78.4583 356.0915,-77.9908\"/>\n</g>\n</g>\n</svg>\n"
          },
          "metadata": {},
          "execution_count": 3
        }
      ]
    },
    {
      "cell_type": "code",
      "metadata": {
        "colab": {
          "base_uri": "https://localhost:8080/",
          "height": 393
        },
        "id": "koUxUsKBI4Mk",
        "outputId": "67bbc869-f65e-4a66-e636-a5bc0f95670a"
      },
      "source": [
        "import graphviz\n",
        "\n",
        "dot = graphviz.Digraph(format='pdf')\n",
        "\n",
        "\n",
        "def create_node(dot, character, subscript, color='white', fill_color=\"white\", fontcolor=\"black\", is_greek_letter=False):\n",
        "    if is_greek_letter:\n",
        "        dot.node(f'{character}{subscript}',\n",
        "                 f\"<&{character};<FONT POINT-SIZE='12'><SUB>{subscript}</SUB></FONT>>\",\n",
        "                 color=color, fontcolor=fontcolor)\n",
        "    else:\n",
        "        dot.node(f'{character}{subscript}',\n",
        "                 f\"<{character}<FONT POINT-SIZE='10'><SUB>{subscript}</SUB></FONT>>\",\n",
        "                 style='filled', color=color, fillcolor=fill_color, fontcolor=fontcolor)\n",
        "\n",
        "\n",
        "def create_subgraph(dot, hidden, observable, subscript, name, label=\"\", color=\"grey\", bgcolor=\"white\",\n",
        "                    edge_color=\"black\"):\n",
        "    dot.edge(f'{hidden}{subscript}',\n",
        "             f'{observable}{subscript}',\n",
        "             style='invis')\n",
        "\n",
        "    with dot.subgraph(name=name) as c:\n",
        "        c.attr(style='rounded', color=color, bgcolor=bgcolor, label=label, fontcolor=color)\n",
        "        c.edge(f'{observable}{subscript}', f'{hidden}{subscript}', color=edge_color)\n",
        "\n",
        "\n",
        "subscripts_0 = ['1', 'T', 'T+1']\n",
        "\n",
        "train_subscript, test_subscript = 'N', 'M'\n",
        "subscripts_1 = [train_subscript, test_subscript]\n",
        "\n",
        "subgraph_labels = ['Train', 'Test']\n",
        "subgraph_colors = [\"/set34/4\", \"/paired3/2\"]\n",
        "\n",
        "edge_color = \"lightsteelblue4\"\n",
        "fontcolor = \"grey17\"\n",
        "hid_color, hid_fill_color = \"/accent3/2\", \"lavender\"\n",
        "obs_color, obs_fill_color = \"/paired3/3\", \"/pastel19/3\"\n",
        "\n",
        "param, hidden, observabale = 'Theta', 'Y', 'X'\n",
        "\n",
        "dot.node('phi', '<&Phi;>', color=\"white\", fontcolor=fontcolor)\n",
        "\n",
        "for i, subscript in enumerate(subscripts_0):\n",
        "    create_node(dot, param, subscript, color='white', fontcolor=fontcolor, is_greek_letter=True)\n",
        "    dot.edge('phi', f'{param}{subscript}', color=edge_color)\n",
        "\n",
        "for i, s0 in enumerate(subscripts_0):\n",
        "    for k, (s1, label, color) in enumerate(zip(subscripts_1, subgraph_labels, subgraph_colors)):\n",
        "        subscript = f'{s0}, {s1}'\n",
        "        dot.attr(rank=\"same\")\n",
        "\n",
        "        if s1 == 'N':\n",
        "            create_node(dot, hidden, subscript, color=hid_color, fill_color=hid_fill_color)\n",
        "        else:\n",
        "            create_node(dot, hidden, subscript, color=hid_color)\n",
        "\n",
        "        subgraph_idx = i * len(subscripts_0) + k\n",
        "        subgraph_label = f\"{label} {s0}\"\n",
        "        subgraph_name = f\"cluster_{subgraph_idx}\"\n",
        "\n",
        "        create_node(dot, observabale, subscript, color=obs_color, fill_color=obs_fill_color)\n",
        "        dot.edge(f'Theta{s0}', f'{hidden}{subscript}', color=edge_color)\n",
        "\n",
        "        create_subgraph(dot, hidden, observabale, subscript,\n",
        "                        name=subgraph_name, label=subgraph_label,\n",
        "                        color=color, edge_color=edge_color)\n",
        "\n",
        "    if i == 0:\n",
        "        dot.node(f'blank{i}', \"...\", color=\"white\")\n",
        "        dot.edge(f'Theta{s0}', f'blank{i}', style=\"invis\")\n",
        "\n",
        "file_name = 'hbayes-multi-task-plus1'\n",
        "dot.render(file_name, view=True)\n",
        "\n",
        "dot"
      ],
      "execution_count": 4,
      "outputs": [
        {
          "output_type": "execute_result",
          "data": {
            "text/plain": [
              "<graphviz.dot.Digraph at 0x7f0c5f1543d0>"
            ],
            "image/svg+xml": "<?xml version=\"1.0\" encoding=\"UTF-8\" standalone=\"no\"?>\n<!DOCTYPE svg PUBLIC \"-//W3C//DTD SVG 1.1//EN\"\n \"http://www.w3.org/Graphics/SVG/1.1/DTD/svg11.dtd\">\n<!-- Generated by graphviz version 2.40.1 (20161225.0304)\n -->\n<!-- Title: %3 Pages: 1 -->\n<svg width=\"592pt\" height=\"279pt\"\n viewBox=\"0.00 0.00 592.00 279.00\" xmlns=\"http://www.w3.org/2000/svg\" xmlns:xlink=\"http://www.w3.org/1999/xlink\">\n<g id=\"graph0\" class=\"graph\" transform=\"scale(1 1) rotate(0) translate(4 275)\">\n<title>%3</title>\n<polygon fill=\"#ffffff\" stroke=\"transparent\" points=\"-4,4 -4,-275 588,-275 588,4 -4,4\"/>\n<g id=\"clust1\" class=\"cluster\">\n<title>cluster_0</title>\n<path fill=\"#ffffff\" stroke=\"#fb8072\" d=\"M20,-8C20,-8 68,-8 68,-8 74,-8 80,-14 80,-20 80,-20 80,-143 80,-143 80,-149 74,-155 68,-155 68,-155 20,-155 20,-155 14,-155 8,-149 8,-143 8,-143 8,-20 8,-20 8,-14 14,-8 20,-8\"/>\n<text text-anchor=\"middle\" x=\"44\" y=\"-139.8\" font-family=\"Times,serif\" font-size=\"14.00\" fill=\"#fb8072\">Train 1</text>\n</g>\n<g id=\"clust2\" class=\"cluster\">\n<title>cluster_1</title>\n<path fill=\"#ffffff\" stroke=\"#1f78b4\" d=\"M100,-8C100,-8 150,-8 150,-8 156,-8 162,-14 162,-20 162,-20 162,-143 162,-143 162,-149 156,-155 150,-155 150,-155 100,-155 100,-155 94,-155 88,-149 88,-143 88,-143 88,-20 88,-20 88,-14 94,-8 100,-8\"/>\n<text text-anchor=\"middle\" x=\"125\" y=\"-139.8\" font-family=\"Times,serif\" font-size=\"14.00\" fill=\"#1f78b4\">Test 1</text>\n</g>\n<g id=\"clust3\" class=\"cluster\">\n<title>cluster_3</title>\n<path fill=\"#ffffff\" stroke=\"#fb8072\" d=\"M248,-8C248,-8 296,-8 296,-8 302,-8 308,-14 308,-20 308,-20 308,-143 308,-143 308,-149 302,-155 296,-155 296,-155 248,-155 248,-155 242,-155 236,-149 236,-143 236,-143 236,-20 236,-20 236,-14 242,-8 248,-8\"/>\n<text text-anchor=\"middle\" x=\"272\" y=\"-139.8\" font-family=\"Times,serif\" font-size=\"14.00\" fill=\"#fb8072\">Train T</text>\n</g>\n<g id=\"clust4\" class=\"cluster\">\n<title>cluster_4</title>\n<path fill=\"#ffffff\" stroke=\"#1f78b4\" d=\"M328,-8C328,-8 378,-8 378,-8 384,-8 390,-14 390,-20 390,-20 390,-143 390,-143 390,-149 384,-155 378,-155 378,-155 328,-155 328,-155 322,-155 316,-149 316,-143 316,-143 316,-20 316,-20 316,-14 322,-8 328,-8\"/>\n<text text-anchor=\"middle\" x=\"353\" y=\"-139.8\" font-family=\"Times,serif\" font-size=\"14.00\" fill=\"#1f78b4\">Test T</text>\n</g>\n<g id=\"clust5\" class=\"cluster\">\n<title>cluster_6</title>\n<path fill=\"#ffffff\" stroke=\"#fb8072\" d=\"M410,-8C410,-8 470,-8 470,-8 476,-8 482,-14 482,-20 482,-20 482,-143 482,-143 482,-149 476,-155 470,-155 470,-155 410,-155 410,-155 404,-155 398,-149 398,-143 398,-143 398,-20 398,-20 398,-14 404,-8 410,-8\"/>\n<text text-anchor=\"middle\" x=\"440\" y=\"-139.8\" font-family=\"Times,serif\" font-size=\"14.00\" fill=\"#fb8072\">Train T+1</text>\n</g>\n<g id=\"clust6\" class=\"cluster\">\n<title>cluster_7</title>\n<path fill=\"#ffffff\" stroke=\"#1f78b4\" d=\"M502,-8C502,-8 564,-8 564,-8 570,-8 576,-14 576,-20 576,-20 576,-143 576,-143 576,-149 570,-155 564,-155 564,-155 502,-155 502,-155 496,-155 490,-149 490,-143 490,-143 490,-20 490,-20 490,-14 496,-8 502,-8\"/>\n<text text-anchor=\"middle\" x=\"533\" y=\"-139.8\" font-family=\"Times,serif\" font-size=\"14.00\" fill=\"#1f78b4\">Test T+1</text>\n</g>\n<!-- phi -->\n<g id=\"node1\" class=\"node\">\n<title>phi</title>\n<ellipse fill=\"none\" stroke=\"#ffffff\" cx=\"312\" cy=\"-253\" rx=\"27\" ry=\"18\"/>\n<text text-anchor=\"start\" x=\"306.5\" y=\"-249.3\" font-family=\"Times,serif\" font-size=\"14.00\" fill=\"#2b2b2b\">Φ</text>\n</g>\n<!-- Theta1 -->\n<g id=\"node2\" class=\"node\">\n<title>Theta1</title>\n<ellipse fill=\"none\" stroke=\"#ffffff\" cx=\"162\" cy=\"-181\" rx=\"27\" ry=\"18\"/>\n<text text-anchor=\"start\" x=\"153.5\" y=\"-178.3\" font-family=\"Times,serif\" font-size=\"14.00\" fill=\"#2b2b2b\">Θ</text>\n<text text-anchor=\"start\" x=\"164.5\" y=\"-178.3\" font-family=\"Times,serif\" baseline-shift=\"sub\" font-size=\"12.00\" fill=\"#2b2b2b\">1</text>\n</g>\n<!-- phi&#45;&gt;Theta1 -->\n<g id=\"edge1\" class=\"edge\">\n<title>phi&#45;&gt;Theta1</title>\n<path fill=\"none\" stroke=\"#6e7b8b\" d=\"M289.867,-242.3762C264.3873,-230.1459 222.3445,-209.9654 193.4687,-196.105\"/>\n<polygon fill=\"#6e7b8b\" stroke=\"#6e7b8b\" points=\"194.7536,-192.8395 184.2238,-191.6674 191.7245,-199.1501 194.7536,-192.8395\"/>\n</g>\n<!-- ThetaT -->\n<g id=\"node3\" class=\"node\">\n<title>ThetaT</title>\n<ellipse fill=\"none\" stroke=\"#ffffff\" cx=\"312\" cy=\"-181\" rx=\"27\" ry=\"18\"/>\n<text text-anchor=\"start\" x=\"303\" y=\"-178.3\" font-family=\"Times,serif\" font-size=\"14.00\" fill=\"#2b2b2b\">Θ</text>\n<text text-anchor=\"start\" x=\"314\" y=\"-178.3\" font-family=\"Times,serif\" baseline-shift=\"sub\" font-size=\"12.00\" fill=\"#2b2b2b\">T</text>\n</g>\n<!-- phi&#45;&gt;ThetaT -->\n<g id=\"edge2\" class=\"edge\">\n<title>phi&#45;&gt;ThetaT</title>\n<path fill=\"none\" stroke=\"#6e7b8b\" d=\"M312,-234.8314C312,-227.131 312,-217.9743 312,-209.4166\"/>\n<polygon fill=\"#6e7b8b\" stroke=\"#6e7b8b\" points=\"315.5001,-209.4132 312,-199.4133 308.5001,-209.4133 315.5001,-209.4132\"/>\n</g>\n<!-- ThetaT+1 -->\n<g id=\"node4\" class=\"node\">\n<title>ThetaT+1</title>\n<ellipse fill=\"none\" stroke=\"#ffffff\" cx=\"440\" cy=\"-181\" rx=\"28.6953\" ry=\"18\"/>\n<text text-anchor=\"start\" x=\"426\" y=\"-178.3\" font-family=\"Times,serif\" font-size=\"14.00\" fill=\"#2b2b2b\">Θ</text>\n<text text-anchor=\"start\" x=\"437\" y=\"-178.3\" font-family=\"Times,serif\" baseline-shift=\"sub\" font-size=\"12.00\" fill=\"#2b2b2b\">T+1</text>\n</g>\n<!-- phi&#45;&gt;ThetaT+1 -->\n<g id=\"edge3\" class=\"edge\">\n<title>phi&#45;&gt;ThetaT+1</title>\n<path fill=\"none\" stroke=\"#6e7b8b\" d=\"M332.8503,-241.2717C353.6132,-229.5926 385.7174,-211.534 409.3743,-198.2269\"/>\n<polygon fill=\"#6e7b8b\" stroke=\"#6e7b8b\" points=\"411.3026,-201.1581 418.3024,-193.2049 407.8707,-195.057 411.3026,-201.1581\"/>\n</g>\n<!-- Y1, N -->\n<g id=\"node5\" class=\"node\">\n<title>Y1, N</title>\n<ellipse fill=\"#e6e6fa\" stroke=\"#beaed4\" cx=\"44\" cy=\"-106\" rx=\"27.8951\" ry=\"18\"/>\n<text text-anchor=\"start\" x=\"30.5\" y=\"-103.3\" font-family=\"Times,serif\" font-size=\"14.00\" fill=\"#000000\">Y</text>\n<text text-anchor=\"start\" x=\"41.5\" y=\"-103.3\" font-family=\"Times,serif\" baseline-shift=\"sub\" font-size=\"10.00\" fill=\"#000000\">1, N</text>\n</g>\n<!-- Theta1&#45;&gt;Y1, N -->\n<g id=\"edge4\" class=\"edge\">\n<title>Theta1&#45;&gt;Y1, N</title>\n<path fill=\"none\" stroke=\"#6e7b8b\" d=\"M135.7434,-176.1408C119.7617,-172.2787 99.5086,-165.7005 84,-155 74.916,-148.7323 66.7997,-139.834 60.2913,-131.3364\"/>\n<polygon fill=\"#6e7b8b\" stroke=\"#6e7b8b\" points=\"63.0296,-129.1498 54.3425,-123.0847 57.3513,-133.2434 63.0296,-129.1498\"/>\n</g>\n<!-- Y1, M -->\n<g id=\"node7\" class=\"node\">\n<title>Y1, M</title>\n<ellipse fill=\"#ffffff\" stroke=\"#beaed4\" cx=\"125\" cy=\"-106\" rx=\"28.6953\" ry=\"18\"/>\n<text text-anchor=\"start\" x=\"111\" y=\"-103.3\" font-family=\"Times,serif\" font-size=\"14.00\" fill=\"#000000\">Y</text>\n<text text-anchor=\"start\" x=\"122\" y=\"-103.3\" font-family=\"Times,serif\" baseline-shift=\"sub\" font-size=\"10.00\" fill=\"#000000\">1, M</text>\n</g>\n<!-- Theta1&#45;&gt;Y1, M -->\n<g id=\"edge7\" class=\"edge\">\n<title>Theta1&#45;&gt;Y1, M</title>\n<path fill=\"none\" stroke=\"#6e7b8b\" d=\"M153.4185,-163.605C148.842,-154.3283 143.1158,-142.7212 138.005,-132.3614\"/>\n<polygon fill=\"#6e7b8b\" stroke=\"#6e7b8b\" points=\"141.0981,-130.7203 133.535,-123.3007 134.8205,-133.8173 141.0981,-130.7203\"/>\n</g>\n<!-- blank0 -->\n<g id=\"node9\" class=\"node\">\n<title>blank0</title>\n<ellipse fill=\"none\" stroke=\"#ffffff\" cx=\"199\" cy=\"-106\" rx=\"27\" ry=\"18\"/>\n<text text-anchor=\"middle\" x=\"199\" y=\"-102.3\" font-family=\"Times,serif\" font-size=\"14.00\" fill=\"#000000\">...</text>\n</g>\n<!-- Theta1&#45;&gt;blank0 -->\n<!-- YT, N -->\n<g id=\"node10\" class=\"node\">\n<title>YT, N</title>\n<ellipse fill=\"#e6e6fa\" stroke=\"#beaed4\" cx=\"272\" cy=\"-106\" rx=\"27.8951\" ry=\"18\"/>\n<text text-anchor=\"start\" x=\"258.5\" y=\"-103.3\" font-family=\"Times,serif\" font-size=\"14.00\" fill=\"#000000\">Y</text>\n<text text-anchor=\"start\" x=\"269.5\" y=\"-103.3\" font-family=\"Times,serif\" baseline-shift=\"sub\" font-size=\"10.00\" fill=\"#000000\">T, N</text>\n</g>\n<!-- ThetaT&#45;&gt;YT, N -->\n<g id=\"edge11\" class=\"edge\">\n<title>ThetaT&#45;&gt;YT, N</title>\n<path fill=\"none\" stroke=\"#6e7b8b\" d=\"M302.9234,-163.9813C297.8959,-154.5549 291.5401,-142.6377 285.9,-132.0625\"/>\n<polygon fill=\"#6e7b8b\" stroke=\"#6e7b8b\" points=\"288.9733,-130.3874 281.1792,-123.2109 282.7969,-133.6815 288.9733,-130.3874\"/>\n</g>\n<!-- YT, M -->\n<g id=\"node12\" class=\"node\">\n<title>YT, M</title>\n<ellipse fill=\"#ffffff\" stroke=\"#beaed4\" cx=\"353\" cy=\"-106\" rx=\"28.6953\" ry=\"18\"/>\n<text text-anchor=\"start\" x=\"339\" y=\"-103.3\" font-family=\"Times,serif\" font-size=\"14.00\" fill=\"#000000\">Y</text>\n<text text-anchor=\"start\" x=\"350\" y=\"-103.3\" font-family=\"Times,serif\" baseline-shift=\"sub\" font-size=\"10.00\" fill=\"#000000\">T, M</text>\n</g>\n<!-- ThetaT&#45;&gt;YT, M -->\n<g id=\"edge14\" class=\"edge\">\n<title>ThetaT&#45;&gt;YT, M</title>\n<path fill=\"none\" stroke=\"#6e7b8b\" d=\"M321.3035,-163.9813C326.4567,-154.5549 332.9714,-142.6377 338.7525,-132.0625\"/>\n<polygon fill=\"#6e7b8b\" stroke=\"#6e7b8b\" points=\"341.8657,-133.6643 343.5914,-123.2109 335.7235,-130.3065 341.8657,-133.6643\"/>\n</g>\n<!-- YT+1, N -->\n<g id=\"node14\" class=\"node\">\n<title>YT+1, N</title>\n<ellipse fill=\"#e6e6fa\" stroke=\"#beaed4\" cx=\"440\" cy=\"-106\" rx=\"33.5952\" ry=\"18\"/>\n<text text-anchor=\"start\" x=\"422\" y=\"-103.3\" font-family=\"Times,serif\" font-size=\"14.00\" fill=\"#000000\">Y</text>\n<text text-anchor=\"start\" x=\"433\" y=\"-103.3\" font-family=\"Times,serif\" baseline-shift=\"sub\" font-size=\"10.00\" fill=\"#000000\">T+1, N</text>\n</g>\n<!-- ThetaT+1&#45;&gt;YT+1, N -->\n<g id=\"edge17\" class=\"edge\">\n<title>ThetaT+1&#45;&gt;YT+1, N</title>\n<path fill=\"none\" stroke=\"#6e7b8b\" d=\"M440,-162.8446C440,-154.3401 440,-144.0076 440,-134.4964\"/>\n<polygon fill=\"#6e7b8b\" stroke=\"#6e7b8b\" points=\"443.5001,-134.2481 440,-124.2482 436.5001,-134.2482 443.5001,-134.2481\"/>\n</g>\n<!-- YT+1, M -->\n<g id=\"node16\" class=\"node\">\n<title>YT+1, M</title>\n<ellipse fill=\"#ffffff\" stroke=\"#beaed4\" cx=\"533\" cy=\"-106\" rx=\"35.194\" ry=\"18\"/>\n<text text-anchor=\"start\" x=\"514\" y=\"-103.3\" font-family=\"Times,serif\" font-size=\"14.00\" fill=\"#000000\">Y</text>\n<text text-anchor=\"start\" x=\"525\" y=\"-103.3\" font-family=\"Times,serif\" baseline-shift=\"sub\" font-size=\"10.00\" fill=\"#000000\">T+1, M</text>\n</g>\n<!-- ThetaT+1&#45;&gt;YT+1, M -->\n<g id=\"edge20\" class=\"edge\">\n<title>ThetaT+1&#45;&gt;YT+1, M</title>\n<path fill=\"none\" stroke=\"#6e7b8b\" d=\"M462.8241,-169.815C470.4946,-165.617 478.8998,-160.5144 486,-155 495.4086,-147.6928 504.7135,-138.5185 512.5302,-130.09\"/>\n<polygon fill=\"#6e7b8b\" stroke=\"#6e7b8b\" points=\"515.1551,-132.4055 519.2508,-122.6342 509.9557,-127.7187 515.1551,-132.4055\"/>\n</g>\n<!-- X1, N -->\n<g id=\"node6\" class=\"node\">\n<title>X1, N</title>\n<ellipse fill=\"#ccebc5\" stroke=\"#b2df8a\" cx=\"44\" cy=\"-34\" rx=\"27.8951\" ry=\"18\"/>\n<text text-anchor=\"start\" x=\"30.5\" y=\"-31.3\" font-family=\"Times,serif\" font-size=\"14.00\" fill=\"#000000\">X</text>\n<text text-anchor=\"start\" x=\"41.5\" y=\"-31.3\" font-family=\"Times,serif\" baseline-shift=\"sub\" font-size=\"10.00\" fill=\"#000000\">1, N</text>\n</g>\n<!-- Y1, N&#45;&gt;X1, N -->\n<!-- X1, N&#45;&gt;Y1, N -->\n<g id=\"edge6\" class=\"edge\">\n<title>X1, N&#45;&gt;Y1, N</title>\n<path fill=\"none\" stroke=\"#6e7b8b\" d=\"M49.9202,-51.8425C50.7078,-59.7236 50.9348,-69.1774 50.601,-77.9647\"/>\n<polygon fill=\"#6e7b8b\" stroke=\"#6e7b8b\" points=\"47.0915,-77.9908 49.9157,-88.2022 54.0759,-78.4583 47.0915,-77.9908\"/>\n</g>\n<!-- X1, M -->\n<g id=\"node8\" class=\"node\">\n<title>X1, M</title>\n<ellipse fill=\"#ccebc5\" stroke=\"#b2df8a\" cx=\"125\" cy=\"-34\" rx=\"28.6953\" ry=\"18\"/>\n<text text-anchor=\"start\" x=\"111\" y=\"-31.3\" font-family=\"Times,serif\" font-size=\"14.00\" fill=\"#000000\">X</text>\n<text text-anchor=\"start\" x=\"122\" y=\"-31.3\" font-family=\"Times,serif\" baseline-shift=\"sub\" font-size=\"10.00\" fill=\"#000000\">1, M</text>\n</g>\n<!-- Y1, M&#45;&gt;X1, M -->\n<!-- X1, M&#45;&gt;Y1, M -->\n<g id=\"edge9\" class=\"edge\">\n<title>X1, M&#45;&gt;Y1, M</title>\n<path fill=\"none\" stroke=\"#6e7b8b\" d=\"M130.9202,-51.8425C131.7078,-59.7236 131.9348,-69.1774 131.601,-77.9647\"/>\n<polygon fill=\"#6e7b8b\" stroke=\"#6e7b8b\" points=\"128.0915,-77.9908 130.9157,-88.2022 135.0759,-78.4583 128.0915,-77.9908\"/>\n</g>\n<!-- XT, N -->\n<g id=\"node11\" class=\"node\">\n<title>XT, N</title>\n<ellipse fill=\"#ccebc5\" stroke=\"#b2df8a\" cx=\"272\" cy=\"-34\" rx=\"27.8951\" ry=\"18\"/>\n<text text-anchor=\"start\" x=\"258.5\" y=\"-31.3\" font-family=\"Times,serif\" font-size=\"14.00\" fill=\"#000000\">X</text>\n<text text-anchor=\"start\" x=\"269.5\" y=\"-31.3\" font-family=\"Times,serif\" baseline-shift=\"sub\" font-size=\"10.00\" fill=\"#000000\">T, N</text>\n</g>\n<!-- YT, N&#45;&gt;XT, N -->\n<!-- XT, N&#45;&gt;YT, N -->\n<g id=\"edge13\" class=\"edge\">\n<title>XT, N&#45;&gt;YT, N</title>\n<path fill=\"none\" stroke=\"#6e7b8b\" d=\"M277.9202,-51.8425C278.7078,-59.7236 278.9348,-69.1774 278.601,-77.9647\"/>\n<polygon fill=\"#6e7b8b\" stroke=\"#6e7b8b\" points=\"275.0915,-77.9908 277.9157,-88.2022 282.0759,-78.4583 275.0915,-77.9908\"/>\n</g>\n<!-- XT, M -->\n<g id=\"node13\" class=\"node\">\n<title>XT, M</title>\n<ellipse fill=\"#ccebc5\" stroke=\"#b2df8a\" cx=\"353\" cy=\"-34\" rx=\"28.6953\" ry=\"18\"/>\n<text text-anchor=\"start\" x=\"339\" y=\"-31.3\" font-family=\"Times,serif\" font-size=\"14.00\" fill=\"#000000\">X</text>\n<text text-anchor=\"start\" x=\"350\" y=\"-31.3\" font-family=\"Times,serif\" baseline-shift=\"sub\" font-size=\"10.00\" fill=\"#000000\">T, M</text>\n</g>\n<!-- YT, M&#45;&gt;XT, M -->\n<!-- XT, M&#45;&gt;YT, M -->\n<g id=\"edge16\" class=\"edge\">\n<title>XT, M&#45;&gt;YT, M</title>\n<path fill=\"none\" stroke=\"#6e7b8b\" d=\"M358.9202,-51.8425C359.7078,-59.7236 359.9348,-69.1774 359.601,-77.9647\"/>\n<polygon fill=\"#6e7b8b\" stroke=\"#6e7b8b\" points=\"356.0915,-77.9908 358.9157,-88.2022 363.0759,-78.4583 356.0915,-77.9908\"/>\n</g>\n<!-- XT+1, N -->\n<g id=\"node15\" class=\"node\">\n<title>XT+1, N</title>\n<ellipse fill=\"#ccebc5\" stroke=\"#b2df8a\" cx=\"440\" cy=\"-34\" rx=\"33.5952\" ry=\"18\"/>\n<text text-anchor=\"start\" x=\"422\" y=\"-31.3\" font-family=\"Times,serif\" font-size=\"14.00\" fill=\"#000000\">X</text>\n<text text-anchor=\"start\" x=\"433\" y=\"-31.3\" font-family=\"Times,serif\" baseline-shift=\"sub\" font-size=\"10.00\" fill=\"#000000\">T+1, N</text>\n</g>\n<!-- YT+1, N&#45;&gt;XT+1, N -->\n<!-- XT+1, N&#45;&gt;YT+1, N -->\n<g id=\"edge19\" class=\"edge\">\n<title>XT+1, N&#45;&gt;YT+1, N</title>\n<path fill=\"none\" stroke=\"#6e7b8b\" d=\"M445.9202,-51.8425C446.7078,-59.7236 446.9348,-69.1774 446.601,-77.9647\"/>\n<polygon fill=\"#6e7b8b\" stroke=\"#6e7b8b\" points=\"443.0915,-77.9908 445.9157,-88.2022 450.0759,-78.4583 443.0915,-77.9908\"/>\n</g>\n<!-- XT+1, M -->\n<g id=\"node17\" class=\"node\">\n<title>XT+1, M</title>\n<ellipse fill=\"#ccebc5\" stroke=\"#b2df8a\" cx=\"533\" cy=\"-34\" rx=\"35.194\" ry=\"18\"/>\n<text text-anchor=\"start\" x=\"514\" y=\"-31.3\" font-family=\"Times,serif\" font-size=\"14.00\" fill=\"#000000\">X</text>\n<text text-anchor=\"start\" x=\"525\" y=\"-31.3\" font-family=\"Times,serif\" baseline-shift=\"sub\" font-size=\"10.00\" fill=\"#000000\">T+1, M</text>\n</g>\n<!-- YT+1, M&#45;&gt;XT+1, M -->\n<!-- XT+1, M&#45;&gt;YT+1, M -->\n<g id=\"edge22\" class=\"edge\">\n<title>XT+1, M&#45;&gt;YT+1, M</title>\n<path fill=\"none\" stroke=\"#6e7b8b\" d=\"M538.9202,-51.8425C539.7078,-59.7236 539.9348,-69.1774 539.601,-77.9647\"/>\n<polygon fill=\"#6e7b8b\" stroke=\"#6e7b8b\" points=\"536.0915,-77.9908 538.9157,-88.2022 543.0759,-78.4583 536.0915,-77.9908\"/>\n</g>\n</g>\n</svg>\n"
          },
          "metadata": {},
          "execution_count": 4
        }
      ]
    }
  ]
}