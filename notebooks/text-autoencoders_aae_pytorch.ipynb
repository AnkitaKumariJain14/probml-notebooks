{
  "nbformat": 4,
  "nbformat_minor": 0,
  "metadata": {
    "colab": {
      "name": "Copy of text_vae_all_in_one.ipynb",
      "provenance": []
    },
    "kernelspec": {
      "name": "python3",
      "display_name": "Python 3"
    },
    "language_info": {
      "name": "python"
    },
    "accelerator": "GPU"
  },
  "cells": [
    {
      "cell_type": "markdown",
      "metadata": {
        "id": "MgaMOfMt0rLz"
      },
      "source": [
        "# Adversarial autoencoders for text\n",
        "\n",
        "### Code: https://github.com/shentianxiao/text-autoencoders\n",
        "\n",
        "### Paper: https://arxiv.org/pdf/1905.12777.pdf\n",
        "\n"
      ]
    },
    {
      "cell_type": "markdown",
      "metadata": {
        "id": "YUYM4RbZ0nQh"
      },
      "source": [
        "# Set up"
      ]
    },
    {
      "cell_type": "code",
      "metadata": {
        "colab": {
          "base_uri": "https://localhost:8080/"
        },
        "id": "5YDwUFHfIPUy",
        "outputId": "038de028-0ae2-4248-e1bf-be7a6fbe50d2"
      },
      "source": [
        "import torch\n",
        "from multiprocessing import cpu_count\n",
        "print(cpu_count())\n",
        "print(torch.cuda.is_available())"
      ],
      "execution_count": 1,
      "outputs": [
        {
          "output_type": "stream",
          "text": [
            "2\n",
            "True\n"
          ],
          "name": "stdout"
        }
      ]
    },
    {
      "cell_type": "code",
      "metadata": {
        "colab": {
          "base_uri": "https://localhost:8080/"
        },
        "id": "OBTDYua1IPYw",
        "outputId": "1820f3fd-2726-4417-ab18-3f9d22e51634"
      },
      "source": [
        "!git clone https://github.com/shentianxiao/text-autoencoders.git "
      ],
      "execution_count": 2,
      "outputs": [
        {
          "output_type": "stream",
          "text": [
            "Cloning into 'text-autoencoders'...\n",
            "remote: Enumerating objects: 114, done.\u001b[K\n",
            "remote: Counting objects: 100% (31/31), done.\u001b[K\n",
            "remote: Compressing objects: 100% (27/27), done.\u001b[K\n",
            "remote: Total 114 (delta 11), reused 12 (delta 4), pack-reused 83\u001b[K\n",
            "Receiving objects: 100% (114/114), 270.78 KiB | 7.52 MiB/s, done.\n",
            "Resolving deltas: 100% (56/56), done.\n"
          ],
          "name": "stdout"
        }
      ]
    },
    {
      "cell_type": "code",
      "metadata": {
        "colab": {
          "base_uri": "https://localhost:8080/"
        },
        "id": "82JBs11jNxv1",
        "outputId": "020f1bd3-2711-4270-cd51-270c42f4f452"
      },
      "source": [
        "%cd text-autoencoders"
      ],
      "execution_count": 3,
      "outputs": [
        {
          "output_type": "stream",
          "text": [
            "/content/text-autoencoders\n"
          ],
          "name": "stdout"
        }
      ]
    },
    {
      "cell_type": "code",
      "metadata": {
        "colab": {
          "base_uri": "https://localhost:8080/"
        },
        "id": "eIy1JfPPNx5x",
        "outputId": "0266fda9-4824-42ae-9e7f-3eaccee96ca6"
      },
      "source": [
        "!bash download_data.sh"
      ],
      "execution_count": 4,
      "outputs": [
        {
          "output_type": "stream",
          "text": [
            "--2021-07-22 11:02:07--  http://people.csail.mit.edu/tianxiao/data/yelp.zip\n",
            "Resolving people.csail.mit.edu (people.csail.mit.edu)... 128.30.2.133\n",
            "Connecting to people.csail.mit.edu (people.csail.mit.edu)|128.30.2.133|:80... connected.\n",
            "HTTP request sent, awaiting response... 200 OK\n",
            "Length: 3676642 (3.5M) [application/zip]\n",
            "Saving to: ‘yelp.zip’\n",
            "\n",
            "yelp.zip            100%[===================>]   3.51M  4.97MB/s    in 0.7s    \n",
            "\n",
            "2021-07-22 11:02:08 (4.97 MB/s) - ‘yelp.zip’ saved [3676642/3676642]\n",
            "\n",
            "Archive:  yelp.zip\n",
            "   creating: yelp/\n",
            "   creating: yelp/tense/\n",
            "  inflating: yelp/tense/valid.past   \n",
            "  inflating: yelp/tense/valid.present  \n",
            "  inflating: yelp/tense/test.past    \n",
            "  inflating: yelp/tense/test.present  \n",
            "   creating: yelp/sentiment/\n",
            "  inflating: yelp/sentiment/100.neg  \n",
            "  inflating: yelp/sentiment/100.pos  \n",
            "  inflating: yelp/sentiment/1000.neg  \n",
            "  inflating: yelp/sentiment/1000.pos  \n",
            "  inflating: yelp/test.txt           \n",
            "  inflating: yelp/train.txt          \n",
            "  inflating: yelp/valid.txt          \n",
            "   creating: yelp/interpolate/\n",
            "  inflating: yelp/interpolate/example.long  \n",
            "  inflating: yelp/interpolate/example.short  \n",
            "--2021-07-22 11:02:08--  http://people.csail.mit.edu/tianxiao/data/yahoo.zip\n",
            "Resolving people.csail.mit.edu (people.csail.mit.edu)... 128.30.2.133\n",
            "Connecting to people.csail.mit.edu (people.csail.mit.edu)|128.30.2.133|:80... connected.\n",
            "HTTP request sent, awaiting response... 200 OK\n",
            "Length: 11962156 (11M) [application/zip]\n",
            "Saving to: ‘yahoo.zip’\n",
            "\n",
            "yahoo.zip           100%[===================>]  11.41M  12.1MB/s    in 0.9s    \n",
            "\n",
            "2021-07-22 11:02:09 (12.1 MB/s) - ‘yahoo.zip’ saved [11962156/11962156]\n",
            "\n",
            "Archive:  yahoo.zip\n",
            "   creating: yahoo/\n",
            "  inflating: yahoo/test.txt          \n",
            "  inflating: yahoo/train.txt         \n",
            "  inflating: yahoo/valid.txt         \n"
          ],
          "name": "stdout"
        }
      ]
    },
    {
      "cell_type": "markdown",
      "metadata": {
        "id": "rG97oAJdvCup"
      },
      "source": [
        "# Imports"
      ]
    },
    {
      "cell_type": "code",
      "metadata": {
        "id": "JeOW9eT0vBse"
      },
      "source": [
        "import os\n",
        "import torch\n",
        "import numpy as np\n",
        "from sklearn.neighbors import NearestNeighbors\n",
        "\n",
        "from vocab import Vocab\n",
        "from model import *\n",
        "from utils import *\n",
        "from batchify import get_batches\n",
        "from train import evaluate"
      ],
      "execution_count": 5,
      "outputs": []
    },
    {
      "cell_type": "markdown",
      "metadata": {
        "id": "AoLQcAN-wZh6"
      },
      "source": [
        "# Getting the checkpoints of trained model from probml-data bucket "
      ]
    },
    {
      "cell_type": "code",
      "metadata": {
        "id": "xs_rWp-5HEmU"
      },
      "source": [
        "from google.colab import auth\n",
        "auth.authenticate_user()"
      ],
      "execution_count": 6,
      "outputs": []
    },
    {
      "cell_type": "code",
      "metadata": {
        "id": "mai41aZaIO52"
      },
      "source": [
        "import uuid\n",
        "bucket_name = 'probml_data' "
      ],
      "execution_count": 7,
      "outputs": []
    },
    {
      "cell_type": "code",
      "metadata": {
        "id": "doylC-Z0wmJP"
      },
      "source": [
        "!mkdir /content/text-autoencoders/checkpoints"
      ],
      "execution_count": 8,
      "outputs": []
    },
    {
      "cell_type": "code",
      "metadata": {
        "colab": {
          "base_uri": "https://localhost:8080/"
        },
        "id": "SWU46UisvJEC",
        "outputId": "821e0e31-91a0-44e5-e42c-3668d6218e3d"
      },
      "source": [
        "!gsutil cp -r gs://{bucket_name}/text-autoencoders/vocab.txt /content/text-autoencoders/checkpoints/"
      ],
      "execution_count": 9,
      "outputs": [
        {
          "output_type": "stream",
          "text": [
            "Copying gs://probml_data/text-autoencoders/vocab.txt...\n",
            "/ [1 files][100.7 KiB/100.7 KiB]                                                \n",
            "Operation completed over 1 objects/100.7 KiB.                                    \n"
          ],
          "name": "stdout"
        }
      ]
    },
    {
      "cell_type": "code",
      "metadata": {
        "colab": {
          "base_uri": "https://localhost:8080/"
        },
        "id": "dwl-tQNfvtsj",
        "outputId": "1063ea18-54dd-4517-fbbf-ae237a305d47"
      },
      "source": [
        "!gsutil cp -r gs://{bucket_name}/text-autoencoders/text_ae_yelp_30_epochs.pt /content/text-autoencoders/checkpoints/"
      ],
      "execution_count": 10,
      "outputs": [
        {
          "output_type": "stream",
          "text": [
            "Copying gs://probml_data/text-autoencoders/text_ae_yelp_30_epochs.pt...\n",
            "| [1 files][133.3 MiB/133.3 MiB]                                                \n",
            "Operation completed over 1 objects/133.3 MiB.                                    \n"
          ],
          "name": "stdout"
        }
      ]
    },
    {
      "cell_type": "markdown",
      "metadata": {
        "id": "gD8bPHl9yJYX"
      },
      "source": [
        "# Creating vocab"
      ]
    },
    {
      "cell_type": "code",
      "metadata": {
        "id": "J5PB57qlRRQe"
      },
      "source": [
        "vocab = Vocab('/content/text-autoencoders/checkpoints/vocab.txt') #os.path.join(args.checkpoint, 'vocab.txt')"
      ],
      "execution_count": 11,
      "outputs": []
    },
    {
      "cell_type": "code",
      "metadata": {
        "id": "vPxgjNEERRX3"
      },
      "source": [
        "seed = 1111\n",
        "random.seed(seed)\n",
        "np.random.seed(seed)\n",
        "torch.manual_seed(seed)\n",
        "batch_size = 100\n",
        "max_len = 35"
      ],
      "execution_count": 12,
      "outputs": []
    },
    {
      "cell_type": "code",
      "metadata": {
        "id": "gnHUEdKDSP0o"
      },
      "source": [
        "device = torch.device('cuda' if torch.cuda.is_available() else 'cpu')"
      ],
      "execution_count": 13,
      "outputs": []
    },
    {
      "cell_type": "markdown",
      "metadata": {
        "id": "8Plc0VoUyNzt"
      },
      "source": [
        "# Loading checkpoints\n"
      ]
    },
    {
      "cell_type": "code",
      "metadata": {
        "id": "kNdOXogwSdkK"
      },
      "source": [
        "ckpt = torch.load('/content/text-autoencoders/checkpoints/text_ae_yelp_30_epochs.pt')"
      ],
      "execution_count": 14,
      "outputs": []
    },
    {
      "cell_type": "code",
      "metadata": {
        "id": "vAMhD8pwSdrq"
      },
      "source": [
        "train_args = ckpt['args']"
      ],
      "execution_count": 15,
      "outputs": []
    },
    {
      "cell_type": "markdown",
      "metadata": {
        "id": "7q3AmmtjyRsI"
      },
      "source": [
        "# Selecting AAE model"
      ]
    },
    {
      "cell_type": "code",
      "metadata": {
        "id": "Q1kNfaynSdy8"
      },
      "source": [
        "model = {'dae': DAE, 'vae': VAE, 'aae': AAE}['aae'](vocab, train_args).to(device) "
      ],
      "execution_count": 16,
      "outputs": []
    },
    {
      "cell_type": "code",
      "metadata": {
        "colab": {
          "base_uri": "https://localhost:8080/"
        },
        "id": "hYOyYNEpSd6l",
        "outputId": "4dbc7973-b5b2-4c96-9423-a1b335e30689"
      },
      "source": [
        "model.load_state_dict(ckpt['model'])\n",
        "model.flatten()\n",
        "model.eval()"
      ],
      "execution_count": 17,
      "outputs": [
        {
          "output_type": "execute_result",
          "data": {
            "text/plain": [
              "AAE(\n",
              "  (embed): Embedding(10005, 512)\n",
              "  (proj): Linear(in_features=1024, out_features=10005, bias=True)\n",
              "  (drop): Dropout(p=0.5, inplace=False)\n",
              "  (E): LSTM(512, 1024, bidirectional=True)\n",
              "  (G): LSTM(512, 1024)\n",
              "  (h2mu): Linear(in_features=2048, out_features=128, bias=True)\n",
              "  (h2logvar): Linear(in_features=2048, out_features=128, bias=True)\n",
              "  (z2emb): Linear(in_features=128, out_features=512, bias=True)\n",
              "  (D): Sequential(\n",
              "    (0): Linear(in_features=128, out_features=512, bias=True)\n",
              "    (1): ReLU()\n",
              "    (2): Linear(in_features=512, out_features=1, bias=True)\n",
              "    (3): Sigmoid()\n",
              "  )\n",
              ")"
            ]
          },
          "metadata": {
            "tags": []
          },
          "execution_count": 17
        }
      ]
    },
    {
      "cell_type": "code",
      "metadata": {
        "id": "-5_jDM1wVg23"
      },
      "source": [
        "def encode(sents, enc='mu'):\n",
        "    assert enc == 'mu' or enc == 'z'\n",
        "    batches, order = get_batches(sents, vocab, batch_size, device) \n",
        "    z = []\n",
        "    for inputs, _ in batches:\n",
        "        mu, logvar = model.encode(inputs)\n",
        "        if enc == 'mu': \n",
        "            zi = mu\n",
        "        else:\n",
        "            zi = reparameterize(mu, logvar)\n",
        "        z.append(zi.detach().cpu().numpy())\n",
        "    z = np.concatenate(z, axis=0)\n",
        "    z_ = np.zeros_like(z)\n",
        "    z_[np.array(order)] = z\n",
        "    return z_"
      ],
      "execution_count": 18,
      "outputs": []
    },
    {
      "cell_type": "code",
      "metadata": {
        "id": "LNkoBqX5Vkg-"
      },
      "source": [
        "def decode(z, dec='greedy'):\n",
        "    sents = []\n",
        "    i = 0\n",
        "    while i < len(z):\n",
        "        zi = torch.tensor(z[i: i+batch_size], device=device) \n",
        "        outputs = model.generate(zi, max_len, dec).t() \n",
        "        for s in outputs:\n",
        "            sents.append([vocab.idx2word[id] for id in s[1:]])  \n",
        "        i += batch_size \n",
        "    return strip_eos(sents)"
      ],
      "execution_count": 19,
      "outputs": []
    },
    {
      "cell_type": "markdown",
      "metadata": {
        "id": "H_557yqSyZng"
      },
      "source": [
        "# Reconstruction"
      ]
    },
    {
      "cell_type": "code",
      "metadata": {
        "id": "nQLJp0EdTn5i"
      },
      "source": [
        "sents = load_sent('/content/text-autoencoders/data/yelp/test.txt') \n",
        "z = encode(sents)\n",
        "sents_rec = decode(z)\n",
        "write_z(z, '/content/text-autoencoders/checkpoints/test.z') \n",
        "write_sent(sents_rec, '/content/text-autoencoders/checkpoints/test.rec') "
      ],
      "execution_count": 20,
      "outputs": []
    },
    {
      "cell_type": "code",
      "metadata": {
        "colab": {
          "base_uri": "https://localhost:8080/"
        },
        "id": "D9YgnquOyqEL",
        "outputId": "9ace3623-c79e-4b21-9661-0a8dee09501f"
      },
      "source": [
        "!head checkpoints/test.rec"
      ],
      "execution_count": 21,
      "outputs": [
        {
          "output_type": "stream",
          "text": [
            "my husband loves thin crust pizza .\n",
            "sausage are great too\n",
            "<unk> pizza is by far one of my favorite pizzas .\n",
            "the little thin crust with bacon and <unk> it 's where its at .\n",
            "i also like this location .\n",
            "it has two levels which gives a little more warm heat .\n",
            "and rather than the pizza was served missing a decent .\n",
            "the reason ?\n",
            "the `` oven '' pasta - '' - according to the waitress .\n",
            "absolutely love their thin crust pizzas .\n"
          ],
          "name": "stdout"
        }
      ]
    },
    {
      "cell_type": "code",
      "metadata": {
        "colab": {
          "base_uri": "https://localhost:8080/"
        },
        "id": "VWhddRubzXtL",
        "outputId": "cdb423c9-f8b9-4ece-978f-d2a5106752b2"
      },
      "source": [
        "!head checkpoints/test.z"
      ],
      "execution_count": 22,
      "outputs": [
        {
          "output_type": "stream",
          "text": [
            "0.615650 0.843494 -0.963197 0.070233 0.056088 0.669214 0.485136 2.368523 0.772484 1.778468 1.293559 1.499551 0.275926 -1.152509 -1.007916 0.043573 -0.271024 0.050575 -1.482960 -3.467686 -0.270455 -1.402242 -1.689698 0.282012 0.010312 1.610025 0.975547 -0.883918 -1.522156 -1.117097 0.062196 0.786202 4.902931 0.293000 -0.692498 -1.617049 -2.322844 -1.172106 -1.931692 1.360384 0.921803 0.563292 0.891287 0.963349 -0.652590 -1.290544 0.416340 -2.521800 0.251845 1.603648 1.887917 -0.481518 -0.487605 -0.334191 -0.062563 2.082166 1.376685 1.007244 0.372941 -0.432422 -0.813552 3.452029 0.028994 0.205073 -0.597412 2.061502 0.077337 0.129536 1.283841 -0.504938 0.420815 -0.909272 0.402970 -0.220285 -0.952421 0.230303 0.129789 -0.360586 0.897388 0.122778 -0.466032 -1.223495 -0.565543 -0.287634 0.102804 2.894719 0.890665 -0.098187 -1.435500 -2.726444 -0.648847 -0.012419 0.455038 2.217391 -0.445422 0.073173 0.349082 0.153578 0.561829 -0.191955 0.505519 0.459280 0.497380 0.578776 1.259404 -0.433562 0.919328 -1.052967 1.711486 2.147938 -2.322350 0.375070 -1.600804 -2.873076 -1.266298 0.724604 0.733820 -1.365454 1.212404 -0.557693 -0.585433 -1.421963 0.467349 3.313313 -1.408603 1.386716 1.149267 -0.650419 \n",
            "0.279867 1.553237 -0.003010 -2.255502 -0.110297 -0.493124 1.026447 0.451219 -1.232379 -0.120082 -0.315682 0.041650 -0.145259 -0.500948 -0.016775 -1.233176 0.445962 -0.235872 -0.346898 0.474778 -0.683517 0.267915 -0.561094 0.847332 -3.334827 -2.110198 0.297398 1.759724 -0.801482 0.445564 1.440750 1.148897 -0.759777 -2.605046 0.951882 0.678857 -0.896994 0.234835 1.615079 0.853070 -0.601017 -0.260445 1.070355 0.267917 1.320327 0.163683 -0.722382 0.717357 1.421592 -0.715771 0.482062 1.195238 -0.472070 1.305213 1.093615 -2.362274 0.182674 1.112770 1.245307 0.984968 -2.092332 1.239394 -0.894527 -0.214767 0.778121 -0.570173 -1.614775 1.412930 -0.269594 -1.594099 -0.222629 0.946908 -1.626680 0.814075 -2.676001 2.104222 -1.058213 1.148136 0.299617 0.776250 1.358341 0.228646 0.482780 -0.446506 2.810823 0.382144 1.099930 -0.997519 -2.149283 -0.162695 0.247784 -0.059880 -1.691319 -0.151853 -0.267384 -0.386468 0.856092 0.829321 0.583342 -0.140429 -0.073391 0.588936 -0.495497 0.195631 1.471665 -0.746556 0.348874 -0.570130 1.774069 -0.373575 -0.197381 -1.789495 -1.611276 -0.218947 -0.036877 0.561426 1.344102 1.131565 2.832736 1.411643 -0.024008 0.016715 -0.010417 1.337054 -2.263747 1.877675 -1.251014 1.388671 \n",
            "1.141374 0.371353 0.999578 -0.347657 1.181462 0.721475 -1.225474 -0.174687 -0.751759 0.552169 -0.243739 0.948734 -1.089856 -0.600509 -0.493147 0.557413 -0.033686 -0.023874 -0.331395 0.085850 -0.222794 1.872206 -1.128841 -1.651729 -0.374586 -2.433129 0.898025 -0.377933 -0.720733 1.020086 0.618338 0.042220 0.767709 2.883932 0.436776 0.064986 1.248318 -0.196535 -0.236239 1.193866 -0.161779 2.061327 0.007623 1.787015 -0.389598 -0.234131 -0.339102 -1.490463 0.835355 -0.336810 -2.479262 1.309401 0.854669 -0.358804 0.913309 -0.254089 -0.845866 -0.645670 -2.400787 -0.041267 -1.620233 0.767217 -0.361395 -1.068826 1.495688 -0.345116 0.698669 1.858234 1.214188 -2.007101 -0.070134 1.052432 -1.772156 -0.535134 0.497263 -0.694263 1.239821 -1.237957 2.524898 -0.001661 -0.379719 -1.182443 0.506880 0.676005 1.235514 1.558497 0.801838 1.470672 1.818953 -0.235987 -2.210126 0.420913 -0.700127 0.617920 -0.178083 0.712485 -1.260978 0.189870 -0.437470 -2.428039 0.361263 -0.463564 -0.604929 1.115651 1.122828 1.224560 -0.230812 0.961847 -1.011171 -0.106367 -1.300385 0.371948 -0.488273 -0.934304 0.224902 -0.654760 0.108574 -0.356583 0.564655 0.590330 -0.783739 -0.808073 -0.321713 1.175137 -0.173488 1.165992 0.270934 0.742688 \n",
            "-0.220698 -1.368466 -1.041430 -0.343266 0.858385 -0.404592 1.265723 -0.592601 0.000361 -1.792206 1.081138 0.774728 -1.194016 2.206145 -1.006888 -2.404047 1.149696 0.550852 -0.325504 -0.126233 2.066231 0.487625 1.651249 -0.527083 0.200309 -0.004578 0.873216 0.286063 1.828765 -1.370528 -0.831955 -0.606466 -0.197314 0.673254 -0.844622 -0.911765 -0.111758 -1.356618 -0.506846 0.166775 1.597096 -0.267175 0.365860 0.056128 -0.093407 -0.625655 0.506714 1.557305 2.076331 0.649633 1.117809 -0.273819 0.619256 -0.995409 2.032351 -1.470245 1.918262 1.176713 -0.336294 0.283116 2.800568 0.307956 -0.200036 0.653268 -1.930230 0.576667 -2.144127 -1.064750 1.235295 1.212019 1.340475 -0.356618 -0.408953 1.759486 -0.539986 -0.270015 1.641897 -1.411043 0.644612 0.613727 0.672467 2.055814 0.737237 -1.622089 0.147044 -0.927598 -0.298442 0.337899 1.652950 -2.426701 -0.019863 -0.272506 1.277236 0.842505 -0.194223 0.783732 0.311156 0.807701 0.056717 1.175009 -0.129623 -1.545495 -0.051305 -0.422912 0.369474 -0.518376 -0.726009 -0.589358 -2.433511 -0.033917 -0.851897 -1.220077 -0.912010 -1.049887 2.079491 0.961778 0.776637 1.626125 -1.189283 -0.113990 0.315565 -0.997774 0.216840 2.421875 0.228437 -0.318730 -1.245992 1.013457 \n",
            "-0.338963 -0.148259 0.482481 0.453886 -1.277841 -0.608271 -0.732523 -0.260138 0.560279 1.034348 -1.098740 0.687641 0.690237 0.318244 -0.480437 -0.321662 1.398886 -0.464472 -0.474968 -1.357274 0.453406 -1.637578 0.328084 -0.415836 -1.838227 0.207811 -0.739296 -0.592093 0.863018 0.540684 -0.145990 0.590692 0.213803 0.700841 -0.002600 -0.294194 -0.474577 -0.834403 -1.037522 0.812987 0.486935 0.049029 -0.882610 1.959264 1.327235 1.031179 -0.004210 0.546651 -0.444411 -1.137445 -1.742961 -0.437062 1.961682 1.770325 0.688076 -0.812582 0.592641 -0.640337 0.478838 1.976223 0.663964 2.446666 -0.636398 0.119455 0.715300 1.824776 1.970994 -0.666369 1.173615 -0.111626 0.169493 2.172242 -0.895180 0.811633 0.258566 -1.418419 2.505486 -1.789926 0.334724 -0.365317 -0.498699 -0.279410 0.221838 0.092010 0.836930 0.344124 0.485171 0.354644 -0.860407 -0.057482 0.095577 1.656881 2.229683 1.455026 0.150418 -0.558307 0.007392 1.779800 -0.276422 -1.153185 -0.040424 0.068509 -0.171158 1.046933 0.929348 1.409597 1.131678 0.586331 0.861772 -0.686438 0.279057 -0.165500 -0.367040 -0.158938 1.873317 0.027403 -0.012405 -0.673516 -0.112049 1.131101 0.180871 0.173111 -0.645493 0.480167 1.290161 0.490514 0.189397 0.801388 \n",
            "-1.444674 0.352637 0.380920 -1.030280 -1.227117 -2.697652 -2.004850 -0.559836 1.238822 -0.147033 0.303136 -1.328426 -0.563191 0.226249 -0.484194 0.709515 -1.998112 0.437255 1.111485 0.788427 -1.428118 -0.263419 -0.102231 -0.749275 0.200287 0.296033 -1.072736 0.102393 -2.842375 -0.963993 -1.052722 0.645024 0.930052 -0.769935 0.795058 -0.864464 -1.149189 -0.668635 -1.983916 -0.614612 -1.035498 -2.690859 1.138763 -0.422113 -0.866902 0.486367 0.460395 -1.692582 1.758349 0.473771 -0.352522 -1.120476 2.735904 0.294949 0.727977 0.323791 0.579763 0.637322 -1.010784 0.540069 -0.513835 -0.197193 -1.014766 -0.539616 -0.332298 0.808717 -1.091846 1.534449 -0.740990 1.802422 -1.229556 0.107337 1.147336 -0.386717 0.495766 0.264546 1.595425 -0.732068 -1.218713 -0.627601 -0.858661 1.773739 -0.928337 0.942172 1.070612 0.744050 -0.655683 -0.121431 -1.403446 -1.108719 -0.316409 0.068314 -0.277893 -0.902515 1.975558 1.580270 2.301214 -0.061130 1.222773 -0.240056 -0.892455 -0.156525 0.033663 1.526699 -0.548346 0.813571 -0.932277 0.425471 0.742815 2.041379 -1.835477 1.346217 -1.201545 -0.406042 -1.288956 0.281472 2.068587 0.738302 0.262181 -0.093608 -1.453951 0.555690 -1.289349 -0.644240 -0.338071 -1.438433 -0.103003 -0.506871 \n",
            "-2.246793 0.529965 1.391706 0.357839 -1.551770 -0.469664 -0.518055 0.887232 0.830909 1.168761 2.186728 -1.690499 -0.959791 0.851279 -1.084415 -0.289302 0.352397 0.084110 0.883993 -2.448946 -0.469318 2.241017 0.557657 1.846518 0.986778 0.878936 -0.627971 -1.364475 0.976345 -0.533236 2.535043 1.834261 -2.024807 -1.590496 0.763526 -2.181179 -0.687822 -1.323491 1.004506 -0.404669 0.903817 1.083529 0.027612 -1.205239 0.624895 -1.127503 -0.411265 0.186090 -0.009837 -0.973373 -0.703662 -0.912745 0.624226 -1.737116 -0.220168 0.649157 -0.239580 1.182762 -0.800475 -0.280240 -0.733801 -0.263639 -0.680956 -1.142561 -1.453592 -0.325404 -0.880574 0.723747 0.445071 -0.859442 1.306664 1.138572 0.432067 1.591985 -0.125468 -2.206816 0.453622 -0.186899 0.715832 0.675459 -1.366057 -1.190876 -0.289798 -1.323867 -0.772899 -0.511808 1.134459 -0.518114 0.276174 0.746585 0.708622 1.830627 -0.616741 1.798091 1.017982 -0.244099 -0.831520 -0.254687 -1.573958 -0.465505 -0.173091 -0.654612 -0.403314 -1.012466 1.665287 0.010840 -0.037516 -0.878021 -1.520808 0.780666 0.123588 0.159867 0.387263 -0.477493 0.849028 1.272433 1.281215 0.465237 2.454058 0.298659 -1.182867 2.069255 0.280419 -0.406616 -0.595418 0.331305 0.236084 0.528862 \n",
            "1.186091 -0.455101 0.722709 0.236873 0.422363 -0.254658 -0.095966 -0.768501 0.839522 1.808208 0.265572 1.157017 0.460329 -0.237289 -0.511082 -1.126086 0.461416 -0.645233 -0.293530 0.967459 0.864683 0.662150 -0.085534 0.360277 0.680552 0.986152 0.212562 -0.619859 1.173005 0.367554 -1.673759 1.352707 0.298059 -0.046803 0.863302 0.326212 -0.591450 -1.666481 1.719517 0.804278 -0.033830 0.104328 -0.821602 -0.778867 -1.160937 1.255076 0.240860 -0.443569 0.148191 -1.738566 1.037148 0.329055 -0.255465 0.171638 1.743608 0.644384 1.635475 -0.162455 0.170189 1.602506 -0.482663 0.698719 -0.920916 -0.016999 1.312860 -0.315377 -1.626717 -0.803680 -0.985730 0.480189 -1.229566 1.715823 0.081460 -0.023675 -0.142976 0.583369 -1.257708 0.120453 -1.812489 0.494526 -1.168511 0.636435 1.651494 0.110859 0.347325 -0.792495 -0.694561 0.159458 -0.052552 0.206624 0.043021 -0.797336 0.889463 0.175964 1.075051 0.091644 0.372302 0.910274 0.782259 -0.388644 -0.311300 0.159200 0.431412 -1.705916 -0.475509 -0.594863 -0.378815 -0.742134 0.789412 -0.612240 -0.604484 -0.584740 0.283272 -1.820666 -0.451179 0.920604 -0.781853 1.143577 -0.765688 -0.564055 -0.591859 0.563292 -0.034535 0.348324 -0.032129 0.678659 0.068206 -0.879474 \n",
            "2.943451 -2.177546 0.239246 -0.879801 0.337329 0.218241 -0.354178 -0.680645 -0.519191 0.264606 -0.870672 0.653587 -0.292765 0.838802 -1.299104 2.333710 1.703861 1.107156 1.542126 -3.339222 -1.287636 3.038655 -1.219405 -0.143525 0.870583 -0.064987 0.256200 0.514651 0.812086 -0.339511 -0.013301 -0.752043 -0.860834 -1.084041 -0.199087 0.890022 0.240356 0.980392 0.311561 0.606612 0.235587 1.572228 -0.914843 0.601016 0.402999 2.780593 0.451955 0.080289 -1.333827 -0.231596 -1.574603 -1.285185 2.102546 -0.526475 0.148025 0.107983 0.752656 -0.387560 -0.172123 -1.479428 -0.419929 -0.294908 -1.351570 -0.191599 0.378645 -0.252541 -0.550315 -0.195389 0.225933 -0.183915 -0.387458 1.715425 0.656948 -0.514572 0.058185 -0.560884 0.661597 -1.139206 -1.148230 -0.130429 0.182915 0.115932 -0.036987 -3.200931 0.389758 -0.240774 -1.889785 2.523146 1.117914 -1.999787 0.640367 1.739301 0.217216 -1.065984 2.999551 -1.254048 -0.222384 -1.050384 1.395248 1.493529 -0.874325 0.931199 -2.732807 -1.468374 0.707916 -1.189422 0.889059 0.660779 -0.343332 -0.003824 -0.749428 -0.318137 -0.117079 -0.199875 0.081543 -0.163747 -1.448929 1.424144 0.616986 1.067580 0.620331 1.020654 -1.274837 -1.314656 -0.348458 -1.219058 -0.183063 -0.307086 \n",
            "-1.392789 0.543163 0.914422 -0.050006 0.139845 -1.220052 -0.209497 0.861577 0.354264 1.448450 0.281684 1.118498 0.041988 0.456926 -0.870747 0.332160 -0.245844 0.043443 -2.257803 -0.921998 1.528546 -0.391177 0.094909 0.676046 0.180910 0.827323 0.896788 -0.054872 -0.714379 -1.221607 0.139638 1.108352 0.740965 0.192938 0.286144 -0.516943 -0.682930 1.201787 -1.295006 2.410922 -0.361487 2.389991 0.671810 2.217146 -0.891545 -1.062793 -0.167786 -2.004308 -1.428381 0.553167 0.171934 -1.180061 1.282429 -0.233696 -0.935058 0.976471 1.007127 0.229165 0.226522 -1.139855 -0.938312 2.055016 -0.862118 -0.399793 -1.646601 0.274361 0.456402 1.683973 2.006154 0.082850 2.291636 -0.379889 0.312572 2.563221 -0.605278 -1.191932 -0.487290 -0.125726 1.840061 1.134542 -1.585662 0.414481 0.022330 -0.230403 0.720523 1.753415 0.084416 0.382360 -1.773007 -2.503086 -1.861785 0.285322 -0.727315 0.586018 0.562816 0.001234 -0.768349 0.171606 0.387071 -0.168482 -0.479970 1.637168 -0.647228 0.419599 1.662350 -0.617823 -0.503209 -1.016107 -0.046575 1.673261 -1.002235 0.878537 0.638246 -2.484597 1.175044 -0.359898 -1.078489 -0.453502 2.181273 -0.130734 -0.892365 -0.973630 1.018447 1.159153 -1.558363 -0.341333 1.048010 -0.396211 \n"
          ],
          "name": "stdout"
        }
      ]
    },
    {
      "cell_type": "markdown",
      "metadata": {
        "id": "8DS5hxZdzb67"
      },
      "source": [
        "# Sample"
      ]
    },
    {
      "cell_type": "code",
      "metadata": {
        "id": "nW0Sv7GFYD_1"
      },
      "source": [
        "n = 10\n",
        "dim_z = 128"
      ],
      "execution_count": 23,
      "outputs": []
    },
    {
      "cell_type": "code",
      "metadata": {
        "id": "gghye6JGYEHi"
      },
      "source": [
        "z = np.random.normal(size=(n, dim_z)).astype('f')\n",
        "sents = decode(z)\n",
        "write_sent(sents, '/content/text-autoencoders/checkpoints/sample')"
      ],
      "execution_count": 24,
      "outputs": []
    },
    {
      "cell_type": "code",
      "metadata": {
        "colab": {
          "base_uri": "https://localhost:8080/"
        },
        "id": "FTPd_YqlYEOW",
        "outputId": "9cf66cdf-6729-4cca-e57e-7558ade7ca08"
      },
      "source": [
        "!head checkpoints/sample"
      ],
      "execution_count": 25,
      "outputs": [
        {
          "output_type": "stream",
          "text": [
            "special night with the food .\n",
            "i ordered the very chorizo .\n",
            "the pasta <unk> - three things : )\n",
            "all are the best .\n",
            "i had a reservation and received the service .\n",
            "i <unk> will probably visit the city .\n",
            "the <unk> is .\n",
            "i think we were <unk> from <unk> with shipping .\n",
            "we 've been to several people and to the service <unk> .\n",
            "i wanted the eggs benedict and chili cheese strips .\n"
          ],
          "name": "stdout"
        }
      ]
    },
    {
      "cell_type": "markdown",
      "metadata": {
        "id": "0SZaVG6OZcgy"
      },
      "source": [
        "# Tense"
      ]
    },
    {
      "cell_type": "code",
      "metadata": {
        "colab": {
          "base_uri": "https://localhost:8080/"
        },
        "id": "_jbZ7gZaYEut",
        "outputId": "d8ddf2c2-ce1e-4861-d860-655896effe31"
      },
      "source": [
        "!head data/yelp/tense/valid.past"
      ],
      "execution_count": 26,
      "outputs": [
        {
          "output_type": "stream",
          "text": [
            "overpriced .\n",
            "the pizza was pretty bland , despite a hefty helping of oregano .\n",
            "perhaps because i was indoctrinated into loving this pizza as a small child .\n",
            "we got the thin crust with steak and bacon and it was awesome !\n",
            "i had to knock it down a star .\n",
            "the food was n't good .\n",
            "went here after a doctors appointment one day .\n",
            "the pizza was good .\n",
            "the small salad was n't their best .\n",
            "the service sucked .\n"
          ],
          "name": "stdout"
        }
      ]
    },
    {
      "cell_type": "code",
      "metadata": {
        "colab": {
          "base_uri": "https://localhost:8080/"
        },
        "id": "49GpWR_0ilgI",
        "outputId": "9d0565ae-ec45-41a3-e6cc-0b7d1cb93b1e"
      },
      "source": [
        "!head data/yelp/tense/valid.present"
      ],
      "execution_count": 27,
      "outputs": [
        {
          "output_type": "stream",
          "text": [
            "pizza is pretty good !\n",
            "everything is usually pretty fresh and hot .\n",
            "there is something about this pizza that is addictive .\n",
            "there is very little sauce , fairly dry cheese , and a chewy crust .\n",
            "i do n't know what to call it ... .\n",
            "because every local i know loves monicals .\n",
            "in fact , they even sell their french dressing online !\n",
            "seriously , i 've looked . )\n",
            "the pizza is pretty good , but not the best in champaign-urbana .\n",
            "i prefer papa del 's .\n"
          ],
          "name": "stdout"
        }
      ]
    },
    {
      "cell_type": "code",
      "metadata": {
        "colab": {
          "base_uri": "https://localhost:8080/"
        },
        "id": "zwGEoI34iltZ",
        "outputId": "07405bf9-5f00-4e14-8c62-4f40b6f15ad2"
      },
      "source": [
        "!head data/yelp/tense/test.past"
      ],
      "execution_count": 28,
      "outputs": [
        {
          "output_type": "stream",
          "text": [
            "and more unbelievably the pizza served was missing a portion .\n",
            "`` the oven ate it '' - according to the waitress .\n",
            "reasonably priced .\n",
            "could n't be more happy with their service either .\n",
            "they could use a fork upgrade , but the rice was nice .\n",
            "i got the garlic chicken with vegetables with lo mein .\n",
            "paid over $ _ num _ and it was pretty greasy and just very underwhelming .\n",
            "i walked in and briefly fingered coats , feeling lost and confused .\n",
            "`` have you spent a winter here before ? ''\n",
            "she asked , eyeing my confused expression .\n"
          ],
          "name": "stdout"
        }
      ]
    },
    {
      "cell_type": "code",
      "metadata": {
        "id": "jsStGpwcYEbr"
      },
      "source": [
        "k = 1"
      ],
      "execution_count": 29,
      "outputs": []
    },
    {
      "cell_type": "code",
      "metadata": {
        "id": "B86vq6kWYEjj"
      },
      "source": [
        "fa, fb, fc = '/content/text-autoencoders/data/yelp/tense/valid.past', '/content/text-autoencoders/data/yelp/tense/valid.present', '/content/text-autoencoders/data/yelp/tense/test.past'                     \n",
        "sa, sb, sc = load_sent(fa), load_sent(fb), load_sent(fc)\n",
        "za, zb, zc = encode(sa), encode(sb), encode(sc)\n",
        "zd = zc + k * (zb.mean(axis=0) - za.mean(axis=0))\n",
        "sd = decode(zd)\n",
        "write_sent(sd, '/content/text-autoencoders/checkpoints/test.past2present') "
      ],
      "execution_count": 30,
      "outputs": []
    },
    {
      "cell_type": "code",
      "metadata": {
        "colab": {
          "base_uri": "https://localhost:8080/"
        },
        "id": "W_JcWawwil6e",
        "outputId": "4b16d556-3981-4159-fc27-b851c2832f75"
      },
      "source": [
        "!head checkpoints/test.past2present"
      ],
      "execution_count": 31,
      "outputs": [
        {
          "output_type": "stream",
          "text": [
            "and rather than the pizza is served missing a decent .\n",
            "`` the oven '' everything 's - '' according to the waitress .\n",
            "reasonably priced .\n",
            "you ca n't be more happy with their either .\n",
            "they could use a text add , but the rice is nice .\n",
            "i got the garlic chicken with vegetables with lo mein .\n",
            "i paid over $ <unk> <unk> and it 's just pretty greasy and very bland .\n",
            "i walked in and <unk> , book , and lost me look .\n",
            "`` you have you a concert before here ? ''\n",
            "she asked , <unk> my confused <unk> .\n"
          ],
          "name": "stdout"
        }
      ]
    },
    {
      "cell_type": "markdown",
      "metadata": {
        "id": "VrGkOBNDcLFp"
      },
      "source": [
        "# Sentiment"
      ]
    },
    {
      "cell_type": "code",
      "metadata": {
        "colab": {
          "base_uri": "https://localhost:8080/"
        },
        "id": "xreDK50XcRdZ",
        "outputId": "09dab9e2-b32e-4994-fe4f-f7f3c8bc9de5"
      },
      "source": [
        "!head data/yelp/sentiment/100.neg"
      ],
      "execution_count": 32,
      "outputs": [
        {
          "output_type": "stream",
          "text": [
            "the $ _num_ minimum charge to use a credit card is also annoying .\n",
            "sorry but i do n't get the rave reviews for this place .\n",
            "the desserts were very bland .\n",
            "the cake portion was extremely light and a bit dry .\n",
            "it was super dry and had a weird taste to the entire slice .\n",
            "once again , i have n't figured out why they change so much .\n",
            "consistently slow .\n",
            "even in the awkward freezer burn then microwaved scent .\n",
            "so nasty .\n",
            "i hate mayonnaise .\n"
          ],
          "name": "stdout"
        }
      ]
    },
    {
      "cell_type": "code",
      "metadata": {
        "colab": {
          "base_uri": "https://localhost:8080/"
        },
        "id": "IUM9XuROihpm",
        "outputId": "b196e7e0-11ea-48e4-8569-e38ccc0e709b"
      },
      "source": [
        "!head data/yelp/sentiment/1000.neg"
      ],
      "execution_count": 33,
      "outputs": [
        {
          "output_type": "stream",
          "text": [
            "the answer was none .\n",
            "this place sucks .\n",
            "we have been there _num_ times , with an attempted 3rd time .\n",
            "1st time , burnt pizza , was horrible .\n",
            "wo n't go back .\n",
            "also like all spinatos they are closed on monday .\n",
            "the food was bland ... if you like spinatos , just avoid this location .\n",
            "it 's not worth it .\n",
            "friendly staff , but not overly helpful .\n",
            "we got the thicker crust and it tasted really dry and hard .\n"
          ],
          "name": "stdout"
        }
      ]
    },
    {
      "cell_type": "markdown",
      "metadata": {
        "id": "R4-np7Cx2FRB"
      },
      "source": [
        "k = 2"
      ]
    },
    {
      "cell_type": "code",
      "metadata": {
        "id": "x6h6GNiXYE5B"
      },
      "source": [
        "k = 2"
      ],
      "execution_count": 34,
      "outputs": []
    },
    {
      "cell_type": "code",
      "metadata": {
        "id": "ntq-qvZdcRV8"
      },
      "source": [
        "fa, fb, fc = '/content/text-autoencoders/data/yelp/sentiment/100.neg', '/content/text-autoencoders/data/yelp/sentiment/100.pos', '/content/text-autoencoders/data/yelp/sentiment/1000.neg'                     \n",
        "sa, sb, sc = load_sent(fa), load_sent(fb), load_sent(fc)\n",
        "za, zb, zc = encode(sa), encode(sb), encode(sc)\n",
        "zd = zc + k * (zb.mean(axis=0) - za.mean(axis=0))\n",
        "sd = decode(zd)\n",
        "write_sent(sd, '/content/text-autoencoders/checkpoints/2_1000.neg2pos') "
      ],
      "execution_count": 35,
      "outputs": []
    },
    {
      "cell_type": "code",
      "metadata": {
        "colab": {
          "base_uri": "https://localhost:8080/"
        },
        "id": "zzvshqOcih90",
        "outputId": "041b62ab-97ee-4ce6-9fef-c052c99d3ba2"
      },
      "source": [
        "!head checkpoints/2_1000.neg2pos"
      ],
      "execution_count": 36,
      "outputs": [
        {
          "output_type": "stream",
          "text": [
            "the staff is both .\n",
            "this place sucks .\n",
            "we have been here for times , with family and time .\n",
            "1st time , pizza , and was great .\n",
            "wo n't go back .\n",
            "also love all the <unk> are always on .\n",
            "the food is ok , especially , <unk> , and not great location .\n",
            "it 's not worth it .\n",
            "friendly staff , but very helpful .\n",
            "we got the seafood crust and it was really very easy .\n"
          ],
          "name": "stdout"
        }
      ]
    },
    {
      "cell_type": "markdown",
      "metadata": {
        "id": "O7PDM8JE2OoJ"
      },
      "source": [
        "k = 1.5"
      ]
    },
    {
      "cell_type": "code",
      "metadata": {
        "id": "AZ-LtsKW1tuL"
      },
      "source": [
        "k = 1.5"
      ],
      "execution_count": 37,
      "outputs": []
    },
    {
      "cell_type": "code",
      "metadata": {
        "id": "_NM3bsqB1uXM"
      },
      "source": [
        "fa, fb, fc = '/content/text-autoencoders/data/yelp/sentiment/100.neg', '/content/text-autoencoders/data/yelp/sentiment/100.pos', '/content/text-autoencoders/data/yelp/sentiment/1000.neg'                     \n",
        "sa, sb, sc = load_sent(fa), load_sent(fb), load_sent(fc)\n",
        "za, zb, zc = encode(sa), encode(sb), encode(sc)\n",
        "zd = zc + k * (zb.mean(axis=0) - za.mean(axis=0))\n",
        "sd = decode(zd)\n",
        "write_sent(sd, '/content/text-autoencoders/checkpoints/1_5_1000.neg2pos') "
      ],
      "execution_count": 38,
      "outputs": []
    },
    {
      "cell_type": "code",
      "metadata": {
        "colab": {
          "base_uri": "https://localhost:8080/"
        },
        "id": "RsgsZG-51zrb",
        "outputId": "7003fba3-9e0b-40b8-fe58-db2ebfe20a2e"
      },
      "source": [
        "!head checkpoints/1_5_1000.neg2pos"
      ],
      "execution_count": 39,
      "outputs": [
        {
          "output_type": "stream",
          "text": [
            "the answer was none .\n",
            "this place sucks .\n",
            "we have been here for times , with an family time .\n",
            "1st time , pizza , was great .\n",
            "wo n't go back .\n",
            "also love all the <unk> are closed on .\n",
            "the food is alright , especially like <unk> , and not this location .\n",
            "it 's not worth it .\n",
            "friendly staff , but very helpful .\n",
            "we got the unique crust and it was really fresh and hard .\n"
          ],
          "name": "stdout"
        }
      ]
    },
    {
      "cell_type": "markdown",
      "metadata": {
        "id": "Iyb7AuaM2ScS"
      },
      "source": [
        "k =1"
      ]
    },
    {
      "cell_type": "code",
      "metadata": {
        "id": "GdK4IvDn2UWb"
      },
      "source": [
        "k = 1"
      ],
      "execution_count": 40,
      "outputs": []
    },
    {
      "cell_type": "code",
      "metadata": {
        "id": "89WEKt-72Uf1"
      },
      "source": [
        "fa, fb, fc = '/content/text-autoencoders/data/yelp/sentiment/100.neg', '/content/text-autoencoders/data/yelp/sentiment/100.pos', '/content/text-autoencoders/data/yelp/sentiment/1000.neg'                     \n",
        "sa, sb, sc = load_sent(fa), load_sent(fb), load_sent(fc)\n",
        "za, zb, zc = encode(sa), encode(sb), encode(sc)\n",
        "zd = zc + k * (zb.mean(axis=0) - za.mean(axis=0))\n",
        "sd = decode(zd)\n",
        "write_sent(sd, '/content/text-autoencoders/checkpoints/1_1000.neg2pos') "
      ],
      "execution_count": 41,
      "outputs": []
    },
    {
      "cell_type": "code",
      "metadata": {
        "colab": {
          "base_uri": "https://localhost:8080/"
        },
        "id": "78RiefCA2U5G",
        "outputId": "278a3159-f805-4d1f-ddfc-4263523ece65"
      },
      "source": [
        "!head checkpoints/1_1000.neg2pos"
      ],
      "execution_count": 42,
      "outputs": [
        {
          "output_type": "stream",
          "text": [
            "the answer was none .\n",
            "this place sucks .\n",
            "we have been here several times , with an husband each time .\n",
            "1st time , bbq pizza , was horrible .\n",
            "wo n't go back .\n",
            "also like all <unk> are closed on monday .\n",
            "the food was alright , if you like <unk> , just avoid this location .\n",
            "it 's not worth it .\n",
            "friendly staff , but not extremely helpful .\n",
            "we got the thicker crust and it was really fresh and hard .\n"
          ],
          "name": "stdout"
        }
      ]
    },
    {
      "cell_type": "markdown",
      "metadata": {
        "id": "EOmjd8wBiaYq"
      },
      "source": [
        "# Interpolation"
      ]
    },
    {
      "cell_type": "code",
      "metadata": {
        "id": "hDiTPEXAcRlg"
      },
      "source": [
        "n = 5"
      ],
      "execution_count": 43,
      "outputs": []
    },
    {
      "cell_type": "code",
      "metadata": {
        "id": "t1Ofzdc2cRuC"
      },
      "source": [
        "f1, f2 = '/content/text-autoencoders/data/yelp/interpolate/example.long', '/content/text-autoencoders/data/yelp/interpolate/example.short'        \n",
        "s1, s2 = load_sent(f1), load_sent(f2)\n",
        "z1, z2 = encode(s1), encode(s2)\n",
        "zi = [interpolate(z1_, z2_, n) for z1_, z2_ in zip(z1, z2)]\n",
        "zi = np.concatenate(zi, axis=0)\n",
        "si = decode(zi)\n",
        "si = list(zip(*[iter(si)]*(n)))\n",
        "write_doc(si, '/content/text-autoencoders/checkpoints/example.int')                          "
      ],
      "execution_count": 44,
      "outputs": []
    },
    {
      "cell_type": "code",
      "metadata": {
        "colab": {
          "base_uri": "https://localhost:8080/"
        },
        "id": "b1yojbhplCyn",
        "outputId": "d22db874-62dc-40ca-f858-911c2e557a70"
      },
      "source": [
        "!head data/yelp/interpolate/example.long"
      ],
      "execution_count": 45,
      "outputs": [
        {
          "output_type": "stream",
          "text": [
            "i highly recommend it and i 'll definitely be back !\n",
            "probably the worst chinese food i 've had in my life .\n",
            "i say again , do n't ever stay at this hotel !\n",
            "it 's so much better than the other chinese food places in this area .\n",
            "the fried dumplings are a must if you ever visit this place .\n",
            "definitely worth going for if you want good quick chinese food .\n",
            "everyone who works there is very sweet and genuine too !\n",
            "this was the must disgusting restaurant i have eaten at in years .\n",
            "this is one of my favorite restaurants in town .\n",
            "literally the best place for students and locals who want diversity in their food .\n"
          ],
          "name": "stdout"
        }
      ]
    },
    {
      "cell_type": "code",
      "metadata": {
        "colab": {
          "base_uri": "https://localhost:8080/"
        },
        "id": "MgYcXnvmi-Vy",
        "outputId": "9d543a92-0ec4-4a94-8cc2-f5de7c4b164a"
      },
      "source": [
        "!head data/yelp/interpolate/example.short"
      ],
      "execution_count": 46,
      "outputs": [
        {
          "output_type": "stream",
          "text": [
            "i will be back !\n",
            "worst chinese food .\n",
            "do n't stay !\n",
            "better than other places .\n",
            "fried dumplings are a must .\n",
            "definitely worth going !\n",
            "everyone is sweet !\n",
            "disgusting !\n",
            "my favorite !\n",
            "the best !\n"
          ],
          "name": "stdout"
        }
      ]
    },
    {
      "cell_type": "code",
      "metadata": {
        "colab": {
          "base_uri": "https://localhost:8080/"
        },
        "id": "B2KXvQDHi-Ls",
        "outputId": "a9a9f5ba-b452-4a61-a8cf-e9cdf2a6d7f5"
      },
      "source": [
        "!head checkpoints/example.int"
      ],
      "execution_count": 47,
      "outputs": [
        {
          "output_type": "stream",
          "text": [
            "i highly recommend it and i 'll definitely be back !\n",
            "i highly recommend it and i 'll definitely be back !\n",
            "i will definitely be back !\n",
            "i will be back !\n",
            "i will be back !\n",
            "\n",
            "probably the worst chinese food i 've had in my life .\n",
            "probably the worst chinese food i 've had in my life .\n",
            "worst chinese food .\n",
            "worst chinese food .\n"
          ],
          "name": "stdout"
        }
      ]
    }
  ]
}