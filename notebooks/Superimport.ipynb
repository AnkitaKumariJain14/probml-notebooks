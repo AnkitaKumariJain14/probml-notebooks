{
  "nbformat": 4,
  "nbformat_minor": 0,
  "metadata": {
    "colab": {
      "name": "Superimport.ipynb",
      "provenance": [],
      "collapsed_sections": [],
      "toc_visible": true,
      "include_colab_link": true
    },
    "kernelspec": {
      "name": "python3",
      "display_name": "Python 3"
    },
    "language_info": {
      "name": "python"
    }
  },
  "cells": [
    {
      "cell_type": "markdown",
      "metadata": {
        "id": "view-in-github",
        "colab_type": "text"
      },
      "source": [
        "<a href=\"https://colab.research.google.com/github/probml/probml-notebooks/blob/main/notebooks/Superimport.ipynb\" target=\"_parent\"><img src=\"https://colab.research.google.com/assets/colab-badge.svg\" alt=\"Open In Colab\"/></a>"
      ]
    },
    {
      "cell_type": "markdown",
      "metadata": {
        "id": "_Qd2diMQZlQL"
      },
      "source": [
        "# Superimport demo\n",
        "\n",
        "The [superimport library](https://github.com/probml/superimport), written by [Mahmoud Soliman](https://github.com/mjsML), takes care of installing missing python packages for you. All you have to do is type `pip install superimport` (once per colab session), and then add `import superimport` to the top of any of your python files; then, when you run those files, superimport will read the source code, figure out any missing dependencies, install them for you automagically, and then run the rest of your code as usual. We illustrate this below. \n",
        "\n"
      ]
    },
    {
      "cell_type": "code",
      "metadata": {
        "id": "1G16DyRzi6kK",
        "colab": {
          "base_uri": "https://localhost:8080/"
        },
        "outputId": "0415d5b4-2b7b-4186-fae8-99fcd05a1578"
      },
      "source": [
        "!pip install superimport -qqq\n",
        "!pip install deimport -qqq"
      ],
      "execution_count": 1,
      "outputs": [
        {
          "output_type": "stream",
          "text": [
            "  Building wheel for superimport (setup.py) ... \u001b[?25l\u001b[?25hdone\n",
            "  Building wheel for deimport (setup.py) ... \u001b[?25l\u001b[?25hdone\n"
          ],
          "name": "stdout"
        }
      ]
    },
    {
      "cell_type": "code",
      "metadata": {
        "id": "iiC72KXh5jae"
      },
      "source": [
        "import superimport\n",
        "from deimport.deimport import deimport"
      ],
      "execution_count": 3,
      "outputs": []
    },
    {
      "cell_type": "markdown",
      "metadata": {
        "id": "V_82RC0lahoP"
      },
      "source": [
        "# An example with PgmPy\n",
        "\n",
        "Colab has most popular ML packages already installed. However, there are a few missing ones, such as [PgmPy](https://github.com/pgmpy/pgmpy). Below we create a short file, called `test.py`, that relies on that missing library. We then show what happens if we try to run the script  without first installing the library. "
      ]
    },
    {
      "cell_type": "code",
      "metadata": {
        "colab": {
          "base_uri": "https://localhost:8080/"
        },
        "id": "UuJYZu_1kP1B",
        "outputId": "680df9c4-bfea-4d53-d7a1-bb30955c10fa"
      },
      "source": [
        "%%file test.py\n",
        "import pgmpy\n",
        "import numpy\n",
        "import matplotlib\n",
        "print('pgmpy ', pgmpy.__version__)"
      ],
      "execution_count": 2,
      "outputs": [
        {
          "output_type": "stream",
          "text": [
            "Writing test.py\n"
          ],
          "name": "stdout"
        }
      ]
    },
    {
      "cell_type": "markdown",
      "metadata": {
        "id": "YJ03lzU6bajD"
      },
      "source": [
        "Let's check we created the script file correctly."
      ]
    },
    {
      "cell_type": "code",
      "metadata": {
        "colab": {
          "base_uri": "https://localhost:8080/"
        },
        "id": "uNb9m5vKbYWb",
        "outputId": "6258e5a1-6891-4a05-e529-75617f032ba5"
      },
      "source": [
        "!cat test.py"
      ],
      "execution_count": 4,
      "outputs": [
        {
          "output_type": "stream",
          "text": [
            "import pgmpy\n",
            "import numpy\n",
            "import matplotlib\n",
            "print('pgmpy ', pgmpy.__version__)"
          ],
          "name": "stdout"
        }
      ]
    },
    {
      "cell_type": "markdown",
      "metadata": {
        "id": "mkwHEjfwknJt"
      },
      "source": [
        "Without importing superimport, if you have a missing package your script will fail."
      ]
    },
    {
      "cell_type": "code",
      "metadata": {
        "colab": {
          "base_uri": "https://localhost:8080/",
          "height": 221
        },
        "id": "6T6BDgaRkSdM",
        "outputId": "85fcb9cd-758f-44e1-a31e-642608d3878c"
      },
      "source": [
        "%run test.py"
      ],
      "execution_count": 5,
      "outputs": [
        {
          "output_type": "error",
          "ename": "ModuleNotFoundError",
          "evalue": "ignored",
          "traceback": [
            "\u001b[0;31m---------------------------------------------------------------------------\u001b[0m",
            "\u001b[0;31mModuleNotFoundError\u001b[0m                       Traceback (most recent call last)",
            "\u001b[0;32m/content/test.py\u001b[0m in \u001b[0;36m<module>\u001b[0;34m()\u001b[0m\n\u001b[0;32m----> 1\u001b[0;31m \u001b[0;32mimport\u001b[0m \u001b[0mpgmpy\u001b[0m\u001b[0;34m\u001b[0m\u001b[0;34m\u001b[0m\u001b[0m\n\u001b[0m\u001b[1;32m      2\u001b[0m \u001b[0;32mimport\u001b[0m \u001b[0mnumpy\u001b[0m\u001b[0;34m\u001b[0m\u001b[0;34m\u001b[0m\u001b[0m\n\u001b[1;32m      3\u001b[0m \u001b[0;32mimport\u001b[0m \u001b[0mmatplotlib\u001b[0m\u001b[0;34m\u001b[0m\u001b[0;34m\u001b[0m\u001b[0m\n\u001b[1;32m      4\u001b[0m \u001b[0mprint\u001b[0m\u001b[0;34m(\u001b[0m\u001b[0;34m'pgmpy '\u001b[0m\u001b[0;34m,\u001b[0m \u001b[0mpgmpy\u001b[0m\u001b[0;34m.\u001b[0m\u001b[0m__version__\u001b[0m\u001b[0;34m)\u001b[0m\u001b[0;34m\u001b[0m\u001b[0;34m\u001b[0m\u001b[0m\n",
            "\u001b[0;31mModuleNotFoundError\u001b[0m: No module named 'pgmpy'"
          ]
        }
      ]
    },
    {
      "cell_type": "markdown",
      "metadata": {
        "id": "cZd4ITLYa33l"
      },
      "source": [
        "\n",
        "\n",
        "Now we add one new line to our file: `import superimport`"
      ]
    },
    {
      "cell_type": "code",
      "metadata": {
        "colab": {
          "base_uri": "https://localhost:8080/"
        },
        "id": "fMPOfeIHi9i3",
        "outputId": "ec0f9426-9cdd-4752-ec62-c6c938ed4fa0"
      },
      "source": [
        "%%file test.py\n",
        "import superimport\n",
        "import pgmpy\n",
        "import numpy\n",
        "import matplotlib\n",
        "print('pgmpy ', pgmpy.__version__)\n"
      ],
      "execution_count": 12,
      "outputs": [
        {
          "output_type": "stream",
          "text": [
            "Overwriting test.py\n"
          ],
          "name": "stdout"
        }
      ]
    },
    {
      "cell_type": "markdown",
      "metadata": {
        "id": "aIFQaI6pkxIL"
      },
      "source": [
        "We can now successfully the script, and it will install any missing packages.\n",
        "\n",
        "\n",
        "Note, however, that we have to deimport the `superimport` symbol before running any code that uses superimport, to force the package to be reloaded (and hence re-executed), otherwise colab will use the cached version (if available) of superimport, which may be stale. "
      ]
    },
    {
      "cell_type": "code",
      "metadata": {
        "colab": {
          "base_uri": "https://localhost:8080/"
        },
        "id": "tL4_358-jJD8",
        "outputId": "b2da0910-651e-479d-ea22-5f1ecd7c0625"
      },
      "source": [
        "deimport(superimport)\n",
        "%run test.py"
      ],
      "execution_count": 13,
      "outputs": [
        {
          "output_type": "stream",
          "text": [
            "pgmpy  0.1.15\n"
          ],
          "name": "stdout"
        }
      ]
    },
    {
      "cell_type": "markdown",
      "metadata": {
        "id": "-IDlmbuCgDMx"
      },
      "source": [
        "# An example with NumPyro\n",
        "\n",
        "This time we make a demo that uses numpyro, that is not installed in colab by default."
      ]
    },
    {
      "cell_type": "code",
      "metadata": {
        "id": "SuSqhaqEgQ3z",
        "colab": {
          "base_uri": "https://localhost:8080/"
        },
        "outputId": "fab87cbd-a0ae-463d-ad20-efa9bd436330"
      },
      "source": [
        "%%file test.py\n",
        "import superimport\n",
        "import numpyro\n",
        "print('numpyro version ', numpyro.__version__)"
      ],
      "execution_count": 8,
      "outputs": [
        {
          "output_type": "stream",
          "text": [
            "Overwriting test.py\n"
          ],
          "name": "stdout"
        }
      ]
    },
    {
      "cell_type": "code",
      "metadata": {
        "id": "yHihouB-gUJK",
        "colab": {
          "base_uri": "https://localhost:8080/"
        },
        "outputId": "fe25e253-77da-4891-bbee-e26311f5d574"
      },
      "source": [
        "deimport(superimport)\n",
        "%run test.py"
      ],
      "execution_count": 9,
      "outputs": [
        {
          "output_type": "stream",
          "text": [
            "ERROR: superimport : missing python module: numpyro \n",
            "Trying try to install automatcially\n",
            "WARNING:root:Package was not found in the reverse index, trying pypi.\n"
          ],
          "name": "stderr"
        },
        {
          "output_type": "stream",
          "text": [
            "numpyro version  0.7.2\n"
          ],
          "name": "stdout"
        }
      ]
    },
    {
      "cell_type": "markdown",
      "metadata": {
        "id": "KJSga2iNeauy"
      },
      "source": [
        "# An example with Pyro\n",
        "\n",
        "This time we make a demo that uses pyro, that is not installed in colab by default. Furthermore, its package name (pyro-ppl) does not match its import name (pyro)."
      ]
    },
    {
      "cell_type": "code",
      "metadata": {
        "id": "Sy7eFOQxfQB6",
        "colab": {
          "base_uri": "https://localhost:8080/"
        },
        "outputId": "98475bfa-ba4e-4f70-8ab1-f604e9e71585"
      },
      "source": [
        "%%file test.py\n",
        "import superimport\n",
        "import pyro\n",
        "print('pyro version ', pyro.__version__)"
      ],
      "execution_count": 14,
      "outputs": [
        {
          "output_type": "stream",
          "text": [
            "Overwriting test.py\n"
          ],
          "name": "stdout"
        }
      ]
    },
    {
      "cell_type": "code",
      "metadata": {
        "id": "wMgsJq1ieoeH",
        "colab": {
          "base_uri": "https://localhost:8080/"
        },
        "outputId": "b8c7fb04-81d6-405e-86a5-d6a52962d3b8"
      },
      "source": [
        "deimport(superimport)\n",
        "%run test.py"
      ],
      "execution_count": 15,
      "outputs": [
        {
          "output_type": "stream",
          "text": [
            "pyro version  1.7.0\n"
          ],
          "name": "stdout"
        }
      ]
    },
    {
      "cell_type": "markdown",
      "metadata": {
        "id": "gERNSvUpcru-"
      },
      "source": [
        "# Sharp edges\n",
        "\n",
        "* There are some packages whose install names differ from their import names  (eg we type `pip install pyro-ppl` but `import pyro`). There is a [public mapping file](https://github.com/bndr/pipreqs/blob/master/pipreqs/mapping) stored by pipreqs. However, this is missing some entries (such as pyro).  These must be manually added to the [mapping2 file](https://github.com/probml/superimport/blob/main/superimport/mapping2). If your favorite package is missing, open a PR on the superimport repo.\n",
        "\n",
        "* There are some packages that do not list of all of their requirements.txt (eg GPyOpt depends on matplotlib, but does not mention this). If this 'hidden requirement' is missing, superimport cannot find it either. If it is not already installed in colab, then your script will fail, even with superimport."
      ]
    },
    {
      "cell_type": "code",
      "metadata": {
        "id": "GUWz9Gr-d5SO"
      },
      "source": [
        ""
      ],
      "execution_count": null,
      "outputs": []
    }
  ]
}