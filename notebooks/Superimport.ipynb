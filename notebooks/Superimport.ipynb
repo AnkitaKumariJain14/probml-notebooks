{
  "nbformat": 4,
  "nbformat_minor": 0,
  "metadata": {
    "colab": {
      "name": "Superimport.ipynb",
      "provenance": [],
      "collapsed_sections": [],
      "include_colab_link": true
    },
    "kernelspec": {
      "name": "python3",
      "display_name": "Python 3"
    },
    "language_info": {
      "name": "python"
    }
  },
  "cells": [
    {
      "cell_type": "markdown",
      "metadata": {
        "id": "view-in-github",
        "colab_type": "text"
      },
      "source": [
        "<a href=\"https://colab.research.google.com/github/probml/probml-notebooks/blob/main/notebooks/Superimport.ipynb\" target=\"_parent\"><img src=\"https://colab.research.google.com/assets/colab-badge.svg\" alt=\"Open In Colab\"/></a>"
      ]
    },
    {
      "cell_type": "markdown",
      "metadata": {
        "id": "_Qd2diMQZlQL"
      },
      "source": [
        "# Superimport demo\n",
        "\n",
        "The [superimport library](https://github.com/probml/superimport), written by [Mahmoud Soliman](https://github.com/mjsML), takes care of installing missing python packages for you. All you have to do is type `pip install superimport` (once per colab session), and then add `import superimport` to the top of any of your python files; then, when you run those files, superimport will read the source code, figure out any missing dependencies, install them for you automagically, and then run the rest of your code as usual.\n",
        "\n"
      ]
    },
    {
      "cell_type": "code",
      "metadata": {
        "id": "1G16DyRzi6kK",
        "colab": {
          "base_uri": "https://localhost:8080/"
        },
        "outputId": "cc954116-84b7-4ba2-c820-eef3bf9c456e"
      },
      "source": [
        "!pip install superimport -qqq"
      ],
      "execution_count": 1,
      "outputs": [
        {
          "output_type": "stream",
          "text": [
            "  Building wheel for superimport (setup.py) ... \u001b[?25l\u001b[?25hdone\n"
          ],
          "name": "stdout"
        }
      ]
    },
    {
      "cell_type": "markdown",
      "metadata": {
        "id": "V_82RC0lahoP"
      },
      "source": [
        "# Run a small program that relies on a library that is not installed\n",
        "\n",
        "Colab has most popular ML packages already installed. However, there are a few missing ones, such as [GPyOpt](https://github.com/SheffieldML/GPyOpt). Below we create a short file, called `test.py`, that relies on that missing library. We then show what happens if we try to run the script  without first installing the library. "
      ]
    },
    {
      "cell_type": "code",
      "metadata": {
        "colab": {
          "base_uri": "https://localhost:8080/"
        },
        "id": "UuJYZu_1kP1B",
        "outputId": "8cd0bb60-e62b-4450-f4f3-8175107e23c3"
      },
      "source": [
        "%%file test.py\n",
        "import GPyOpt\n",
        "import numpy\n",
        "import matplotlib\n",
        "print(\"success!\")"
      ],
      "execution_count": 2,
      "outputs": [
        {
          "output_type": "stream",
          "text": [
            "Writing test.py\n"
          ],
          "name": "stdout"
        }
      ]
    },
    {
      "cell_type": "markdown",
      "metadata": {
        "id": "YJ03lzU6bajD"
      },
      "source": [
        "Let's check we created the script file correctly."
      ]
    },
    {
      "cell_type": "code",
      "metadata": {
        "colab": {
          "base_uri": "https://localhost:8080/"
        },
        "id": "uNb9m5vKbYWb",
        "outputId": "cbe5ed42-c643-408b-b106-cfaa3e54849a"
      },
      "source": [
        "!cat test.py"
      ],
      "execution_count": 3,
      "outputs": [
        {
          "output_type": "stream",
          "text": [
            "import GPyOpt\n",
            "import numpy\n",
            "import matplotlib\n",
            "print(\"success!\")"
          ],
          "name": "stdout"
        }
      ]
    },
    {
      "cell_type": "markdown",
      "metadata": {
        "id": "mkwHEjfwknJt"
      },
      "source": [
        "Without importing superimport, if you have a missing package your script will fail."
      ]
    },
    {
      "cell_type": "code",
      "metadata": {
        "colab": {
          "base_uri": "https://localhost:8080/",
          "height": 221
        },
        "id": "6T6BDgaRkSdM",
        "outputId": "2dd8053f-4f46-4128-8703-880cf615d2cb"
      },
      "source": [
        "%run test.py"
      ],
      "execution_count": 4,
      "outputs": [
        {
          "output_type": "error",
          "ename": "ModuleNotFoundError",
          "evalue": "ignored",
          "traceback": [
            "\u001b[0;31m---------------------------------------------------------------------------\u001b[0m",
            "\u001b[0;31mModuleNotFoundError\u001b[0m                       Traceback (most recent call last)",
            "\u001b[0;32m/content/test.py\u001b[0m in \u001b[0;36m<module>\u001b[0;34m()\u001b[0m\n\u001b[0;32m----> 1\u001b[0;31m \u001b[0;32mimport\u001b[0m \u001b[0mGPyOpt\u001b[0m\u001b[0;34m\u001b[0m\u001b[0;34m\u001b[0m\u001b[0m\n\u001b[0m\u001b[1;32m      2\u001b[0m \u001b[0;32mimport\u001b[0m \u001b[0mnumpy\u001b[0m\u001b[0;34m\u001b[0m\u001b[0;34m\u001b[0m\u001b[0m\n\u001b[1;32m      3\u001b[0m \u001b[0;32mimport\u001b[0m \u001b[0mmatplotlib\u001b[0m\u001b[0;34m\u001b[0m\u001b[0;34m\u001b[0m\u001b[0m\n\u001b[1;32m      4\u001b[0m \u001b[0mprint\u001b[0m\u001b[0;34m(\u001b[0m\u001b[0;34m\"success!\"\u001b[0m\u001b[0;34m)\u001b[0m\u001b[0;34m\u001b[0m\u001b[0;34m\u001b[0m\u001b[0m\n",
            "\u001b[0;31mModuleNotFoundError\u001b[0m: No module named 'GPyOpt'"
          ]
        }
      ]
    },
    {
      "cell_type": "markdown",
      "metadata": {
        "id": "cZd4ITLYa33l"
      },
      "source": [
        "# Now add superimport\n",
        "\n",
        "Now we add one new line, and it works :)"
      ]
    },
    {
      "cell_type": "code",
      "metadata": {
        "colab": {
          "base_uri": "https://localhost:8080/"
        },
        "id": "fMPOfeIHi9i3",
        "outputId": "2e7f1e48-a803-4c11-e331-79ab3de03450"
      },
      "source": [
        "%%file test.py\n",
        "import superimport\n",
        "import GPyOpt\n",
        "import numpy\n",
        "import matplotlib\n",
        "print(\"success!\")"
      ],
      "execution_count": 7,
      "outputs": [
        {
          "output_type": "stream",
          "text": [
            "Overwriting test.py\n"
          ],
          "name": "stdout"
        }
      ]
    },
    {
      "cell_type": "markdown",
      "metadata": {
        "id": "aIFQaI6pkxIL"
      },
      "source": [
        "With superimport, it's like magic :)"
      ]
    },
    {
      "cell_type": "code",
      "metadata": {
        "colab": {
          "base_uri": "https://localhost:8080/"
        },
        "id": "tL4_358-jJD8",
        "outputId": "1fda8119-dd92-4b9a-9f34-cd775f098c7f"
      },
      "source": [
        "%run test.py"
      ],
      "execution_count": 8,
      "outputs": [
        {
          "output_type": "stream",
          "text": [
            "ERROR: superimport : missing python module: GPyOpt \n",
            "Trying try to install automatcially\n",
            "WARNING:root:Package was not found in the reverse index, trying pypi.\n"
          ],
          "name": "stderr"
        },
        {
          "output_type": "stream",
          "text": [
            "success!\n"
          ],
          "name": "stdout"
        }
      ]
    }
  ]
}