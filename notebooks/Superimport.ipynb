{
  "nbformat": 4,
  "nbformat_minor": 0,
  "metadata": {
    "colab": {
      "name": "Superimport.ipynb",
      "provenance": [],
      "collapsed_sections": [],
      "toc_visible": true,
      "include_colab_link": true
    },
    "kernelspec": {
      "name": "python3",
      "display_name": "Python 3"
    },
    "language_info": {
      "name": "python"
    }
  },
  "cells": [
    {
      "cell_type": "markdown",
      "metadata": {
        "id": "view-in-github",
        "colab_type": "text"
      },
      "source": [
        "<a href=\"https://colab.research.google.com/github/probml/probml-notebooks/blob/main/notebooks/Superimport.ipynb\" target=\"_parent\"><img src=\"https://colab.research.google.com/assets/colab-badge.svg\" alt=\"Open In Colab\"/></a>"
      ]
    },
    {
      "cell_type": "markdown",
      "metadata": {
        "id": "_Qd2diMQZlQL"
      },
      "source": [
        "# Superimport demo\n",
        "\n",
        "The [superimport library](https://github.com/probml/superimport), written by [Mahmoud Soliman](https://github.com/mjsML), takes care of installing missing python packages for you. All you have to do is type `pip install superimport` (once per colab session), and then add `import superimport` to the top of any of your python files; then, when you run those files, superimport will read the source code, figure out any missing dependencies, install them for you automagically, and then run the rest of your code as usual. We illustrate this below.\n",
        "\n"
      ]
    },
    {
      "cell_type": "code",
      "metadata": {
        "id": "1G16DyRzi6kK",
        "colab": {
          "base_uri": "https://localhost:8080/"
        },
        "outputId": "1e9d0767-ae1d-4ffe-95b5-4c71af631e58"
      },
      "source": [
        "!pip install superimport -qqq"
      ],
      "execution_count": 1,
      "outputs": [
        {
          "output_type": "stream",
          "text": [
            "  Building wheel for superimport (setup.py) ... \u001b[?25l\u001b[?25hdone\n"
          ],
          "name": "stdout"
        }
      ]
    },
    {
      "cell_type": "markdown",
      "metadata": {
        "id": "V_82RC0lahoP"
      },
      "source": [
        "# An example with GPyOpt\n",
        "\n",
        "Colab has most popular ML packages already installed. However, there are a few missing ones, such as [GPyOpt](https://github.com/SheffieldML/GPyOpt). Below we create a short file, called `test.py`, that relies on that missing library. We then show what happens if we try to run the script  without first installing the library. "
      ]
    },
    {
      "cell_type": "code",
      "metadata": {
        "colab": {
          "base_uri": "https://localhost:8080/"
        },
        "id": "UuJYZu_1kP1B",
        "outputId": "29c6cfef-3b3b-4ece-ff61-960f5426c189"
      },
      "source": [
        "%%file test.py\n",
        "import GPyOpt\n",
        "import numpy\n",
        "import matplotlib\n",
        "print(\"success!\")"
      ],
      "execution_count": 2,
      "outputs": [
        {
          "output_type": "stream",
          "text": [
            "Writing test.py\n"
          ],
          "name": "stdout"
        }
      ]
    },
    {
      "cell_type": "markdown",
      "metadata": {
        "id": "YJ03lzU6bajD"
      },
      "source": [
        "Let's check we created the script file correctly."
      ]
    },
    {
      "cell_type": "code",
      "metadata": {
        "colab": {
          "base_uri": "https://localhost:8080/"
        },
        "id": "uNb9m5vKbYWb",
        "outputId": "a46e5b7d-c90c-4db4-df0c-c3bdee5eb5f3"
      },
      "source": [
        "!cat test.py"
      ],
      "execution_count": 3,
      "outputs": [
        {
          "output_type": "stream",
          "text": [
            "import GPyOpt\n",
            "import numpy\n",
            "import matplotlib\n",
            "print(\"success!\")"
          ],
          "name": "stdout"
        }
      ]
    },
    {
      "cell_type": "markdown",
      "metadata": {
        "id": "mkwHEjfwknJt"
      },
      "source": [
        "Without importing superimport, if you have a missing package your script will fail."
      ]
    },
    {
      "cell_type": "code",
      "metadata": {
        "colab": {
          "base_uri": "https://localhost:8080/",
          "height": 221
        },
        "id": "6T6BDgaRkSdM",
        "outputId": "008d007b-1e77-479f-c4aa-e382a851cdce"
      },
      "source": [
        "%run test.py"
      ],
      "execution_count": 4,
      "outputs": [
        {
          "output_type": "error",
          "ename": "ModuleNotFoundError",
          "evalue": "ignored",
          "traceback": [
            "\u001b[0;31m---------------------------------------------------------------------------\u001b[0m",
            "\u001b[0;31mModuleNotFoundError\u001b[0m                       Traceback (most recent call last)",
            "\u001b[0;32m/content/test.py\u001b[0m in \u001b[0;36m<module>\u001b[0;34m()\u001b[0m\n\u001b[0;32m----> 1\u001b[0;31m \u001b[0;32mimport\u001b[0m \u001b[0mGPyOpt\u001b[0m\u001b[0;34m\u001b[0m\u001b[0;34m\u001b[0m\u001b[0m\n\u001b[0m\u001b[1;32m      2\u001b[0m \u001b[0;32mimport\u001b[0m \u001b[0mnumpy\u001b[0m\u001b[0;34m\u001b[0m\u001b[0;34m\u001b[0m\u001b[0m\n\u001b[1;32m      3\u001b[0m \u001b[0;32mimport\u001b[0m \u001b[0mmatplotlib\u001b[0m\u001b[0;34m\u001b[0m\u001b[0;34m\u001b[0m\u001b[0m\n\u001b[1;32m      4\u001b[0m \u001b[0mprint\u001b[0m\u001b[0;34m(\u001b[0m\u001b[0;34m\"success!\"\u001b[0m\u001b[0;34m)\u001b[0m\u001b[0;34m\u001b[0m\u001b[0;34m\u001b[0m\u001b[0m\n",
            "\u001b[0;31mModuleNotFoundError\u001b[0m: No module named 'GPyOpt'"
          ]
        }
      ]
    },
    {
      "cell_type": "markdown",
      "metadata": {
        "id": "cZd4ITLYa33l"
      },
      "source": [
        "\n",
        "\n",
        "Now we add one new line, and it works :)"
      ]
    },
    {
      "cell_type": "code",
      "metadata": {
        "colab": {
          "base_uri": "https://localhost:8080/"
        },
        "id": "fMPOfeIHi9i3",
        "outputId": "b933b66c-c9f3-4f9b-eff1-4763c2746f9c"
      },
      "source": [
        "%%file test.py\n",
        "import superimport\n",
        "import GPyOpt\n",
        "import numpy\n",
        "import matplotlib\n",
        "print(\"success!\")"
      ],
      "execution_count": 5,
      "outputs": [
        {
          "output_type": "stream",
          "text": [
            "Overwriting test.py\n"
          ],
          "name": "stdout"
        }
      ]
    },
    {
      "cell_type": "markdown",
      "metadata": {
        "id": "aIFQaI6pkxIL"
      },
      "source": [
        "With superimport, it's like magic :)"
      ]
    },
    {
      "cell_type": "code",
      "metadata": {
        "colab": {
          "base_uri": "https://localhost:8080/"
        },
        "id": "tL4_358-jJD8",
        "outputId": "356e38c9-e8df-4311-ea15-fce253b014ba"
      },
      "source": [
        "%run test.py"
      ],
      "execution_count": 6,
      "outputs": [
        {
          "output_type": "stream",
          "text": [
            "ERROR: superimport : missing python module: GPyOpt \n",
            "Trying try to install automatcially\n",
            "WARNING:root:Package was not found in the reverse index, trying pypi.\n"
          ],
          "name": "stderr"
        },
        {
          "output_type": "stream",
          "text": [
            "success!\n"
          ],
          "name": "stdout"
        }
      ]
    },
    {
      "cell_type": "markdown",
      "metadata": {
        "id": "-IDlmbuCgDMx"
      },
      "source": [
        "# An example with NumPyro\n",
        "\n",
        "This time we make a demo that uses numpyro, that is not installed in colab by default."
      ]
    },
    {
      "cell_type": "code",
      "metadata": {
        "id": "SuSqhaqEgQ3z",
        "outputId": "38251ac8-d0ee-4a8d-b800-9f3a22dbd90f",
        "colab": {
          "base_uri": "https://localhost:8080/"
        }
      },
      "source": [
        "%%file test.py\n",
        "import superimport\n",
        "import numpyro\n",
        "print('numpyro version ', numpyro.__version__)"
      ],
      "execution_count": 7,
      "outputs": [
        {
          "output_type": "stream",
          "text": [
            "Overwriting test.py\n"
          ],
          "name": "stdout"
        }
      ]
    },
    {
      "cell_type": "code",
      "metadata": {
        "id": "yHihouB-gUJK",
        "outputId": "1beb1b88-9e65-4f81-ee4c-f261b17c2540",
        "colab": {
          "base_uri": "https://localhost:8080/",
          "height": 203
        }
      },
      "source": [
        "%run test.py"
      ],
      "execution_count": 8,
      "outputs": [
        {
          "output_type": "error",
          "ename": "ModuleNotFoundError",
          "evalue": "ignored",
          "traceback": [
            "\u001b[0;31m---------------------------------------------------------------------------\u001b[0m",
            "\u001b[0;31mModuleNotFoundError\u001b[0m                       Traceback (most recent call last)",
            "\u001b[0;32m/content/test.py\u001b[0m in \u001b[0;36m<module>\u001b[0;34m()\u001b[0m\n\u001b[1;32m      1\u001b[0m \u001b[0;32mimport\u001b[0m \u001b[0msuperimport\u001b[0m\u001b[0;34m\u001b[0m\u001b[0;34m\u001b[0m\u001b[0m\n\u001b[0;32m----> 2\u001b[0;31m \u001b[0;32mimport\u001b[0m \u001b[0mnumpyro\u001b[0m\u001b[0;34m\u001b[0m\u001b[0;34m\u001b[0m\u001b[0m\n\u001b[0m\u001b[1;32m      3\u001b[0m \u001b[0mprint\u001b[0m\u001b[0;34m(\u001b[0m\u001b[0;34m'numpyro version '\u001b[0m\u001b[0;34m,\u001b[0m \u001b[0mnumpyro\u001b[0m\u001b[0;34m.\u001b[0m\u001b[0m__version__\u001b[0m\u001b[0;34m)\u001b[0m\u001b[0;34m\u001b[0m\u001b[0;34m\u001b[0m\u001b[0m\n",
            "\u001b[0;31mModuleNotFoundError\u001b[0m: No module named 'numpyro'"
          ]
        }
      ]
    },
    {
      "cell_type": "markdown",
      "metadata": {
        "id": "KJSga2iNeauy"
      },
      "source": [
        "# An example with Pyro\n",
        "\n",
        "This time we make a demo that uses pyro, that is not installed in colab by default. Furthermore, its package name (pyro-ppl) does not match its import name (pyro)."
      ]
    },
    {
      "cell_type": "code",
      "metadata": {
        "id": "Sy7eFOQxfQB6",
        "outputId": "933a3c0f-ab78-47bb-f557-0376ecf24894",
        "colab": {
          "base_uri": "https://localhost:8080/"
        }
      },
      "source": [
        "%%file test.py\n",
        "import superimport\n",
        "import pyro\n",
        "print('pyro version ', pyro.__version__)"
      ],
      "execution_count": 9,
      "outputs": [
        {
          "output_type": "stream",
          "text": [
            "Overwriting test.py\n"
          ],
          "name": "stdout"
        }
      ]
    },
    {
      "cell_type": "code",
      "metadata": {
        "id": "wMgsJq1ieoeH",
        "outputId": "cd1ba512-dd2b-491e-93e2-91770319fee5",
        "colab": {
          "base_uri": "https://localhost:8080/",
          "height": 203
        }
      },
      "source": [
        "%run test.py"
      ],
      "execution_count": 10,
      "outputs": [
        {
          "output_type": "error",
          "ename": "ModuleNotFoundError",
          "evalue": "ignored",
          "traceback": [
            "\u001b[0;31m---------------------------------------------------------------------------\u001b[0m",
            "\u001b[0;31mModuleNotFoundError\u001b[0m                       Traceback (most recent call last)",
            "\u001b[0;32m/content/test.py\u001b[0m in \u001b[0;36m<module>\u001b[0;34m()\u001b[0m\n\u001b[1;32m      1\u001b[0m \u001b[0;32mimport\u001b[0m \u001b[0msuperimport\u001b[0m\u001b[0;34m\u001b[0m\u001b[0;34m\u001b[0m\u001b[0m\n\u001b[0;32m----> 2\u001b[0;31m \u001b[0;32mimport\u001b[0m \u001b[0mpyro\u001b[0m\u001b[0;34m\u001b[0m\u001b[0;34m\u001b[0m\u001b[0m\n\u001b[0m\u001b[1;32m      3\u001b[0m \u001b[0mprint\u001b[0m\u001b[0;34m(\u001b[0m\u001b[0;34m'pyro version '\u001b[0m\u001b[0;34m,\u001b[0m \u001b[0mpyro\u001b[0m\u001b[0;34m.\u001b[0m\u001b[0m__version__\u001b[0m\u001b[0;34m)\u001b[0m\u001b[0;34m\u001b[0m\u001b[0;34m\u001b[0m\u001b[0m\n",
            "\u001b[0;31mModuleNotFoundError\u001b[0m: No module named 'pyro'"
          ]
        }
      ]
    },
    {
      "cell_type": "code",
      "metadata": {
        "id": "LcDDydTPfuxe",
        "outputId": "3ebb2318-1244-410e-d6c4-8b8ee38f9463",
        "colab": {
          "base_uri": "https://localhost:8080/"
        }
      },
      "source": [
        "!pip install pyro-ppl\n"
      ],
      "execution_count": 11,
      "outputs": [
        {
          "output_type": "stream",
          "text": [
            "Collecting pyro-ppl\n",
            "  Downloading pyro_ppl-1.7.0-py3-none-any.whl (678 kB)\n",
            "\u001b[?25l\r\u001b[K     |▌                               | 10 kB 24.2 MB/s eta 0:00:01\r\u001b[K     |█                               | 20 kB 29.0 MB/s eta 0:00:01\r\u001b[K     |█▌                              | 30 kB 13.1 MB/s eta 0:00:01\r\u001b[K     |██                              | 40 kB 10.6 MB/s eta 0:00:01\r\u001b[K     |██▍                             | 51 kB 6.8 MB/s eta 0:00:01\r\u001b[K     |███                             | 61 kB 7.3 MB/s eta 0:00:01\r\u001b[K     |███▍                            | 71 kB 6.5 MB/s eta 0:00:01\r\u001b[K     |███▉                            | 81 kB 7.2 MB/s eta 0:00:01\r\u001b[K     |████▍                           | 92 kB 6.2 MB/s eta 0:00:01\r\u001b[K     |████▉                           | 102 kB 6.5 MB/s eta 0:00:01\r\u001b[K     |█████▎                          | 112 kB 6.5 MB/s eta 0:00:01\r\u001b[K     |█████▉                          | 122 kB 6.5 MB/s eta 0:00:01\r\u001b[K     |██████▎                         | 133 kB 6.5 MB/s eta 0:00:01\r\u001b[K     |██████▊                         | 143 kB 6.5 MB/s eta 0:00:01\r\u001b[K     |███████▎                        | 153 kB 6.5 MB/s eta 0:00:01\r\u001b[K     |███████▊                        | 163 kB 6.5 MB/s eta 0:00:01\r\u001b[K     |████████▏                       | 174 kB 6.5 MB/s eta 0:00:01\r\u001b[K     |████████▊                       | 184 kB 6.5 MB/s eta 0:00:01\r\u001b[K     |█████████▏                      | 194 kB 6.5 MB/s eta 0:00:01\r\u001b[K     |█████████▋                      | 204 kB 6.5 MB/s eta 0:00:01\r\u001b[K     |██████████▏                     | 215 kB 6.5 MB/s eta 0:00:01\r\u001b[K     |██████████▋                     | 225 kB 6.5 MB/s eta 0:00:01\r\u001b[K     |███████████                     | 235 kB 6.5 MB/s eta 0:00:01\r\u001b[K     |███████████▋                    | 245 kB 6.5 MB/s eta 0:00:01\r\u001b[K     |████████████                    | 256 kB 6.5 MB/s eta 0:00:01\r\u001b[K     |████████████▌                   | 266 kB 6.5 MB/s eta 0:00:01\r\u001b[K     |█████████████                   | 276 kB 6.5 MB/s eta 0:00:01\r\u001b[K     |█████████████▌                  | 286 kB 6.5 MB/s eta 0:00:01\r\u001b[K     |██████████████                  | 296 kB 6.5 MB/s eta 0:00:01\r\u001b[K     |██████████████▌                 | 307 kB 6.5 MB/s eta 0:00:01\r\u001b[K     |███████████████                 | 317 kB 6.5 MB/s eta 0:00:01\r\u001b[K     |███████████████▌                | 327 kB 6.5 MB/s eta 0:00:01\r\u001b[K     |████████████████                | 337 kB 6.5 MB/s eta 0:00:01\r\u001b[K     |████████████████▍               | 348 kB 6.5 MB/s eta 0:00:01\r\u001b[K     |█████████████████               | 358 kB 6.5 MB/s eta 0:00:01\r\u001b[K     |█████████████████▍              | 368 kB 6.5 MB/s eta 0:00:01\r\u001b[K     |█████████████████▉              | 378 kB 6.5 MB/s eta 0:00:01\r\u001b[K     |██████████████████▍             | 389 kB 6.5 MB/s eta 0:00:01\r\u001b[K     |██████████████████▉             | 399 kB 6.5 MB/s eta 0:00:01\r\u001b[K     |███████████████████▎            | 409 kB 6.5 MB/s eta 0:00:01\r\u001b[K     |███████████████████▉            | 419 kB 6.5 MB/s eta 0:00:01\r\u001b[K     |████████████████████▎           | 430 kB 6.5 MB/s eta 0:00:01\r\u001b[K     |████████████████████▊           | 440 kB 6.5 MB/s eta 0:00:01\r\u001b[K     |█████████████████████▎          | 450 kB 6.5 MB/s eta 0:00:01\r\u001b[K     |█████████████████████▊          | 460 kB 6.5 MB/s eta 0:00:01\r\u001b[K     |██████████████████████▏         | 471 kB 6.5 MB/s eta 0:00:01\r\u001b[K     |██████████████████████▊         | 481 kB 6.5 MB/s eta 0:00:01\r\u001b[K     |███████████████████████▏        | 491 kB 6.5 MB/s eta 0:00:01\r\u001b[K     |███████████████████████▋        | 501 kB 6.5 MB/s eta 0:00:01\r\u001b[K     |████████████████████████▏       | 512 kB 6.5 MB/s eta 0:00:01\r\u001b[K     |████████████████████████▋       | 522 kB 6.5 MB/s eta 0:00:01\r\u001b[K     |█████████████████████████       | 532 kB 6.5 MB/s eta 0:00:01\r\u001b[K     |█████████████████████████▋      | 542 kB 6.5 MB/s eta 0:00:01\r\u001b[K     |██████████████████████████      | 552 kB 6.5 MB/s eta 0:00:01\r\u001b[K     |██████████████████████████▌     | 563 kB 6.5 MB/s eta 0:00:01\r\u001b[K     |███████████████████████████     | 573 kB 6.5 MB/s eta 0:00:01\r\u001b[K     |███████████████████████████▌    | 583 kB 6.5 MB/s eta 0:00:01\r\u001b[K     |████████████████████████████    | 593 kB 6.5 MB/s eta 0:00:01\r\u001b[K     |████████████████████████████▌   | 604 kB 6.5 MB/s eta 0:00:01\r\u001b[K     |█████████████████████████████   | 614 kB 6.5 MB/s eta 0:00:01\r\u001b[K     |█████████████████████████████▍  | 624 kB 6.5 MB/s eta 0:00:01\r\u001b[K     |██████████████████████████████  | 634 kB 6.5 MB/s eta 0:00:01\r\u001b[K     |██████████████████████████████▍ | 645 kB 6.5 MB/s eta 0:00:01\r\u001b[K     |███████████████████████████████ | 655 kB 6.5 MB/s eta 0:00:01\r\u001b[K     |███████████████████████████████▍| 665 kB 6.5 MB/s eta 0:00:01\r\u001b[K     |███████████████████████████████▉| 675 kB 6.5 MB/s eta 0:00:01\r\u001b[K     |████████████████████████████████| 678 kB 6.5 MB/s \n",
            "\u001b[?25hRequirement already satisfied: tqdm>=4.36 in /usr/local/lib/python3.7/dist-packages (from pyro-ppl) (4.62.0)\n",
            "Collecting pyro-api>=0.1.1\n",
            "  Downloading pyro_api-0.1.2-py3-none-any.whl (11 kB)\n",
            "Requirement already satisfied: torch>=1.9.0 in /usr/local/lib/python3.7/dist-packages (from pyro-ppl) (1.9.0+cu102)\n",
            "Requirement already satisfied: opt-einsum>=2.3.2 in /usr/local/lib/python3.7/dist-packages (from pyro-ppl) (3.3.0)\n",
            "Requirement already satisfied: numpy>=1.7 in /usr/local/lib/python3.7/dist-packages (from pyro-ppl) (1.19.5)\n",
            "Requirement already satisfied: typing-extensions in /usr/local/lib/python3.7/dist-packages (from torch>=1.9.0->pyro-ppl) (3.7.4.3)\n",
            "Installing collected packages: pyro-api, pyro-ppl\n",
            "Successfully installed pyro-api-0.1.2 pyro-ppl-1.7.0\n"
          ],
          "name": "stdout"
        }
      ]
    },
    {
      "cell_type": "code",
      "metadata": {
        "id": "ZWr5feVBfyVp",
        "outputId": "3f567061-6bbd-46c9-c513-1f9642e00d0f",
        "colab": {
          "base_uri": "https://localhost:8080/"
        }
      },
      "source": [
        "%run test.py"
      ],
      "execution_count": 12,
      "outputs": [
        {
          "output_type": "stream",
          "text": [
            "pyro version  1.7.0\n"
          ],
          "name": "stdout"
        }
      ]
    },
    {
      "cell_type": "markdown",
      "metadata": {
        "id": "gERNSvUpcru-"
      },
      "source": [
        "# Sharp edges\n",
        "\n",
        "* There are some packages whose install names differ from their import names  (eg we type `pip install pyro-ppl` but `import pyro`). There is a [public mapping file](https://github.com/bndr/pipreqs/blob/master/pipreqs/mapping) stored by pipreqs. However, this is missing some entries (such as pyro).  These must be manually added to the [mapping2 file](https://github.com/probml/superimport/blob/main/superimport/mapping2). If your favorite package is missing, open a PR on the superimport repo.\n",
        "\n",
        "* There are some packages that do not list of all of their requirements.txt (eg GPyOpt depends on matplotlib, but does not mention this). If this 'hidden requirement' is missing, superimport cannot find it either. If it is not already installed in colab, then your script will fail, even with superimport."
      ]
    },
    {
      "cell_type": "code",
      "metadata": {
        "id": "GUWz9Gr-d5SO"
      },
      "source": [
        ""
      ],
      "execution_count": null,
      "outputs": []
    }
  ]
}