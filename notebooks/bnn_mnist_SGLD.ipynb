{
  "nbformat": 4,
  "nbformat_minor": 0,
  "metadata": {
    "colab": {
      "name": "bnn-mnist-SGLD.ipynb",
      "provenance": [],
      "collapsed_sections": [],
      "toc_visible": true,
      "machine_shape": "hm",
      "authorship_tag": "ABX9TyMLdj5vH9KOBAmd9UZEUpK+",
      "include_colab_link": true
    },
    "kernelspec": {
      "name": "python3",
      "display_name": "Python 3"
    },
    "language_info": {
      "name": "python"
    },
    "accelerator": "GPU"
  },
  "cells": [
    {
      "cell_type": "markdown",
      "metadata": {
        "id": "view-in-github",
        "colab_type": "text"
      },
      "source": [
        "<a href=\"https://colab.research.google.com/github/probml/probml-notebooks/blob/main/notebooks/bnn_mnist_SGLD.ipynb\" target=\"_parent\"><img src=\"https://colab.research.google.com/assets/colab-badge.svg\" alt=\"Open In Colab\"/></a>"
      ]
    },
    {
      "cell_type": "markdown",
      "metadata": {
        "id": "JSZw_Iv0t5Aw"
      },
      "source": [
        "# Bayesian MLP for MNIST using preconditioned SGLD\n",
        "\n",
        "We use the [Jax Bayes](https://github.com/jamesvuc/jax-bayes) library \n",
        "by  James Vuckovic \n",
        "to fit an MLP to MNIST using SGD, and SGLD (with RMS preconditioning).\n",
        "Code is based on:\n",
        "\n",
        "\n",
        "\n",
        "1.   https://github.com/jamesvuc/jax-bayes/blob/master/examples/deep/mnist/mnist.ipynb\n",
        "2.   https://github.com/jamesvuc/jax-bayes/blob/master/examples/deep/mnist/mnist_mcmc.ipynb\n"
      ]
    },
    {
      "cell_type": "markdown",
      "metadata": {
        "id": "YwuRJZKAuoQs"
      },
      "source": [
        "# Setup"
      ]
    },
    {
      "cell_type": "code",
      "metadata": {
        "id": "PmY4LL3AuL0j"
      },
      "source": [
        "%%capture\n",
        "!pip install git+https://github.com/deepmind/dm-haiku\n",
        "!pip install git+https://github.com/jamesvuc/jax-bayes"
      ],
      "execution_count": 2,
      "outputs": []
    },
    {
      "cell_type": "code",
      "metadata": {
        "id": "2Mz0kTuHwKqy"
      },
      "source": [
        "import haiku as hk\n",
        "\n",
        "import jax.numpy as jnp\n",
        "from jax.experimental import optimizers\n",
        "import jax\n",
        "\n",
        "import jax_bayes\n",
        "\n",
        "import sys, os, math, time\n",
        "import numpy as onp\n",
        "import numpy as np\n",
        "from functools import partial \n",
        "from matplotlib import pyplot as plt\n",
        "\n",
        "os.environ['TF_CPP_MIN_LOG_LEVEL'] = '2' \n",
        "import tensorflow_datasets as tfds"
      ],
      "execution_count": 38,
      "outputs": []
    },
    {
      "cell_type": "markdown",
      "metadata": {
        "id": "oyxSjxhZwU2_"
      },
      "source": [
        "# Data"
      ]
    },
    {
      "cell_type": "code",
      "metadata": {
        "id": "2HDMRDZwv9-d"
      },
      "source": [
        "def load_dataset(split, is_training, batch_size):\n",
        "  ds = tfds.load('mnist:3.*.*', split=split).cache().repeat()\n",
        "  if is_training:\n",
        "    ds = ds.shuffle(10 * batch_size, seed=0)\n",
        "  ds = ds.batch(batch_size)\n",
        "  #return tfds.as_numpy(ds)\n",
        "  return iter(tfds.as_numpy(ds))\n",
        " \n",
        "\n"
      ],
      "execution_count": 13,
      "outputs": []
    },
    {
      "cell_type": "code",
      "metadata": {
        "id": "WcjAlEjtwVr1"
      },
      "source": [
        "\n",
        "# load the data into memory and create batch iterators\n",
        "train_batches = load_dataset(\"train\", is_training=True, batch_size=1_000)\n",
        "val_batches = load_dataset(\"train\", is_training=False, batch_size=10_000)\n",
        "test_batches = load_dataset(\"test\", is_training=False, batch_size=10_000)"
      ],
      "execution_count": 15,
      "outputs": []
    },
    {
      "cell_type": "markdown",
      "metadata": {
        "id": "rE5YVKsawZj-"
      },
      "source": [
        "# Model"
      ]
    },
    {
      "cell_type": "code",
      "metadata": {
        "id": "-QMiyBlEwY5q"
      },
      "source": [
        "nclasses = 10\n",
        "\n",
        "\n",
        "def net_fn(batch, sig):\n",
        "  \"\"\" Standard LeNet-300-100 MLP \"\"\"\n",
        "  x = batch[\"image\"].astype(jnp.float32) / 255.\n",
        "  # x has size (1000, 28, 28, 1)\n",
        "  D = np.prod(x.shape[1:]) # 784\n",
        "  # To match initialization of linear layer\n",
        "  # sigma = 1/sqrt(fan-in)\n",
        "  # https://dm-haiku.readthedocs.io/en/latest/api.html#id1\n",
        "  #w_init = hk.initializers.TruncatedNormal(stddev=stddev)\n",
        "  sizes = [D, 300, 100, nclasses]\n",
        "  sigmas = [sig/jnp.sqrt(fanin) for fanin in sizes]\n",
        "  mlp = hk.Sequential([\n",
        "    hk.Flatten(),\n",
        "    hk.Linear(sizes[1], \n",
        "              w_init=hk.initializers.TruncatedNormal(stddev=sigmas[0]),\n",
        "              b_init=jnp.zeros), \n",
        "    jax.nn.relu, \n",
        "    hk.Linear(sizes[2], \n",
        "              w_init=hk.initializers.TruncatedNormal(stddev=sigmas[1]),\n",
        "              b_init=jnp.zeros), \n",
        "    jax.nn.relu, \n",
        "    hk.Linear(sizes[3],\n",
        "              w_init=hk.initializers.TruncatedNormal(stddev=sigmas[2]),\n",
        "              b_init=jnp.zeros)\n",
        "    ])\n",
        "\n",
        "  return mlp(x)\n",
        "\n",
        "# L2 regularizer will be added to loss\n",
        "reg = 1e-4"
      ],
      "execution_count": 26,
      "outputs": []
    },
    {
      "cell_type": "markdown",
      "metadata": {
        "id": "vhHWqpc8wkE3"
      },
      "source": [
        "# SGD"
      ]
    },
    {
      "cell_type": "code",
      "metadata": {
        "id": "Erm8G2YZwkcq"
      },
      "source": [
        "net = hk.transform(partial(net_fn, sig=1))\n",
        "\n",
        "lr = 1e-3\n",
        "opt_init, opt_update, opt_get_params = optimizers.rmsprop(lr)\n",
        "\n",
        "# instantiate the model parameters --- requires a sample batch to get size\n",
        "params_init = net.init(jax.random.PRNGKey(42), next(train_batches))\n",
        "\n",
        "# intialize the optimzier state\n",
        "opt_state = opt_init(init_params)\n",
        "\n",
        "def loss(params, batch):\n",
        "  logits = net.apply(params, None, batch)\n",
        "  labels = jax.nn.one_hot(batch['label'], 10)\n",
        "\n",
        "  l2_loss = 0.5 * sum(jnp.sum(jnp.square(p)) \n",
        "            for p in jax.tree_leaves(params))\n",
        "  \n",
        "  softmax_crossent = - jnp.mean(labels * jax.nn.log_softmax(logits))\n",
        "\n",
        "  return softmax_crossent + reg * l2_loss\n",
        "\n",
        "@jax.jit\n",
        "def accuracy(params, batch):\n",
        "  preds = net.apply(params, None, batch)\n",
        "  return jnp.mean(jnp.argmax(preds, axis=-1) == batch['label'])\n",
        "\n",
        "@jax.jit\n",
        "def train_step(i, opt_state, batch):\n",
        "  params = opt_get_params(opt_state)\n",
        "  dx = jax.grad(loss)(params, batch)\n",
        "  opt_state = opt_update(i, dx, opt_state)\n",
        "  return opt_state"
      ],
      "execution_count": 78,
      "outputs": []
    },
    {
      "cell_type": "code",
      "metadata": {
        "colab": {
          "base_uri": "https://localhost:8080/"
        },
        "id": "vfW2P3jX_yYu",
        "outputId": "97ceed56-51fa-40c9-a316-78877b9ceadc"
      },
      "source": [
        "print(params_init['linear']['w'].shape)"
      ],
      "execution_count": 49,
      "outputs": [
        {
          "output_type": "stream",
          "name": "stdout",
          "text": [
            "(784, 300)\n"
          ]
        }
      ]
    },
    {
      "cell_type": "code",
      "metadata": {
        "id": "r54UuI0n1f_l"
      },
      "source": [
        "def callback(step, params, train_eval, test_eval, print_every=500):\n",
        "  if step % print_every == 0:\n",
        "    # Periodically evaluate classification accuracy on train & test sets.\n",
        "    train_accuracy = accuracy(params, next(train_eval))\n",
        "    test_accuracy = accuracy(params, next(test_eval))\n",
        "    train_accuracy, test_accuracy = jax.device_get(\n",
        "        (train_accuracy, test_accuracy))\n",
        "    print(f\"[Step {step}] Train / Test accuracy: \"\n",
        "          f\"{train_accuracy:.3f} / {test_accuracy:.3f}.\")"
      ],
      "execution_count": 79,
      "outputs": []
    },
    {
      "cell_type": "code",
      "metadata": {
        "colab": {
          "base_uri": "https://localhost:8080/"
        },
        "id": "b0hKy5QgzfJM",
        "outputId": "1cfe1801-4685-4992-e63b-a03e6f278742"
      },
      "source": [
        "%%time\n",
        "\n",
        "nsteps = 5000\n",
        "for step in range(nsteps+1):\n",
        "  opt_state = train_step(step, opt_state, next(train_batches))\n",
        "  params_sgd = opt_get_params(opt_state)\n",
        "  callback(step, params_sgd, val_batches, test_batches)\n",
        "\n",
        "  "
      ],
      "execution_count": 80,
      "outputs": [
        {
          "output_type": "stream",
          "name": "stdout",
          "text": [
            "[Step 0] Train / Test accuracy: 0.361 / 0.360.\n",
            "[Step 500] Train / Test accuracy: 0.969 / 0.965.\n",
            "[Step 1000] Train / Test accuracy: 0.982 / 0.976.\n",
            "[Step 1500] Train / Test accuracy: 0.987 / 0.976.\n",
            "[Step 2000] Train / Test accuracy: 0.990 / 0.978.\n",
            "[Step 2500] Train / Test accuracy: 0.991 / 0.981.\n",
            "[Step 3000] Train / Test accuracy: 0.994 / 0.982.\n",
            "[Step 3500] Train / Test accuracy: 0.995 / 0.982.\n",
            "[Step 4000] Train / Test accuracy: 0.995 / 0.980.\n",
            "[Step 4500] Train / Test accuracy: 0.996 / 0.983.\n",
            "[Step 5000] Train / Test accuracy: 0.994 / 0.982.\n",
            "CPU times: user 24.3 s, sys: 1.75 s, total: 26 s\n",
            "Wall time: 21.3 s\n"
          ]
        }
      ]
    },
    {
      "cell_type": "markdown",
      "metadata": {
        "id": "OlXgvVn56ICo"
      },
      "source": [
        "# SGLD"
      ]
    },
    {
      "cell_type": "code",
      "metadata": {
        "id": "08j-W-vF6Im5"
      },
      "source": [
        "lr = 5e-3\n",
        "\n",
        "num_samples = 10 # number of samples to approximate the posterior\n",
        "init_stddev =  0.01 #0.1 # params sampled around params_init\n",
        "\n",
        "# we initialize all weights to 0 since we will be sampling them anyway\n",
        "#net_bayes = hk.transform(partial(net_fn, sig=0))\n",
        "\n",
        "sampler_fns = jax_bayes.mcmc.rms_langevin_fns\n",
        "seed = 0\n",
        "key = jax.random.PRNGKey(seed)\n",
        "sampler_init, sampler_propose, sampler_update, sampler_get_params = \\\n",
        "  sampler_fns(key, num_samples=num_samples, step_size=lr, init_stddev=init_stddev)\n",
        "\n"
      ],
      "execution_count": 81,
      "outputs": []
    },
    {
      "cell_type": "code",
      "metadata": {
        "id": "UqMB8wbX6nD1"
      },
      "source": [
        "@jax.jit\n",
        "def accuracy_bayes(params_samples, batch):\n",
        "  # average the logits over the parameter samples\n",
        "  pred_fn = jax.vmap(net.apply, in_axes=(0, None, None))\n",
        "  preds = jnp.mean(pred_fn(params_samples, None, batch), axis=0)\n",
        "  return jnp.mean(jnp.argmax(preds, axis=-1) == batch['label'])\n",
        "\n",
        "\n",
        "#the log-probability is the negative of the loss\n",
        "logprob = lambda p,b : - loss(p, b)\n",
        "\n",
        "#build the mcmc step. This is like the opimization step, but for sampling\n",
        "@jax.jit\n",
        "def mcmc_step(i, sampler_state, sampler_keys, batch):\n",
        "  #extract parameters\n",
        "  params = sampler_get_params(sampler_state)\n",
        "  \n",
        "  #form a partial eval of logprob on the data\n",
        "  logp = lambda p: logprob(p,  batch)\n",
        "  \n",
        "  # evaluate *per-sample* gradients\n",
        "  fx, dx = jax.vmap(jax.value_and_grad(logp))(params)\n",
        "\n",
        "  # generat proposal states for the Markov chains\n",
        "  sampler_prop_state, new_keys = sampler_propose(i, dx, sampler_state, \n",
        "                          sampler_keys)\n",
        "  \n",
        "  #we don't need to re-compute gradients for the accept stage (unadjusted Langevin)\n",
        "  fx_prop, dx_prop = fx, dx\n",
        "\n",
        "  # accept the proposal states for the markov chain\n",
        "  sampler_state, new_keys = sampler_update(i, fx, fx_prop, \n",
        "                                           dx, sampler_state, \n",
        "                                           dx_prop, sampler_prop_state, \n",
        "                                           new_keys)\n",
        "  \n",
        "  return jnp.mean(fx), sampler_state, new_keys"
      ],
      "execution_count": 82,
      "outputs": []
    },
    {
      "cell_type": "code",
      "metadata": {
        "id": "QgNjQqeh7IS_"
      },
      "source": [
        "def callback_bayes(step, params, val_batches, test_batches, print_every=500):\n",
        "  if step % print_every == 0:\n",
        "    val_acc = accuracy_bayes(params, next(val_batches))\n",
        "    test_acc = accuracy_bayes(params, next(test_batches))\n",
        "    print(f\"step = {step}\"\n",
        "        f\" | val acc = {val_acc:.3f}\"\n",
        "        f\" | test acc = {test_acc:.3f}\")\n",
        "    \n",
        "\n"
      ],
      "execution_count": 83,
      "outputs": []
    },
    {
      "cell_type": "code",
      "metadata": {
        "colab": {
          "base_uri": "https://localhost:8080/"
        },
        "id": "7aaaOUbD7F7F",
        "outputId": "a61d9467-2936-46c4-9955-664a86cd85a3"
      },
      "source": [
        "\n",
        "%%time\n",
        "\n",
        "#get a single sample of the params using the normal hk.init(...)\n",
        "params_init = net.init(jax.random.PRNGKey(42), next(train_batches))\n",
        "\n",
        "# get a SamplerState object with `num_samples` params along dimension 0\n",
        "# generated by adding Gaussian noise (see sampler_fns(..., init_dist='normal'))\n",
        "sampler_state, sampler_keys = sampler_init(params_init)\n",
        "\n",
        "# iterate the the Markov chain\n",
        "nsteps = 5000\n",
        "for step in range(nsteps+1):\n",
        "  train_logprob, sampler_state, sampler_keys = \\\n",
        "    mcmc_step(step, sampler_state, sampler_keys, next(train_batches))\n",
        "  params_samples = sampler_get_params(sampler_state)\n",
        "  callback_bayes(step, params_samples, val_batches, test_batches)\n"
      ],
      "execution_count": 84,
      "outputs": [
        {
          "output_type": "stream",
          "name": "stdout",
          "text": [
            "step = 0 | val acc = 0.098 | test acc = 0.093\n",
            "step = 500 | val acc = 0.503 | test acc = 0.492\n",
            "step = 1000 | val acc = 0.824 | test acc = 0.822\n",
            "step = 1500 | val acc = 0.884 | test acc = 0.885\n",
            "step = 2000 | val acc = 0.909 | test acc = 0.906\n",
            "step = 2500 | val acc = 0.924 | test acc = 0.917\n",
            "step = 3000 | val acc = 0.926 | test acc = 0.926\n",
            "step = 3500 | val acc = 0.934 | test acc = 0.930\n",
            "step = 4000 | val acc = 0.945 | test acc = 0.934\n",
            "step = 4500 | val acc = 0.948 | test acc = 0.938\n",
            "step = 5000 | val acc = 0.953 | test acc = 0.940\n",
            "CPU times: user 27.5 s, sys: 1.84 s, total: 29.4 s\n",
            "Wall time: 24 s\n"
          ]
        }
      ]
    },
    {
      "cell_type": "code",
      "metadata": {
        "colab": {
          "base_uri": "https://localhost:8080/"
        },
        "id": "N4S3nB9tAc4X",
        "outputId": "83327308-7c4d-4d32-cfdc-818346105429"
      },
      "source": [
        "print(params_samples['linear']['w'].shape) # 10 samples of the weights for first layer"
      ],
      "execution_count": 56,
      "outputs": [
        {
          "output_type": "stream",
          "name": "stdout",
          "text": [
            "(10, 784, 300)\n"
          ]
        }
      ]
    },
    {
      "cell_type": "markdown",
      "metadata": {
        "id": "gC1EIJpH8_Bb"
      },
      "source": [
        "# Uncertainty analysis"
      ]
    },
    {
      "cell_type": "markdown",
      "metadata": {
        "id": "e684Q2Tw9BTS"
      },
      "source": [
        "We select the predictions above a confidence threshold, and compute the predictive accuracy on that subset. As we increase the threshold, the accuracy should increase, but fewer examples will be selected."
      ]
    },
    {
      "cell_type": "code",
      "metadata": {
        "id": "xMenkseG9wQv"
      },
      "source": [
        "test_batch = next(test_batches)\n",
        "from jax_bayes.utils import entropy, certainty_acc"
      ],
      "execution_count": 39,
      "outputs": []
    },
    {
      "cell_type": "code",
      "metadata": {
        "id": "NtzhVPR-9ANv"
      },
      "source": [
        "def plot_acc_vs_confidence(predict_fn, test_batch):\n",
        "  # plot how accuracy changes as we increase the required level of certainty\n",
        "  preds = predict_fn(test_batch) #(batch_size, n_classes) array of probabilities\n",
        "  acc, mask = certainty_acc(preds, test_batch['label'], cert_threshold=0)\n",
        "  thresholds = [0.1 * i for i in range(11)] \n",
        "  cert_accs, pct_certs = [], []\n",
        "  for t in thresholds:\n",
        "    cert_acc, cert_mask = certainty_acc(preds, test_batch['label'], cert_threshold=t)\n",
        "    cert_accs.append(cert_acc)\n",
        "    pct_certs.append(cert_mask.mean())\n",
        "\n",
        "  fig, ax = plt.subplots(1)\n",
        "  line1 = ax.plot(thresholds, cert_accs, label='accuracy at certainty', marker='x')\n",
        "  line2 = ax.axhline(y=acc, label='regular accuracy', color='black')\n",
        "  ax.set_ylabel('accuracy')\n",
        "  ax.set_xlabel('certainty threshold')\n",
        "\n",
        "  axb = ax.twinx()\n",
        "  line3 = axb.plot(thresholds, pct_certs, label='pct of certain preds', \n",
        "                  color='green', marker='x')\n",
        "  axb.set_ylabel('pct certain')\n",
        "\n",
        "  lines = line1 + [line2] + line3\n",
        "  labels = [l.get_label() for l in lines]\n",
        "  ax.legend(lines, labels, loc=6)\n",
        "\n",
        "  return fig, ax"
      ],
      "execution_count": 66,
      "outputs": []
    },
    {
      "cell_type": "markdown",
      "metadata": {
        "id": "iut61vJp9w5h"
      },
      "source": [
        "## SGD\n",
        "\n",
        "For the plugin estimate, the model is very confident on nearly all of the points."
      ]
    },
    {
      "cell_type": "code",
      "metadata": {
        "id": "JDSDCJcfExTh"
      },
      "source": [
        "# plugin approximation to  posterior predictive \n",
        "@jax.jit\n",
        "def posterior_predictive_plugin(params, batch):\n",
        "  logit_pp = net.apply(params, None, batch)\n",
        "  return jax.nn.softmax(logit_pp, axis=-1)"
      ],
      "execution_count": null,
      "outputs": []
    },
    {
      "cell_type": "code",
      "metadata": {
        "colab": {
          "base_uri": "https://localhost:8080/",
          "height": 279
        },
        "id": "MSV8qbLX9zca",
        "outputId": "77d38ed6-a43d-4f7a-ba8d-fc217da1f0a3"
      },
      "source": [
        "\n",
        "def pred_fn(batch):\n",
        "  return posterior_predictive_plugin(params_sgd, batch)\n",
        "\n",
        "fig, ax = plot_acc_vs_confidence(pred_fn, test_batch)\n",
        "plt.savefig('acc-vs-conf-sgd.pdf')\n",
        "plt.show()"
      ],
      "execution_count": 85,
      "outputs": [
        {
          "output_type": "display_data",
          "data": {
            "image/png": "[encoded data removed]",
            "text/plain": [
              "<Figure size 432x288 with 2 Axes>"
            ]
          },
          "metadata": {
            "needs_background": "light"
          }
        }
      ]
    },
    {
      "cell_type": "markdown",
      "metadata": {
        "id": "bArOtdLYC3re"
      },
      "source": [
        "## SGLD"
      ]
    },
    {
      "cell_type": "code",
      "metadata": {
        "id": "30wKQSDNC4l9"
      },
      "source": [
        "\n",
        "def posterior_predictive_bayes(params_sampled, batch):\n",
        "  \"\"\"computes the posterior_predictive P(class = c | inputs, params) using a histogram\n",
        "  \"\"\"\n",
        "  pred_fn = lambda p:net.apply(p, jax.random.PRNGKey(0), batch) \n",
        "  pred_fn = jax.vmap(pred_fn)\n",
        "\n",
        "  logit_samples = pred_fn(params_sampled) # n_samples x batch_size x n_classes\n",
        "  pred_samples = jnp.argmax(logit_samples, axis=-1) #n_samples x batch_size\n",
        "\n",
        "  n_classes = logit_samples.shape[-1]\n",
        "  batch_size = logit_samples.shape[1]\n",
        "  probs = np.zeros((batch_size, n_classes))\n",
        "  for c in range(n_classes):\n",
        "    idxs = pred_samples == c\n",
        "    probs[:,c] = idxs.sum(axis=0)\n",
        "\n",
        "  return probs / probs.sum(axis=1, keepdims=True)"
      ],
      "execution_count": 63,
      "outputs": []
    },
    {
      "cell_type": "code",
      "metadata": {
        "colab": {
          "base_uri": "https://localhost:8080/",
          "height": 279
        },
        "id": "NrUeEvkoDdo-",
        "outputId": "a9f101c0-baff-4be1-e548-e8626e12dcf7"
      },
      "source": [
        "def pred_fn(batch):\n",
        "  return posterior_predictive_bayes(params_samples, batch)\n",
        "\n",
        "fig, ax = plot_acc_vs_confidence(pred_fn, test_batch)\n",
        "plt.savefig('acc-vs-conf-sgld.pdf')\n",
        "plt.show()"
      ],
      "execution_count": 86,
      "outputs": [
        {
          "output_type": "display_data",
          "data": {
            "image/png": "[encoded data removed]",
            "text/plain": [
              "<Figure size 432x288 with 2 Axes>"
            ]
          },
          "metadata": {
            "needs_background": "light"
          }
        }
      ]
    },
    {
      "cell_type": "markdown",
      "metadata": {
        "id": "GqINlARzETGs"
      },
      "source": [
        "# Distribution shift\n",
        "\n",
        "We now examine the behavior of the models on the Fashion MNIST dataset.\n",
        "We expect the predictions to be much less confident, since the inputs are now 'out of distribution'. We will see that this is true for the Bayesian approach, but not for the plugin approximation. "
      ]
    },
    {
      "cell_type": "code",
      "metadata": {
        "id": "5NkcBnZ-EhMG"
      },
      "source": [
        "\n",
        "fashion_ds = tfds.load('fashion_mnist:3.*.*', split=\"test\").cache().repeat()\n",
        "fashion_test_batches = tfds.as_numpy(fashion_ds.batch(10_000))\n",
        "fashion_test_batches = iter(fashion_test_batches)\n",
        "\n",
        "fashion_batch = next(fashion_test_batches)"
      ],
      "execution_count": 72,
      "outputs": []
    },
    {
      "cell_type": "markdown",
      "metadata": {
        "id": "ztiLGAp7Eqxt"
      },
      "source": [
        "## SGD\n",
        "\n",
        "We see that the plugin estimate is confident (but wrong!) on many of the predictions, which is undesirable.\n",
        "If consider a confidence threshold of 0.6, \n",
        "the plugin approach predicts on about 80% of the examples,\n",
        "even though the accuracy is only about 6% on these."
      ]
    },
    {
      "cell_type": "code",
      "metadata": {
        "colab": {
          "base_uri": "https://localhost:8080/",
          "height": 279
        },
        "id": "CISeZjWmEre2",
        "outputId": "285ac006-24ba-4409-fb18-2157e7bd96ca"
      },
      "source": [
        "\n",
        "def pred_fn(batch):\n",
        "  return posterior_predictive_plugin(params_sgd, batch)\n",
        "\n",
        "fig, ax = plot_acc_vs_confidence(pred_fn, fashion_batch)\n",
        "plt.savefig('acc-vs-conf-sgd-fashion.pdf')\n",
        "plt.show()"
      ],
      "execution_count": 87,
      "outputs": [
        {
          "output_type": "display_data",
          "data": {
            "image/png": "[encoded data removed]",
            "text/plain": [
              "<Figure size 432x288 with 2 Axes>"
            ]
          },
          "metadata": {
            "needs_background": "light"
          }
        }
      ]
    },
    {
      "cell_type": "markdown",
      "metadata": {
        "id": "qwBM58OJGUgO"
      },
      "source": [
        "## SGLD\n",
        "\n",
        "If consider a confidence threshold of 0.6, \n",
        "the Bayesian approach predicts on less than 20% of the examples,\n",
        "on which the accuracy is ~4%.\n"
      ]
    },
    {
      "cell_type": "code",
      "metadata": {
        "colab": {
          "base_uri": "https://localhost:8080/",
          "height": 279
        },
        "id": "8uJGI2D7GVNG",
        "outputId": "e330dabb-91f0-422c-fd59-103f53aae8f4"
      },
      "source": [
        "def pred_fn(batch):\n",
        "  return posterior_predictive_bayes(params_samples, batch)\n",
        "\n",
        "fig, ax = plot_acc_vs_confidence(pred_fn, fashion_batch)\n",
        "plt.savefig('acc-vs-conf-sgld-fashion.pdf')\n",
        "plt.show()"
      ],
      "execution_count": 88,
      "outputs": [
        {
          "output_type": "display_data",
          "data": {
            "image/png": "[encoded data removed]",
            "text/plain": [
              "<Figure size 432x288 with 2 Axes>"
            ]
          },
          "metadata": {
            "needs_background": "light"
          }
        }
      ]
    }
  ]
}